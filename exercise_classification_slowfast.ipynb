{
  "cells": [
    {
      "cell_type": "markdown",
      "metadata": {
        "id": "OpEPGNddtccp"
      },
      "source": [
        "**Introduction**\n",
        "\n",
        "This is a Google Colab Notebook which trains a PySlowFast model (using pytorchvideo) on a dataset of videos. The dataset's directory should have 3 sub-directories, one for \"train\", \"val\", and \"test\". In each of these directories should be more directories, named with the dataset's classes. Then, within each of these directories should be videos, whose label corresponds to the directory they are placed in (e.g. dataset->train->archery->archery_1.mph).\n",
        "\n",
        "The \"Set-up\" section is used for downloading necessary packages and intiliazing variables. Take a look at the variables (such as file paths), and change them accordingly.\n",
        "\n",
        "The \"Focal Loss and Dataset Distribution\" section has code that finds distribution of the used dataset and uses the information to set up Focal Loss.\n",
        "\n",
        "The \"Class Creation for Dataloaders\" section creates the classes/objects necessary for creating and using dataloaders later in the process. Within this section is a commented code block which would change the transform function to one of a resnet. Uncommenting this code block, and changing the model to \"make_resnet\" in \"Model Creation\" would use a resnet50 instead.\n",
        "\n",
        "The \"Model Creation\" section creates the object that is used as the Lightning Module for the model.\n",
        "\n",
        "The \"Training\" section trains the model using the Trainer from Pytorch Lightning.\n",
        "\n",
        "The \"Testing\" section tests the model using Trainer.test and a custom script that tests every file in the testing dataset.\n",
        "\n",
        "The \"TSNE\" section makes a TSNE."
      ]
    },
    {
      "cell_type": "markdown",
      "metadata": {
        "id": "zF1yCYSsRjY5"
      },
      "source": [
        "# Set-up\n"
      ]
    },
    {
      "cell_type": "code",
      "execution_count": null,
      "metadata": {
        "colab": {
          "base_uri": "https://localhost:8080/"
        },
        "id": "cP8OZwTSRk0W",
        "outputId": "bf473fd7-2df5-4180-ea0e-97487310aad4"
      },
      "outputs": [
        {
          "output_type": "stream",
          "name": "stdout",
          "text": [
            "Mounted at /content/drive\n"
          ]
        }
      ],
      "source": [
        "from google.colab import drive\n",
        "drive.mount('/content/drive')"
      ]
    },
    {
      "cell_type": "code",
      "execution_count": null,
      "metadata": {
        "id": "rsUoGFOVQlw2"
      },
      "outputs": [],
      "source": [
        "%load_ext tensorboard"
      ]
    },
    {
      "cell_type": "code",
      "execution_count": null,
      "metadata": {
        "colab": {
          "base_uri": "https://localhost:8080/"
        },
        "id": "Q0KrecHPgICZ",
        "outputId": "4ca296fa-284c-4e11-dd59-289e97801708"
      },
      "outputs": [
        {
          "output_type": "stream",
          "name": "stdout",
          "text": [
            "Collecting pytorchvideo\n",
            "  Downloading pytorchvideo-0.1.5.tar.gz (132 kB)\n",
            "\u001b[2K     \u001b[90m━━━━━━━━━━━━━━━━━━━━━━━━━━━━━━━━━━━━━━━━\u001b[0m \u001b[32m132.7/132.7 kB\u001b[0m \u001b[31m3.5 MB/s\u001b[0m eta \u001b[36m0:00:00\u001b[0m\n",
            "\u001b[?25h  Preparing metadata (setup.py) ... \u001b[?25l\u001b[?25hdone\n",
            "Collecting fvcore (from pytorchvideo)\n",
            "  Downloading fvcore-0.1.5.post20221221.tar.gz (50 kB)\n",
            "\u001b[2K     \u001b[90m━━━━━━━━━━━━━━━━━━━━━━━━━━━━━━━━━━━━━━━━\u001b[0m \u001b[32m50.2/50.2 kB\u001b[0m \u001b[31m7.0 MB/s\u001b[0m eta \u001b[36m0:00:00\u001b[0m\n",
            "\u001b[?25h  Preparing metadata (setup.py) ... \u001b[?25l\u001b[?25hdone\n",
            "Collecting av (from pytorchvideo)\n",
            "  Downloading av-11.0.0-cp310-cp310-manylinux_2_17_x86_64.manylinux2014_x86_64.whl (32.9 MB)\n",
            "\u001b[2K     \u001b[90m━━━━━━━━━━━━━━━━━━━━━━━━━━━━━━━━━━━━━━━━\u001b[0m \u001b[32m32.9/32.9 MB\u001b[0m \u001b[31m53.8 MB/s\u001b[0m eta \u001b[36m0:00:00\u001b[0m\n",
            "\u001b[?25hCollecting parameterized (from pytorchvideo)\n",
            "  Downloading parameterized-0.9.0-py2.py3-none-any.whl (20 kB)\n",
            "Collecting iopath (from pytorchvideo)\n",
            "  Downloading iopath-0.1.10.tar.gz (42 kB)\n",
            "\u001b[2K     \u001b[90m━━━━━━━━━━━━━━━━━━━━━━━━━━━━━━━━━━━━━━━━\u001b[0m \u001b[32m42.2/42.2 kB\u001b[0m \u001b[31m6.4 MB/s\u001b[0m eta \u001b[36m0:00:00\u001b[0m\n",
            "\u001b[?25h  Preparing metadata (setup.py) ... \u001b[?25l\u001b[?25hdone\n",
            "Requirement already satisfied: networkx in /usr/local/lib/python3.10/dist-packages (from pytorchvideo) (3.2.1)\n",
            "Requirement already satisfied: numpy in /usr/local/lib/python3.10/dist-packages (from fvcore->pytorchvideo) (1.23.5)\n",
            "Collecting yacs>=0.1.6 (from fvcore->pytorchvideo)\n",
            "  Downloading yacs-0.1.8-py3-none-any.whl (14 kB)\n",
            "Requirement already satisfied: pyyaml>=5.1 in /usr/local/lib/python3.10/dist-packages (from fvcore->pytorchvideo) (6.0.1)\n",
            "Requirement already satisfied: tqdm in /usr/local/lib/python3.10/dist-packages (from fvcore->pytorchvideo) (4.66.1)\n",
            "Requirement already satisfied: termcolor>=1.1 in /usr/local/lib/python3.10/dist-packages (from fvcore->pytorchvideo) (2.4.0)\n",
            "Requirement already satisfied: Pillow in /usr/local/lib/python3.10/dist-packages (from fvcore->pytorchvideo) (9.4.0)\n",
            "Requirement already satisfied: tabulate in /usr/local/lib/python3.10/dist-packages (from fvcore->pytorchvideo) (0.9.0)\n",
            "Requirement already satisfied: typing_extensions in /usr/local/lib/python3.10/dist-packages (from iopath->pytorchvideo) (4.5.0)\n",
            "Collecting portalocker (from iopath->pytorchvideo)\n",
            "  Downloading portalocker-2.8.2-py3-none-any.whl (17 kB)\n",
            "Building wheels for collected packages: pytorchvideo, fvcore, iopath\n",
            "  Building wheel for pytorchvideo (setup.py) ... \u001b[?25l\u001b[?25hdone\n",
            "  Created wheel for pytorchvideo: filename=pytorchvideo-0.1.5-py3-none-any.whl size=188685 sha256=b6ec3f1d7cc2d92fd662029a2ee1b2ed75cbb8381e184962bff6c2789d81e58a\n",
            "  Stored in directory: /root/.cache/pip/wheels/ff/4e/81/0f72a543be9ed7eb737c95bfc5da4025e73226b44368074ece\n",
            "  Building wheel for fvcore (setup.py) ... \u001b[?25l\u001b[?25hdone\n",
            "  Created wheel for fvcore: filename=fvcore-0.1.5.post20221221-py3-none-any.whl size=61400 sha256=3eb28bc8f6fa8051dbdbcb0eb1037f6d599f7a29b99ad65994e8c6f9568b332a\n",
            "  Stored in directory: /root/.cache/pip/wheels/01/c0/af/77c1cf53a1be9e42a52b48e5af2169d40ec2e89f7362489dd0\n",
            "  Building wheel for iopath (setup.py) ... \u001b[?25l\u001b[?25hdone\n",
            "  Created wheel for iopath: filename=iopath-0.1.10-py3-none-any.whl size=31532 sha256=7cf7cc492d2425381a5967ede4217b411e6aa64d910df3c68a7f099d117b3b21\n",
            "  Stored in directory: /root/.cache/pip/wheels/9a/a3/b6/ac0fcd1b4ed5cfeb3db92e6a0e476cfd48ed0df92b91080c1d\n",
            "Successfully built pytorchvideo fvcore iopath\n",
            "Installing collected packages: yacs, portalocker, parameterized, av, iopath, fvcore, pytorchvideo\n",
            "Successfully installed av-11.0.0 fvcore-0.1.5.post20221221 iopath-0.1.10 parameterized-0.9.0 portalocker-2.8.2 pytorchvideo-0.1.5 yacs-0.1.8\n",
            "Collecting pytorch_lightning\n",
            "  Downloading pytorch_lightning-2.1.3-py3-none-any.whl (777 kB)\n",
            "\u001b[2K     \u001b[90m━━━━━━━━━━━━━━━━━━━━━━━━━━━━━━━━━━━━━━━━\u001b[0m \u001b[32m777.7/777.7 kB\u001b[0m \u001b[31m9.3 MB/s\u001b[0m eta \u001b[36m0:00:00\u001b[0m\n",
            "\u001b[?25hRequirement already satisfied: numpy>=1.17.2 in /usr/local/lib/python3.10/dist-packages (from pytorch_lightning) (1.23.5)\n",
            "Requirement already satisfied: torch>=1.12.0 in /usr/local/lib/python3.10/dist-packages (from pytorch_lightning) (2.1.0+cu121)\n",
            "Requirement already satisfied: tqdm>=4.57.0 in /usr/local/lib/python3.10/dist-packages (from pytorch_lightning) (4.66.1)\n",
            "Requirement already satisfied: PyYAML>=5.4 in /usr/local/lib/python3.10/dist-packages (from pytorch_lightning) (6.0.1)\n",
            "Requirement already satisfied: fsspec[http]>=2022.5.0 in /usr/local/lib/python3.10/dist-packages (from pytorch_lightning) (2023.6.0)\n",
            "Collecting torchmetrics>=0.7.0 (from pytorch_lightning)\n",
            "  Downloading torchmetrics-1.2.1-py3-none-any.whl (806 kB)\n",
            "\u001b[2K     \u001b[90m━━━━━━━━━━━━━━━━━━━━━━━━━━━━━━━━━━━━━━━━\u001b[0m \u001b[32m806.1/806.1 kB\u001b[0m \u001b[31m20.6 MB/s\u001b[0m eta \u001b[36m0:00:00\u001b[0m\n",
            "\u001b[?25hRequirement already satisfied: packaging>=20.0 in /usr/local/lib/python3.10/dist-packages (from pytorch_lightning) (23.2)\n",
            "Requirement already satisfied: typing-extensions>=4.0.0 in /usr/local/lib/python3.10/dist-packages (from pytorch_lightning) (4.5.0)\n",
            "Collecting lightning-utilities>=0.8.0 (from pytorch_lightning)\n",
            "  Downloading lightning_utilities-0.10.0-py3-none-any.whl (24 kB)\n",
            "Requirement already satisfied: requests in /usr/local/lib/python3.10/dist-packages (from fsspec[http]>=2022.5.0->pytorch_lightning) (2.31.0)\n",
            "Requirement already satisfied: aiohttp!=4.0.0a0,!=4.0.0a1 in /usr/local/lib/python3.10/dist-packages (from fsspec[http]>=2022.5.0->pytorch_lightning) (3.9.1)\n",
            "Requirement already satisfied: setuptools in /usr/local/lib/python3.10/dist-packages (from lightning-utilities>=0.8.0->pytorch_lightning) (67.7.2)\n",
            "Requirement already satisfied: filelock in /usr/local/lib/python3.10/dist-packages (from torch>=1.12.0->pytorch_lightning) (3.13.1)\n",
            "Requirement already satisfied: sympy in /usr/local/lib/python3.10/dist-packages (from torch>=1.12.0->pytorch_lightning) (1.12)\n",
            "Requirement already satisfied: networkx in /usr/local/lib/python3.10/dist-packages (from torch>=1.12.0->pytorch_lightning) (3.2.1)\n",
            "Requirement already satisfied: jinja2 in /usr/local/lib/python3.10/dist-packages (from torch>=1.12.0->pytorch_lightning) (3.1.2)\n",
            "Requirement already satisfied: triton==2.1.0 in /usr/local/lib/python3.10/dist-packages (from torch>=1.12.0->pytorch_lightning) (2.1.0)\n",
            "Requirement already satisfied: attrs>=17.3.0 in /usr/local/lib/python3.10/dist-packages (from aiohttp!=4.0.0a0,!=4.0.0a1->fsspec[http]>=2022.5.0->pytorch_lightning) (23.1.0)\n",
            "Requirement already satisfied: multidict<7.0,>=4.5 in /usr/local/lib/python3.10/dist-packages (from aiohttp!=4.0.0a0,!=4.0.0a1->fsspec[http]>=2022.5.0->pytorch_lightning) (6.0.4)\n",
            "Requirement already satisfied: yarl<2.0,>=1.0 in /usr/local/lib/python3.10/dist-packages (from aiohttp!=4.0.0a0,!=4.0.0a1->fsspec[http]>=2022.5.0->pytorch_lightning) (1.9.4)\n",
            "Requirement already satisfied: frozenlist>=1.1.1 in /usr/local/lib/python3.10/dist-packages (from aiohttp!=4.0.0a0,!=4.0.0a1->fsspec[http]>=2022.5.0->pytorch_lightning) (1.4.1)\n",
            "Requirement already satisfied: aiosignal>=1.1.2 in /usr/local/lib/python3.10/dist-packages (from aiohttp!=4.0.0a0,!=4.0.0a1->fsspec[http]>=2022.5.0->pytorch_lightning) (1.3.1)\n",
            "Requirement already satisfied: async-timeout<5.0,>=4.0 in /usr/local/lib/python3.10/dist-packages (from aiohttp!=4.0.0a0,!=4.0.0a1->fsspec[http]>=2022.5.0->pytorch_lightning) (4.0.3)\n",
            "Requirement already satisfied: MarkupSafe>=2.0 in /usr/local/lib/python3.10/dist-packages (from jinja2->torch>=1.12.0->pytorch_lightning) (2.1.3)\n",
            "Requirement already satisfied: charset-normalizer<4,>=2 in /usr/local/lib/python3.10/dist-packages (from requests->fsspec[http]>=2022.5.0->pytorch_lightning) (3.3.2)\n",
            "Requirement already satisfied: idna<4,>=2.5 in /usr/local/lib/python3.10/dist-packages (from requests->fsspec[http]>=2022.5.0->pytorch_lightning) (3.6)\n",
            "Requirement already satisfied: urllib3<3,>=1.21.1 in /usr/local/lib/python3.10/dist-packages (from requests->fsspec[http]>=2022.5.0->pytorch_lightning) (2.0.7)\n",
            "Requirement already satisfied: certifi>=2017.4.17 in /usr/local/lib/python3.10/dist-packages (from requests->fsspec[http]>=2022.5.0->pytorch_lightning) (2023.11.17)\n",
            "Requirement already satisfied: mpmath>=0.19 in /usr/local/lib/python3.10/dist-packages (from sympy->torch>=1.12.0->pytorch_lightning) (1.3.0)\n",
            "Installing collected packages: lightning-utilities, torchmetrics, pytorch_lightning\n",
            "Successfully installed lightning-utilities-0.10.0 pytorch_lightning-2.1.3 torchmetrics-1.2.1\n"
          ]
        }
      ],
      "source": [
        "!pip install pytorchvideo\n",
        "!pip install pytorch_lightning"
      ]
    },
    {
      "cell_type": "code",
      "execution_count": null,
      "metadata": {
        "id": "2ykMDjE9PI-R",
        "colab": {
          "base_uri": "https://localhost:8080/"
        },
        "outputId": "0def9988-c2d4-4690-a728-d3b1c9d987de"
      },
      "outputs": [
        {
          "output_type": "stream",
          "name": "stderr",
          "text": [
            "/usr/local/lib/python3.10/dist-packages/torchvision/transforms/functional_tensor.py:5: UserWarning: The torchvision.transforms.functional_tensor module is deprecated in 0.15 and will be **removed in 0.17**. Please don't rely on it. You probably just need to use APIs in torchvision.transforms.functional or in torchvision.transforms.v2.functional.\n",
            "  warnings.warn(\n",
            "/usr/local/lib/python3.10/dist-packages/torchvision/transforms/_functional_video.py:6: UserWarning: The 'torchvision.transforms._functional_video' module is deprecated since 0.12 and will be removed in the future. Please use the 'torchvision.transforms.functional' module instead.\n",
            "  warnings.warn(\n",
            "/usr/local/lib/python3.10/dist-packages/torchvision/transforms/_transforms_video.py:22: UserWarning: The 'torchvision.transforms._transforms_video' module is deprecated since 0.12 and will be removed in the future. Please use the 'torchvision.transforms' module instead.\n",
            "  warnings.warn(\n"
          ]
        }
      ],
      "source": [
        "import os\n",
        "import pytorch_lightning\n",
        "import pytorchvideo.data\n",
        "import torch.utils.data\n",
        "import torchvision\n",
        "import pytorchvideo\n",
        "import pytorchvideo.transforms\n",
        "from torch.nn.functional import softmax\n",
        "from typing import Dict\n",
        "import json\n",
        "import urllib\n",
        "from torchvision.transforms import Compose, Lambda\n",
        "from torchvision.transforms._transforms_video import (\n",
        "    CenterCropVideo,\n",
        "    NormalizeVideo,\n",
        ")\n",
        "from pytorchvideo.data.encoded_video import EncodedVideo\n",
        "from pytorchvideo.transforms import (\n",
        "    ApplyTransformToKey,\n",
        "    ShortSideScale,\n",
        "    UniformTemporalSubsample,\n",
        "    UniformCropVideo\n",
        ")\n",
        "import sklearn\n",
        "#from sklearn.metrics import accuracy_score"
      ]
    },
    {
      "cell_type": "code",
      "execution_count": null,
      "metadata": {
        "id": "NxNxaoChPXVV"
      },
      "outputs": [],
      "source": [
        "input_dir = '/content/drive/MyDrive/Research/Muscle Video/Datasets/split_workout_videos_v1'\n",
        "model_name = \"slowfast_r50\"\n",
        "checkpoint_path = '/content/drive/MyDrive/Research/Muscle Video/Checkpoints/Split/Pretrained' + '/' + model_name\n",
        "\n",
        "num_classes=16\n",
        "batch_size = 8\n",
        "num_workers = 8\n",
        "side_size = 256\n",
        "mean = [0.45, 0.45, 0.45]\n",
        "std = [0.225, 0.225, 0.225]\n",
        "crop_size = 256\n",
        "num_frames = 32\n",
        "sampling_rate = 2\n",
        "frames_per_second = 30\n",
        "slowfast_alpha = 4\n",
        "clip_duration = (num_frames * sampling_rate)/frames_per_second\n",
        "device=('cuda' if torch.cuda.is_available() else 'cpu')\n",
        "pretrained=True\n",
        "learning_rate=0.0001\n",
        "dropout_rate = 0.6\n",
        "gamma = 2"
      ]
    },
    {
      "cell_type": "code",
      "execution_count": null,
      "metadata": {
        "colab": {
          "base_uri": "https://localhost:8080/"
        },
        "id": "1r7rgq6C8XWS",
        "outputId": "086bbcf3-7264-4dae-ddd7-6d06b36ccf91"
      },
      "outputs": [
        {
          "output_type": "execute_result",
          "data": {
            "text/plain": [
              "8"
            ]
          },
          "metadata": {},
          "execution_count": 6
        }
      ],
      "source": [
        "import multiprocessing\n",
        "\n",
        "cores = multiprocessing.cpu_count() # Count the number of cores in a computer\n",
        "cores"
      ]
    },
    {
      "cell_type": "code",
      "execution_count": null,
      "metadata": {
        "id": "AWfh_LFES6Ew"
      },
      "outputs": [],
      "source": [
        "'''\n",
        "pred_to_class = {\n",
        "    0: \"barbell biceps curl\",\n",
        "    1: \"bench press\",\n",
        "    2: \"chest fly machine\",\n",
        "    3: \"deadlift\",\n",
        "    4: \"decline bench press\",\n",
        "    5: \"hammer curl\",\n",
        "    6: \"hip thrust\",\n",
        "    7: \"incline bench press\",\n",
        "    8: \"lat pulldown\",\n",
        "    9: \"lateral raise\",\n",
        "    10: \"leg extension\",\n",
        "    11: \"leg raises\",\n",
        "    12: \"plank\",\n",
        "    13: \"pull Up\",\n",
        "    14: \"push-up\",\n",
        "    15: \"romanian deadlift\",\n",
        "    16: \"russian twist\",\n",
        "    17: \"shoulder press\",\n",
        "    18: \"squat\",\n",
        "    19: \"t bar row\",\n",
        "    20: \"tricep Pushdown\",\n",
        "    21: \"tricep dips\"\n",
        "}\n",
        "'''\n",
        "pred_to_class = {\n",
        "    0: \"bench press\",\n",
        "    1: \"bicep curl\",\n",
        "    2: \"chest fly machine\",\n",
        "    3: \"deadlift\",\n",
        "    4: \"hip thrust\",\n",
        "    5: \"lat pulling\",\n",
        "    6: \"lateral raise\",\n",
        "    7: \"leg extension\",\n",
        "    8: \"leg raises\",\n",
        "    9: \"push-up\",\n",
        "    10: \"russian twist\",\n",
        "    11: \"shoulder press\",\n",
        "    12: \"squat\",\n",
        "    13: \"t bar row\",\n",
        "    14: \"tricep Pushdown\",\n",
        "    15: \"tricep dips\"\n",
        "}"
      ]
    },
    {
      "cell_type": "markdown",
      "source": [
        "# Focal Loss and Dataset Distribution\n",
        "\n"
      ],
      "metadata": {
        "id": "vUCYRaUcwEN2"
      }
    },
    {
      "cell_type": "code",
      "source": [
        "dataset = input_dir"
      ],
      "metadata": {
        "id": "zkyHFtPZwCi1"
      },
      "execution_count": null,
      "outputs": []
    },
    {
      "cell_type": "code",
      "source": [
        "train_class_values = {}\n",
        "test_class_values = {}\n",
        "val_class_values = {}\n",
        "for split in os.listdir(dataset):\n",
        "  new_path = os.path.join(dataset, split)\n",
        "  for classname in os.listdir(new_path):\n",
        "    class_path = os.path.join(new_path, classname)\n",
        "    num_samples = len(os.listdir(class_path))\n",
        "    print(\"In the\", split, \"split, for the\", classname, \"class, there are\", num_samples, \"samples.\")\n",
        "    if split==\"train\":\n",
        "      train_class_values[classname] = num_samples\n",
        "    if split==\"test\":\n",
        "      test_class_values[classname] = num_samples\n",
        "    if split==\"val\":\n",
        "      val_class_values[classname] = num_samples"
      ],
      "metadata": {
        "colab": {
          "base_uri": "https://localhost:8080/"
        },
        "id": "ZgUMwMFIwU-D",
        "outputId": "de9a929c-dc35-49a7-9075-488da6f3ddd9"
      },
      "execution_count": null,
      "outputs": [
        {
          "output_type": "stream",
          "name": "stdout",
          "text": [
            "In the train split, for the bench press class, there are 183 samples.\n",
            "In the train split, for the lateral raise class, there are 67 samples.\n",
            "In the train split, for the chest fly machine class, there are 49 samples.\n",
            "In the train split, for the hip thrust class, there are 55 samples.\n",
            "In the train split, for the deadlift class, there are 129 samples.\n",
            "In the train split, for the leg extension class, there are 53 samples.\n",
            "In the train split, for the push-up class, there are 78 samples.\n",
            "In the train split, for the squat class, there are 77 samples.\n",
            "In the train split, for the leg raises class, there are 43 samples.\n",
            "In the train split, for the t bar row class, there are 60 samples.\n",
            "In the train split, for the shoulder press class, there are 42 samples.\n",
            "In the train split, for the russian twist class, there are 53 samples.\n",
            "In the train split, for the tricep Pushdown class, there are 40 samples.\n",
            "In the train split, for the tricep dips class, there are 72 samples.\n",
            "In the train split, for the bicep curl class, there are 106 samples.\n",
            "In the train split, for the lat pulling class, there are 111 samples.\n",
            "In the test split, for the bench press class, there are 37 samples.\n",
            "In the test split, for the lateral raise class, there are 33 samples.\n",
            "In the test split, for the chest fly machine class, there are 18 samples.\n",
            "In the test split, for the hip thrust class, there are 15 samples.\n",
            "In the test split, for the deadlift class, there are 49 samples.\n",
            "In the test split, for the leg extension class, there are 20 samples.\n",
            "In the test split, for the push-up class, there are 38 samples.\n",
            "In the test split, for the squat class, there are 39 samples.\n",
            "In the test split, for the leg raises class, there are 17 samples.\n",
            "In the test split, for the t bar row class, there are 28 samples.\n",
            "In the test split, for the shoulder press class, there are 23 samples.\n",
            "In the test split, for the russian twist class, there are 19 samples.\n",
            "In the test split, for the tricep Pushdown class, there are 17 samples.\n",
            "In the test split, for the tricep dips class, there are 25 samples.\n",
            "In the test split, for the bicep curl class, there are 30 samples.\n",
            "In the test split, for the lat pulling class, there are 34 samples.\n",
            "In the val split, for the bench press class, there are 37 samples.\n",
            "In the val split, for the lateral raise class, there are 33 samples.\n",
            "In the val split, for the chest fly machine class, there are 18 samples.\n",
            "In the val split, for the hip thrust class, there are 16 samples.\n",
            "In the val split, for the deadlift class, there are 49 samples.\n",
            "In the val split, for the leg extension class, there are 20 samples.\n",
            "In the val split, for the push-up class, there are 38 samples.\n",
            "In the val split, for the squat class, there are 39 samples.\n",
            "In the val split, for the leg raises class, there are 17 samples.\n",
            "In the val split, for the t bar row class, there are 28 samples.\n",
            "In the val split, for the shoulder press class, there are 23 samples.\n",
            "In the val split, for the russian twist class, there are 19 samples.\n",
            "In the val split, for the tricep Pushdown class, there are 17 samples.\n",
            "In the val split, for the tricep dips class, there are 25 samples.\n",
            "In the val split, for the bicep curl class, there are 30 samples.\n",
            "In the val split, for the lat pulling class, there are 34 samples.\n"
          ]
        }
      ]
    },
    {
      "cell_type": "code",
      "source": [
        "train_class_values"
      ],
      "metadata": {
        "id": "J52qFuM_wW87",
        "colab": {
          "base_uri": "https://localhost:8080/"
        },
        "outputId": "b8210175-12ee-4a9d-e00d-9854cfdb7d80"
      },
      "execution_count": null,
      "outputs": [
        {
          "output_type": "execute_result",
          "data": {
            "text/plain": [
              "{'bench press': 183,\n",
              " 'lateral raise': 67,\n",
              " 'chest fly machine': 49,\n",
              " 'hip thrust': 55,\n",
              " 'deadlift': 129,\n",
              " 'leg extension': 53,\n",
              " 'push-up': 78,\n",
              " 'squat': 77,\n",
              " 'leg raises': 43,\n",
              " 't bar row': 60,\n",
              " 'shoulder press': 42,\n",
              " 'russian twist': 53,\n",
              " 'tricep Pushdown': 40,\n",
              " 'tricep dips': 72,\n",
              " 'bicep curl': 106,\n",
              " 'lat pulling': 111}"
            ]
          },
          "metadata": {},
          "execution_count": 14
        }
      ]
    },
    {
      "cell_type": "code",
      "source": [
        "test_class_values"
      ],
      "metadata": {
        "colab": {
          "base_uri": "https://localhost:8080/"
        },
        "id": "LiXlkXzk2Tj9",
        "outputId": "b12fdee3-87ae-423e-adaf-2bd9755d92b5"
      },
      "execution_count": null,
      "outputs": [
        {
          "output_type": "execute_result",
          "data": {
            "text/plain": [
              "{'bench press': 37,\n",
              " 'lateral raise': 33,\n",
              " 'chest fly machine': 18,\n",
              " 'hip thrust': 15,\n",
              " 'deadlift': 49,\n",
              " 'leg extension': 20,\n",
              " 'push-up': 38,\n",
              " 'squat': 39,\n",
              " 'leg raises': 17,\n",
              " 't bar row': 28,\n",
              " 'shoulder press': 23,\n",
              " 'russian twist': 19,\n",
              " 'tricep Pushdown': 17,\n",
              " 'tricep dips': 25,\n",
              " 'bicep curl': 30,\n",
              " 'lat pulling': 34}"
            ]
          },
          "metadata": {},
          "execution_count": 15
        }
      ]
    },
    {
      "cell_type": "code",
      "source": [
        "val_class_values"
      ],
      "metadata": {
        "colab": {
          "base_uri": "https://localhost:8080/"
        },
        "id": "0m0eTKZlWHrO",
        "outputId": "2a4c6c3b-a40d-4711-f125-6309a7d6a421"
      },
      "execution_count": null,
      "outputs": [
        {
          "output_type": "execute_result",
          "data": {
            "text/plain": [
              "{'bench press': 37,\n",
              " 'lateral raise': 33,\n",
              " 'chest fly machine': 18,\n",
              " 'hip thrust': 16,\n",
              " 'deadlift': 49,\n",
              " 'leg extension': 20,\n",
              " 'push-up': 38,\n",
              " 'squat': 39,\n",
              " 'leg raises': 17,\n",
              " 't bar row': 28,\n",
              " 'shoulder press': 23,\n",
              " 'russian twist': 19,\n",
              " 'tricep Pushdown': 17,\n",
              " 'tricep dips': 25,\n",
              " 'bicep curl': 30,\n",
              " 'lat pulling': 34}"
            ]
          },
          "metadata": {},
          "execution_count": 16
        }
      ]
    },
    {
      "cell_type": "code",
      "source": [
        "id_to_label = {\n",
        "    0: [1.0, 0.0, 0.0, 0.0, 0.0, 1.0, 0.0, 0.0, 1.0, 0.0, 0.0],\n",
        "    1: [0.0, 0.0, 1.0, 0.0, 0.0, 0.0, 0.0, 0.0, 0.0, 0.0, 0.0],\n",
        "    2: [0.0, 0.0, 0.0, 0.0, 0.0, 0.0, 0.0, 0.0, 1.0, 0.0, 0.0],\n",
        "    3: [0.0, 0.0, 0.0, 0.0, 1.0, 0.0, 0.0, 0.0, 0.0, 1.0, 1.0],\n",
        "    4: [0.0, 0.0, 0.0, 0.0, 1.0, 0.0, 0.0, 0.0, 0.0, 0.0, 0.0],\n",
        "    5: [0.0, 1.0, 1.0, 0.0, 0.0, 0.0, 0.0, 0.0, 0.0, 0.0, 0.0],\n",
        "    6: [0.0, 0.0, 0.0, 0.0, 0.0, 1.0, 0.0, 0.0, 0.0, 0.0, 0.0],\n",
        "    7: [0.0, 0.0, 0.0, 1.0, 0.0, 0.0, 0.0, 0.0, 0.0, 0.0, 0.0],\n",
        "    8: [0.0, 0.0, 0.0, 0.0, 0.0, 0.0, 1.0, 0.0, 0.0, 0.0, 0.0],\n",
        "    9: [1.0, 0.0, 0.0, 0.0, 0.0, 1.0, 0.0, 0.0, 1.0, 0.0, 0.0],\n",
        "    10: [0.0, 0.0, 0.0, 0.0, 0.0, 0.0, 1.0, 1.0, 0.0, 0.0, 0.0],\n",
        "    11: [0.0, 0.0, 0.0, 0.0, 0.0, 1.0, 0.0, 0.0, 0.0, 0.0, 0.0],\n",
        "    12: [0.0, 0.0, 0.0, 1.0, 1.0, 0.0, 0.0, 0.0, 0.0, 0.0, 1.0],\n",
        "    13: [0.0, 1.0, 1.0, 0.0, 0.0, 0.0, 0.0, 0.0, 0.0, 0.0, 0.0],\n",
        "    14: [1.0, 0.0, 0.0, 0.0, 0.0, 0.0, 0.0, 0.0, 0.0, 0.0, 0.0],\n",
        "    15: [1.0, 0.0, 0.0, 0.0, 0.0, 0.0, 0.0, 0.0, 0.0, 0.0, 0.0],\n",
        "}\n",
        "\n",
        "class_to_id = dict([(value, key) for key, value in pred_to_class.items()])"
      ],
      "metadata": {
        "id": "ZCRgEttPWGhw"
      },
      "execution_count": null,
      "outputs": []
    },
    {
      "cell_type": "code",
      "source": [
        "train_label_count = [0, 0, 0, 0, 0, 0, 0, 0, 0, 0, 0]\n",
        "for classname in train_class_values:\n",
        "  id = class_to_id[classname]\n",
        "  label_thing = id_to_label[id].copy()\n",
        "\n",
        "  for x in range(0, 11):\n",
        "    label_thing[x]= label_thing[x] * train_class_values[classname]\n",
        "    train_label_count[x] += label_thing[x]"
      ],
      "metadata": {
        "id": "8XlW1nuBXUFv"
      },
      "execution_count": null,
      "outputs": []
    },
    {
      "cell_type": "code",
      "source": [
        "train_label_count"
      ],
      "metadata": {
        "colab": {
          "base_uri": "https://localhost:8080/"
        },
        "id": "30Zkquj-YHCU",
        "outputId": "3d14b0ef-0d0c-48a0-aaee-dc21dcd5715d"
      },
      "execution_count": null,
      "outputs": [
        {
          "output_type": "execute_result",
          "data": {
            "text/plain": [
              "[373.0, 171.0, 277.0, 130.0, 261.0, 370.0, 96.0, 53.0, 310.0, 129.0, 206.0]"
            ]
          },
          "metadata": {},
          "execution_count": 35
        }
      ]
    },
    {
      "cell_type": "code",
      "source": [
        "val_label_count = [0, 0, 0, 0, 0, 0, 0, 0, 0, 0, 0]\n",
        "for classname in val_class_values:\n",
        "  id = class_to_id[classname]\n",
        "  label_thing = id_to_label[id].copy()\n",
        "\n",
        "  for x in range(0, 11):\n",
        "    label_thing[x]= label_thing[x] * val_class_values[classname]\n",
        "    val_label_count[x] += label_thing[x]"
      ],
      "metadata": {
        "id": "0ucP-rl8Yaua"
      },
      "execution_count": null,
      "outputs": []
    },
    {
      "cell_type": "code",
      "source": [
        "val_label_count"
      ],
      "metadata": {
        "id": "GcHcfa9xYpLT",
        "outputId": "36a4dc12-57b8-42a8-d781-88f94b8d03eb",
        "colab": {
          "base_uri": "https://localhost:8080/"
        }
      },
      "execution_count": null,
      "outputs": [
        {
          "output_type": "execute_result",
          "data": {
            "text/plain": [
              "[117.0, 62.0, 92.0, 59.0, 104.0, 131.0, 36.0, 19.0, 93.0, 49.0, 88.0]"
            ]
          },
          "metadata": {},
          "execution_count": 39
        }
      ]
    },
    {
      "cell_type": "code",
      "source": [
        "test_label_count = [0, 0, 0, 0, 0, 0, 0, 0, 0, 0, 0]\n",
        "for classname in test_class_values:\n",
        "  id = class_to_id[classname]\n",
        "  label_thing = id_to_label[id].copy()\n",
        "\n",
        "  for x in range(0, 11):\n",
        "    label_thing[x]= label_thing[x] * test_class_values[classname]\n",
        "    test_label_count[x] += label_thing[x]"
      ],
      "metadata": {
        "id": "BI2EIaTjYlzr"
      },
      "execution_count": null,
      "outputs": []
    },
    {
      "cell_type": "code",
      "source": [
        "test_label_count"
      ],
      "metadata": {
        "id": "n7o0lgctYqme",
        "outputId": "08feaa3d-ac6d-4d26-fa25-f3829be5d192",
        "colab": {
          "base_uri": "https://localhost:8080/"
        }
      },
      "execution_count": null,
      "outputs": [
        {
          "output_type": "execute_result",
          "data": {
            "text/plain": [
              "[117.0, 62.0, 92.0, 59.0, 103.0, 131.0, 36.0, 19.0, 93.0, 49.0, 88.0]"
            ]
          },
          "metadata": {},
          "execution_count": 40
        }
      ]
    },
    {
      "cell_type": "code",
      "source": [
        "total = 0\n",
        "for classname in train_class_values:\n",
        "  total = total + train_class_values[classname]"
      ],
      "metadata": {
        "id": "mk3hYAv8wYRp"
      },
      "execution_count": null,
      "outputs": []
    },
    {
      "cell_type": "code",
      "source": [
        "total"
      ],
      "metadata": {
        "colab": {
          "base_uri": "https://localhost:8080/"
        },
        "id": "4MOJ-pjYwZcI",
        "outputId": "041d4200-2578-47ce-c334-dde77c919270"
      },
      "execution_count": null,
      "outputs": [
        {
          "output_type": "execute_result",
          "data": {
            "text/plain": [
              "1218"
            ]
          },
          "metadata": {},
          "execution_count": 13
        }
      ]
    },
    {
      "cell_type": "code",
      "source": [
        "total_test = 0\n",
        "for classname in test_class_values:\n",
        "  total_test = total_test + test_class_values[classname]"
      ],
      "metadata": {
        "id": "ImR0pmXb2hcy"
      },
      "execution_count": null,
      "outputs": []
    },
    {
      "cell_type": "code",
      "source": [
        "total_test"
      ],
      "metadata": {
        "colab": {
          "base_uri": "https://localhost:8080/"
        },
        "id": "OJcfnMzQ2n3j",
        "outputId": "183ba716-1136-487a-f983-4f729b09f51c"
      },
      "execution_count": null,
      "outputs": [
        {
          "output_type": "execute_result",
          "data": {
            "text/plain": [
              "442"
            ]
          },
          "metadata": {},
          "execution_count": 15
        }
      ]
    },
    {
      "cell_type": "code",
      "source": [
        "total_val = 0\n",
        "for classname in val_class_values:\n",
        "  total_val += val_class_values[classname]"
      ],
      "metadata": {
        "id": "VTK4BGvNWWKv"
      },
      "execution_count": null,
      "outputs": []
    },
    {
      "cell_type": "code",
      "source": [
        "total_val"
      ],
      "metadata": {
        "colab": {
          "base_uri": "https://localhost:8080/"
        },
        "id": "sQZkHKkOWcCj",
        "outputId": "575d1d61-87b2-4cb7-8241-c7c96cfe10b2"
      },
      "execution_count": null,
      "outputs": [
        {
          "output_type": "execute_result",
          "data": {
            "text/plain": [
              "443"
            ]
          },
          "metadata": {},
          "execution_count": 18
        }
      ]
    },
    {
      "cell_type": "code",
      "source": [
        "class_weights = {}\n",
        "for classname in train_class_values:\n",
        "  weight = 1 / (train_class_values[classname] / total)\n",
        "  class_weights[classname] = weight"
      ],
      "metadata": {
        "id": "pIvbIiLYwarE"
      },
      "execution_count": null,
      "outputs": []
    },
    {
      "cell_type": "code",
      "source": [
        "class_weights"
      ],
      "metadata": {
        "colab": {
          "base_uri": "https://localhost:8080/"
        },
        "id": "kEgZyxCSwcYr",
        "outputId": "78c957b0-7fa9-4fad-f6f4-24459e0b1a19"
      },
      "execution_count": null,
      "outputs": [
        {
          "output_type": "execute_result",
          "data": {
            "text/plain": [
              "{'bench press': 6.655737704918033,\n",
              " 'lateral raise': 18.17910447761194,\n",
              " 'chest fly machine': 24.857142857142858,\n",
              " 'hip thrust': 22.145454545454545,\n",
              " 'deadlift': 9.44186046511628,\n",
              " 'leg extension': 22.981132075471695,\n",
              " 'push-up': 15.615384615384615,\n",
              " 'squat': 15.818181818181817,\n",
              " 'leg raises': 28.325581395348838,\n",
              " 't bar row': 20.3,\n",
              " 'shoulder press': 29.0,\n",
              " 'russian twist': 22.981132075471695,\n",
              " 'tricep Pushdown': 30.45,\n",
              " 'tricep dips': 16.916666666666668,\n",
              " 'bicep curl': 11.490566037735848,\n",
              " 'lat pulling': 10.972972972972974}"
            ]
          },
          "metadata": {},
          "execution_count": 17
        }
      ]
    },
    {
      "cell_type": "code",
      "source": [
        "class_to_int = {}\n",
        "for i in pred_to_class:\n",
        "  class_to_int[pred_to_class[i]]=i"
      ],
      "metadata": {
        "id": "b6sRH_5X-bkH"
      },
      "execution_count": null,
      "outputs": []
    },
    {
      "cell_type": "code",
      "source": [
        "class_to_int"
      ],
      "metadata": {
        "colab": {
          "base_uri": "https://localhost:8080/"
        },
        "id": "B6TfAeR7-pVc",
        "outputId": "bba69561-3dfc-41df-fa75-3849843dff91"
      },
      "execution_count": null,
      "outputs": [
        {
          "output_type": "execute_result",
          "data": {
            "text/plain": [
              "{'bench press': 0,\n",
              " 'bicep curl': 1,\n",
              " 'chest fly machine': 2,\n",
              " 'deadlift': 3,\n",
              " 'hip thrust': 4,\n",
              " 'lat pulling': 5,\n",
              " 'lateral raise': 6,\n",
              " 'leg extension': 7,\n",
              " 'leg raises': 8,\n",
              " 'push-up': 9,\n",
              " 'russian twist': 10,\n",
              " 'shoulder press': 11,\n",
              " 'squat': 12,\n",
              " 't bar row': 13,\n",
              " 'tricep Pushdown': 14,\n",
              " 'tricep dips': 15}"
            ]
          },
          "metadata": {},
          "execution_count": 19
        }
      ]
    },
    {
      "cell_type": "code",
      "source": [
        "list_weights = [None] * num_classes\n",
        "for i in class_weights:\n",
        "  list_weights[class_to_int[i]] = class_weights[i]\n",
        "list_weights"
      ],
      "metadata": {
        "colab": {
          "base_uri": "https://localhost:8080/"
        },
        "id": "33QoWwH79y-i",
        "outputId": "39ddcf0c-03c8-488f-ddaa-00b144e542d8"
      },
      "execution_count": null,
      "outputs": [
        {
          "output_type": "execute_result",
          "data": {
            "text/plain": [
              "[6.655737704918033,\n",
              " 11.490566037735848,\n",
              " 24.857142857142858,\n",
              " 9.44186046511628,\n",
              " 22.145454545454545,\n",
              " 10.972972972972974,\n",
              " 18.17910447761194,\n",
              " 22.981132075471695,\n",
              " 28.325581395348838,\n",
              " 15.615384615384615,\n",
              " 22.981132075471695,\n",
              " 29.0,\n",
              " 15.818181818181817,\n",
              " 20.3,\n",
              " 30.45,\n",
              " 16.916666666666668]"
            ]
          },
          "metadata": {},
          "execution_count": 20
        }
      ]
    },
    {
      "cell_type": "code",
      "source": [
        "import torch\n",
        "import torch.nn as nn\n",
        "import torch.nn.functional as F"
      ],
      "metadata": {
        "id": "wCDEEXJHweMv"
      },
      "execution_count": null,
      "outputs": []
    },
    {
      "cell_type": "code",
      "source": [
        "from torchvision.ops.focal_loss import sigmoid_focal_loss"
      ],
      "metadata": {
        "id": "PL_p8LUYAmTr"
      },
      "execution_count": null,
      "outputs": []
    },
    {
      "cell_type": "code",
      "source": [
        "#focal_loss = sigmoid_focal_loss(alpha=class_weights, gamma=2)"
      ],
      "metadata": {
        "id": "BOGvzyfnwwdN"
      },
      "execution_count": null,
      "outputs": []
    },
    {
      "cell_type": "markdown",
      "metadata": {
        "id": "POxqkd5aRrmt"
      },
      "source": [
        "# Class Creation for Dataloaders"
      ]
    },
    {
      "cell_type": "code",
      "execution_count": null,
      "metadata": {
        "id": "B0W233scPfx1",
        "colab": {
          "base_uri": "https://localhost:8080/"
        },
        "outputId": "410cc76f-b9ae-442d-82cc-3deaacd1ad2e"
      },
      "outputs": [
        {
          "output_type": "execute_result",
          "data": {
            "text/plain": [
              "'\\nfrom pytorchvideo.models.slowfast import create_slowfast\\n\\ndef make_slowfast():\\n    return create_slowfast(\\n        input_channels=(3, 3),\\n        model_depth=18,\\n        model_num_class=num_classes,\\n        norm=nn.BatchNorm3d,\\n        dropout_rate=dropout_rate,\\n    )\\n'"
            ],
            "application/vnd.google.colaboratory.intrinsic+json": {
              "type": "string"
            }
          },
          "metadata": {},
          "execution_count": 37
        }
      ],
      "source": [
        "class PackPathway(torch.nn.Module):\n",
        "    \"\"\"\n",
        "    Transform for converting video frames as a list of tensors.\n",
        "    \"\"\"\n",
        "    def __init__(self):\n",
        "        super().__init__()\n",
        "\n",
        "    def forward(self, frames: torch.Tensor):\n",
        "        fast_pathway = frames\n",
        "        # Perform temporal sampling from the fast pathway.\n",
        "        slow_pathway = torch.index_select(\n",
        "            frames,\n",
        "            1,\n",
        "            torch.linspace(\n",
        "                0, frames.shape[1] - 1, frames.shape[1] // slowfast_alpha\n",
        "            ).long(),\n",
        "        )\n",
        "        frame_list = [slow_pathway, fast_pathway]\n",
        "        return frame_list\n",
        "\n",
        "transform =  ApplyTransformToKey(\n",
        "    key=\"video\",\n",
        "    transform=Compose(\n",
        "        [\n",
        "            UniformTemporalSubsample(num_frames),\n",
        "            Lambda(lambda x: x/255.0),\n",
        "            NormalizeVideo(mean, std),\n",
        "            ShortSideScale(\n",
        "                size=side_size\n",
        "            ),\n",
        "            CenterCropVideo(crop_size),\n",
        "            PackPathway()\n",
        "        ]\n",
        "    ),\n",
        ")\n",
        "\n",
        "def post_act(input):\n",
        "  return softmax(input, dim=1)\n",
        "\n",
        "'''\n",
        "from pytorchvideo.models.slowfast import create_slowfast\n",
        "\n",
        "def make_slowfast():\n",
        "    return create_slowfast(\n",
        "        input_channels=(3, 3),\n",
        "        model_depth=18,\n",
        "        model_num_class=num_classes,\n",
        "        norm=nn.BatchNorm3d,\n",
        "        dropout_rate=dropout_rate,\n",
        "    )\n",
        "'''"
      ]
    },
    {
      "cell_type": "code",
      "execution_count": null,
      "metadata": {
        "id": "de65-hoGR0ES"
      },
      "outputs": [],
      "source": [
        "class VideosDataModule(pytorch_lightning.LightningDataModule):\n",
        "\n",
        "    # Dataset configuration\n",
        "    _DATA_PATH = input_dir\n",
        "    _CLIP_DURATION = clip_duration  # Duration of sampled clip for each video\n",
        "    _BATCH_SIZE = batch_size\n",
        "    _NUM_WORKERS = num_workers  # Number of parallel processes fetching data\n",
        "\n",
        "    def train_dataloader(self):\n",
        "        #Create the train partition from the list of video labels and video paths\n",
        "        train_dataset = pytorchvideo.data.labeled_video_dataset(\n",
        "            data_path=os.path.join(self._DATA_PATH, 'train'),\n",
        "            clip_sampler=pytorchvideo.data.make_clip_sampler(\"random\", self._CLIP_DURATION),\n",
        "            decode_audio=False,\n",
        "            transform=transform\n",
        "        )\n",
        "\n",
        "        return torch.utils.data.DataLoader(\n",
        "            train_dataset,\n",
        "            batch_size=self._BATCH_SIZE,\n",
        "            num_workers=self._NUM_WORKERS\n",
        "        )\n",
        "\n",
        "    def val_dataloader(self):\n",
        "        #Create the validation partition from the list of video labels and video paths\n",
        "        val_dataset = pytorchvideo.data.labeled_video_dataset(\n",
        "            data_path=os.path.join(self._DATA_PATH, 'val'),\n",
        "            clip_sampler=pytorchvideo.data.make_clip_sampler(\"random\", self._CLIP_DURATION),\n",
        "            decode_audio=False,\n",
        "            transform=transform\n",
        "        )\n",
        "\n",
        "        return torch.utils.data.DataLoader(\n",
        "            val_dataset,\n",
        "            batch_size=self._BATCH_SIZE,\n",
        "            num_workers=self._NUM_WORKERS,\n",
        "        )\n",
        "\n",
        "    def test_dataloader(self):\n",
        "        test_dataset = pytorchvideo.data.labeled_video_dataset(\n",
        "            data_path=os.path.join(self._DATA_PATH, 'test'),\n",
        "            clip_sampler=pytorchvideo.data.make_clip_sampler(\"random\", self._CLIP_DURATION),\n",
        "            decode_audio=False,\n",
        "            transform=transform\n",
        "        )\n",
        "\n",
        "        return torch.utils.data.DataLoader(\n",
        "            test_dataset,\n",
        "            batch_size=self._BATCH_SIZE,\n",
        "            num_workers=self._NUM_WORKERS,\n",
        "        )"
      ]
    },
    {
      "cell_type": "markdown",
      "metadata": {
        "id": "8hUKUCHxR5g6"
      },
      "source": [
        "# Model Creation\n"
      ]
    },
    {
      "cell_type": "code",
      "execution_count": null,
      "metadata": {
        "id": "VW0o6pPoR-w4"
      },
      "outputs": [],
      "source": [
        "import torch\n",
        "import torch.nn as nn\n",
        "import torch.nn.functional as F\n",
        "import numpy as np\n",
        "from torchmetrics.classification import MulticlassAccuracy\n",
        "from sklearn.metrics import roc_auc_score\n",
        "from sklearn.metrics import precision_recall_fscore_support\n",
        "import numpy as np\n",
        "\n",
        "mca1 = MulticlassAccuracy(num_classes=num_classes, average='micro', top_k=1)\n",
        "mca5 = MulticlassAccuracy(num_classes=num_classes, average='micro', top_k=5)\n",
        "\n",
        "class VideoClassificationLightningModule(pytorch_lightning.LightningModule):\n",
        "\n",
        "    def __init__(self):\n",
        "        super().__init__()\n",
        "\n",
        "        self.model = torch.hub.load(\"facebookresearch/pytorchvideo\", model=model_name, pretrained=True)\n",
        "        self.model.to(device)\n",
        "        self.model.blocks[6].proj = nn.Linear(in_features=2304, out_features=16, bias=True)\n",
        "        self.model.train()\n",
        "\n",
        "    def forward(self, x):\n",
        "        return self.model(x)\n",
        "\n",
        "    def training_step(self, batch, batch_idx):\n",
        "        # The model expects a video tensor of shape (B, C, T, H, W), which is the\n",
        "        # format provided by the dataset\n",
        "        y_hat = self.model(batch[\"video\"])\n",
        "\n",
        "        # Compute cross entropy loss, loss.backwards will be called behind the scenes\n",
        "        # by PyTorchLightning after being returned from this method.\n",
        "\n",
        "        loss = F.cross_entropy(y_hat, batch[\"label\"])\n",
        "\n",
        "        # Log the train loss to Tensorboard\n",
        "        self.log(\"train_loss\", loss.item(), batch_size=batch_size)\n",
        "\n",
        "        acc1 = mca1(y_hat.cpu(), batch[\"label\"].cpu())\n",
        "        acc5 = mca5(y_hat.cpu(), batch[\"label\"].cpu())\n",
        "        self.log(\"train_accuracy_top_1\", acc1.item(), batch_size=batch_size)\n",
        "        self.log(\"train_accuracy_top_5\", acc5.item(), batch_size=batch_size)\n",
        "\n",
        "        #last_layer = self.model.blocks[6].proj\n",
        "        #embeddings = []\n",
        "\n",
        "        print(\"train_loss:\", loss.item(), \"train_accuracy_top_1:\", acc1.item(), \"train_accuracy_top_5:\", acc5.item())\n",
        "\n",
        "        return loss\n",
        "\n",
        "    def validation_step(self, batch, batch_idx):\n",
        "        y_hat = self.model(batch[\"video\"])\n",
        "        loss = F.cross_entropy(y_hat, batch[\"label\"])\n",
        "\n",
        "        self.log(\"val_loss\", loss.item(), batch_size=batch_size)\n",
        "\n",
        "        acc1 = mca1(y_hat.cpu(), batch[\"label\"].cpu())\n",
        "        acc5 = mca5(y_hat.cpu(), batch[\"label\"].cpu())\n",
        "        self.log(\"val_accuracy_top_1\", acc1.item(), batch_size=batch_size)\n",
        "        self.log(\"val_accuracy_top_5\", acc5.item(), batch_size=batch_size)\n",
        "\n",
        "        print(\"val_loss:\", loss.item(), \"val_accuracy_top_1:\", acc1.item(), \"val_accuracy_top_5:\", acc5.item())\n",
        "\n",
        "        return loss\n",
        "\n",
        "    def configure_optimizers(self):\n",
        "        \"\"\"\n",
        "        Setup the Adam optimizer. Note, that this function also can return a lr scheduler, which is\n",
        "        usually useful for training video models.\n",
        "        \"\"\"\n",
        "        return torch.optim.Adam(self.parameters(), lr=learning_rate)\n",
        "\n",
        "    def test_step(self, batch, batch_idx):\n",
        "        y_hat = self.model(batch[\"video\"])\n",
        "        loss = F.cross_entropy(y_hat, batch[\"label\"])\n",
        "\n",
        "        # logs metrics for each testing_step,\n",
        "        # and the average across the epoch, to the progress bar and logger\n",
        "        self.log(\"test_loss\", loss.item(), batch_size=batch_size)\n",
        "\n",
        "        acc1 = mca1(y_hat.cpu(), batch[\"label\"].cpu())\n",
        "        acc5 = mca5(y_hat.cpu(), batch[\"label\"].cpu())\n",
        "        self.log(\"test_accuracy_top_1\", acc1.item(), batch_size=batch_size)\n",
        "        self.log(\"test_accuracy_top_5\", acc5.item(), batch_size=batch_size)\n",
        "\n",
        "        softed = post_act(y_hat)\n",
        "        auc = roc_auc_score(y_true=batch[\"label\"].cpu(), y_score=softed.cpu(), multi_class='ovr', average='micro', labels=np.arange(num_classes))\n",
        "        self.log(\"auc\", auc, batch_size=batch_size)\n",
        "\n",
        "        pred_classes = []\n",
        "        for x in softed:\n",
        "          class_index = x.topk(k=1).indices\n",
        "          class_index = class_index[0]\n",
        "          pred_classes.append(class_index)\n",
        "        pred_classes = torch.Tensor(pred_classes)\n",
        "\n",
        "        rpf1 = precision_recall_fscore_support(y_true=batch[\"label\"].cpu(), y_pred=pred_classes.cpu(), beta=1, labels=np.arange(num_classes), average='macro', zero_division=1)\n",
        "        precision = rpf1[0]\n",
        "        recall = rpf1[1]\n",
        "        f1 = rpf1[2]\n",
        "        self.log(\"precision\", precision, batch_size=batch_size)\n",
        "        self.log(\"recall\", recall, batch_size=batch_size)\n",
        "        self.log(\"f1\", f1, batch_size=batch_size)\n",
        "\n",
        "        print(\"test_loss:\", loss.item(), \"test_accuracy_top_1:\", acc1.item(), \"test_accuracy_top_5:\", acc5.item(), \"auc:\", auc, \"precision:\", precision, \"recall:\", recall, \"f1:\", f1)\n",
        "\n",
        "        return loss"
      ]
    },
    {
      "cell_type": "markdown",
      "metadata": {
        "id": "z5dqGI2sSaZz"
      },
      "source": [
        "# Training"
      ]
    },
    {
      "cell_type": "code",
      "execution_count": null,
      "metadata": {
        "id": "Ggfgr6aSww4a"
      },
      "outputs": [],
      "source": [
        "from pytorch_lightning.callbacks import EarlyStopping\n",
        "\n",
        "early_stopping_callbacks = EarlyStopping(monitor=\"val_loss\", min_delta=0, patience=10, verbose=True, mode=\"min\")"
      ]
    },
    {
      "cell_type": "code",
      "execution_count": null,
      "metadata": {
        "colab": {
          "base_uri": "https://localhost:8080/"
        },
        "id": "2yBLmhEQTLbG",
        "outputId": "72e8a2ae-034a-4269-fa64-6e4e1a76f26b"
      },
      "outputs": [
        {
          "output_type": "stream",
          "name": "stderr",
          "text": [
            "Using cache found in /root/.cache/torch/hub/facebookresearch_pytorchvideo_main\n",
            "INFO:pytorch_lightning.utilities.rank_zero:GPU available: True (cuda), used: True\n",
            "INFO:pytorch_lightning.utilities.rank_zero:TPU available: False, using: 0 TPU cores\n",
            "INFO:pytorch_lightning.utilities.rank_zero:IPU available: False, using: 0 IPUs\n",
            "INFO:pytorch_lightning.utilities.rank_zero:HPU available: False, using: 0 HPUs\n"
          ]
        }
      ],
      "source": [
        "classification_module = VideoClassificationLightningModule()\n",
        "data_module = VideosDataModule()\n",
        "trainer = pytorch_lightning.Trainer(\n",
        "    default_root_dir=checkpoint_path,\n",
        "    max_epochs=30,\n",
        "    accelerator=\"auto\",\n",
        "    devices=\"auto\",\n",
        "    strategy='auto',\n",
        "    enable_checkpointing=True,\n",
        "    logger=True,\n",
        ")"
      ]
    },
    {
      "cell_type": "code",
      "execution_count": null,
      "metadata": {
        "id": "CEXoz1KX7_C7"
      },
      "outputs": [],
      "source": [
        "torch.set_float32_matmul_precision('medium')"
      ]
    },
    {
      "cell_type": "code",
      "execution_count": null,
      "metadata": {
        "id": "ldyTiRKsvSyu",
        "colab": {
          "base_uri": "https://localhost:8080/",
          "height": 566
        },
        "outputId": "a23e9735-3345-41a0-a720-bc02e5092b47"
      },
      "outputs": [
        {
          "output_type": "stream",
          "name": "stderr",
          "text": [
            "INFO:pytorch_lightning.utilities.rank_zero:Restoring states from the checkpoint path at /content/drive/MyDrive/Research/Muscle Video/Checkpoints/Split/Pretrained/slowfast_r101/lightning_logs/version_5/checkpoints/epoch=28-step=3754.ckpt\n"
          ]
        },
        {
          "output_type": "error",
          "ename": "RuntimeError",
          "evalue": "ignored",
          "traceback": [
            "\u001b[0;31m---------------------------------------------------------------------------\u001b[0m",
            "\u001b[0;31mRuntimeError\u001b[0m                              Traceback (most recent call last)",
            "\u001b[0;32m<ipython-input-24-443819fa368d>\u001b[0m in \u001b[0;36m<cell line: 1>\u001b[0;34m()\u001b[0m\n\u001b[0;32m----> 1\u001b[0;31m \u001b[0mtrainer\u001b[0m\u001b[0;34m.\u001b[0m\u001b[0mfit\u001b[0m\u001b[0;34m(\u001b[0m\u001b[0mclassification_module\u001b[0m\u001b[0;34m,\u001b[0m \u001b[0mdata_module\u001b[0m\u001b[0;34m,\u001b[0m \u001b[0mckpt_path\u001b[0m\u001b[0;34m=\u001b[0m\u001b[0;34m'/content/drive/MyDrive/Research/Muscle Video/Checkpoints/Split/Pretrained/slowfast_r101/lightning_logs/version_5/checkpoints/epoch=28-step=3754.ckpt'\u001b[0m\u001b[0;34m)\u001b[0m\u001b[0;34m\u001b[0m\u001b[0;34m\u001b[0m\u001b[0m\n\u001b[0m",
            "\u001b[0;32m/usr/local/lib/python3.10/dist-packages/pytorch_lightning/trainer/trainer.py\u001b[0m in \u001b[0;36mfit\u001b[0;34m(self, model, train_dataloaders, val_dataloaders, datamodule, ckpt_path)\u001b[0m\n\u001b[1;32m    542\u001b[0m         \u001b[0mself\u001b[0m\u001b[0;34m.\u001b[0m\u001b[0mstate\u001b[0m\u001b[0;34m.\u001b[0m\u001b[0mstatus\u001b[0m \u001b[0;34m=\u001b[0m \u001b[0mTrainerStatus\u001b[0m\u001b[0;34m.\u001b[0m\u001b[0mRUNNING\u001b[0m\u001b[0;34m\u001b[0m\u001b[0;34m\u001b[0m\u001b[0m\n\u001b[1;32m    543\u001b[0m         \u001b[0mself\u001b[0m\u001b[0;34m.\u001b[0m\u001b[0mtraining\u001b[0m \u001b[0;34m=\u001b[0m \u001b[0;32mTrue\u001b[0m\u001b[0;34m\u001b[0m\u001b[0;34m\u001b[0m\u001b[0m\n\u001b[0;32m--> 544\u001b[0;31m         call._call_and_handle_interrupt(\n\u001b[0m\u001b[1;32m    545\u001b[0m             \u001b[0mself\u001b[0m\u001b[0;34m,\u001b[0m \u001b[0mself\u001b[0m\u001b[0;34m.\u001b[0m\u001b[0m_fit_impl\u001b[0m\u001b[0;34m,\u001b[0m \u001b[0mmodel\u001b[0m\u001b[0;34m,\u001b[0m \u001b[0mtrain_dataloaders\u001b[0m\u001b[0;34m,\u001b[0m \u001b[0mval_dataloaders\u001b[0m\u001b[0;34m,\u001b[0m \u001b[0mdatamodule\u001b[0m\u001b[0;34m,\u001b[0m \u001b[0mckpt_path\u001b[0m\u001b[0;34m\u001b[0m\u001b[0;34m\u001b[0m\u001b[0m\n\u001b[1;32m    546\u001b[0m         )\n",
            "\u001b[0;32m/usr/local/lib/python3.10/dist-packages/pytorch_lightning/trainer/call.py\u001b[0m in \u001b[0;36m_call_and_handle_interrupt\u001b[0;34m(trainer, trainer_fn, *args, **kwargs)\u001b[0m\n\u001b[1;32m     42\u001b[0m         \u001b[0;32mif\u001b[0m \u001b[0mtrainer\u001b[0m\u001b[0;34m.\u001b[0m\u001b[0mstrategy\u001b[0m\u001b[0;34m.\u001b[0m\u001b[0mlauncher\u001b[0m \u001b[0;32mis\u001b[0m \u001b[0;32mnot\u001b[0m \u001b[0;32mNone\u001b[0m\u001b[0;34m:\u001b[0m\u001b[0;34m\u001b[0m\u001b[0;34m\u001b[0m\u001b[0m\n\u001b[1;32m     43\u001b[0m             \u001b[0;32mreturn\u001b[0m \u001b[0mtrainer\u001b[0m\u001b[0;34m.\u001b[0m\u001b[0mstrategy\u001b[0m\u001b[0;34m.\u001b[0m\u001b[0mlauncher\u001b[0m\u001b[0;34m.\u001b[0m\u001b[0mlaunch\u001b[0m\u001b[0;34m(\u001b[0m\u001b[0mtrainer_fn\u001b[0m\u001b[0;34m,\u001b[0m \u001b[0;34m*\u001b[0m\u001b[0margs\u001b[0m\u001b[0;34m,\u001b[0m \u001b[0mtrainer\u001b[0m\u001b[0;34m=\u001b[0m\u001b[0mtrainer\u001b[0m\u001b[0;34m,\u001b[0m \u001b[0;34m**\u001b[0m\u001b[0mkwargs\u001b[0m\u001b[0;34m)\u001b[0m\u001b[0;34m\u001b[0m\u001b[0;34m\u001b[0m\u001b[0m\n\u001b[0;32m---> 44\u001b[0;31m         \u001b[0;32mreturn\u001b[0m \u001b[0mtrainer_fn\u001b[0m\u001b[0;34m(\u001b[0m\u001b[0;34m*\u001b[0m\u001b[0margs\u001b[0m\u001b[0;34m,\u001b[0m \u001b[0;34m**\u001b[0m\u001b[0mkwargs\u001b[0m\u001b[0;34m)\u001b[0m\u001b[0;34m\u001b[0m\u001b[0;34m\u001b[0m\u001b[0m\n\u001b[0m\u001b[1;32m     45\u001b[0m \u001b[0;34m\u001b[0m\u001b[0m\n\u001b[1;32m     46\u001b[0m     \u001b[0;32mexcept\u001b[0m \u001b[0m_TunerExitException\u001b[0m\u001b[0;34m:\u001b[0m\u001b[0;34m\u001b[0m\u001b[0;34m\u001b[0m\u001b[0m\n",
            "\u001b[0;32m/usr/local/lib/python3.10/dist-packages/pytorch_lightning/trainer/trainer.py\u001b[0m in \u001b[0;36m_fit_impl\u001b[0;34m(self, model, train_dataloaders, val_dataloaders, datamodule, ckpt_path)\u001b[0m\n\u001b[1;32m    578\u001b[0m             \u001b[0mmodel_connected\u001b[0m\u001b[0;34m=\u001b[0m\u001b[0mself\u001b[0m\u001b[0;34m.\u001b[0m\u001b[0mlightning_module\u001b[0m \u001b[0;32mis\u001b[0m \u001b[0;32mnot\u001b[0m \u001b[0;32mNone\u001b[0m\u001b[0;34m,\u001b[0m\u001b[0;34m\u001b[0m\u001b[0;34m\u001b[0m\u001b[0m\n\u001b[1;32m    579\u001b[0m         )\n\u001b[0;32m--> 580\u001b[0;31m         \u001b[0mself\u001b[0m\u001b[0;34m.\u001b[0m\u001b[0m_run\u001b[0m\u001b[0;34m(\u001b[0m\u001b[0mmodel\u001b[0m\u001b[0;34m,\u001b[0m \u001b[0mckpt_path\u001b[0m\u001b[0;34m=\u001b[0m\u001b[0mckpt_path\u001b[0m\u001b[0;34m)\u001b[0m\u001b[0;34m\u001b[0m\u001b[0;34m\u001b[0m\u001b[0m\n\u001b[0m\u001b[1;32m    581\u001b[0m \u001b[0;34m\u001b[0m\u001b[0m\n\u001b[1;32m    582\u001b[0m         \u001b[0;32massert\u001b[0m \u001b[0mself\u001b[0m\u001b[0;34m.\u001b[0m\u001b[0mstate\u001b[0m\u001b[0;34m.\u001b[0m\u001b[0mstopped\u001b[0m\u001b[0;34m\u001b[0m\u001b[0;34m\u001b[0m\u001b[0m\n",
            "\u001b[0;32m/usr/local/lib/python3.10/dist-packages/pytorch_lightning/trainer/trainer.py\u001b[0m in \u001b[0;36m_run\u001b[0;34m(self, model, ckpt_path)\u001b[0m\n\u001b[1;32m    953\u001b[0m         \u001b[0;32mif\u001b[0m \u001b[0;32mnot\u001b[0m \u001b[0mself\u001b[0m\u001b[0;34m.\u001b[0m\u001b[0mstrategy\u001b[0m\u001b[0;34m.\u001b[0m\u001b[0mrestore_checkpoint_after_setup\u001b[0m\u001b[0;34m:\u001b[0m\u001b[0;34m\u001b[0m\u001b[0;34m\u001b[0m\u001b[0m\n\u001b[1;32m    954\u001b[0m             \u001b[0mlog\u001b[0m\u001b[0;34m.\u001b[0m\u001b[0mdebug\u001b[0m\u001b[0;34m(\u001b[0m\u001b[0;34mf\"{self.__class__.__name__}: restoring module and callbacks from checkpoint path: {ckpt_path}\"\u001b[0m\u001b[0;34m)\u001b[0m\u001b[0;34m\u001b[0m\u001b[0;34m\u001b[0m\u001b[0m\n\u001b[0;32m--> 955\u001b[0;31m             \u001b[0mself\u001b[0m\u001b[0;34m.\u001b[0m\u001b[0m_checkpoint_connector\u001b[0m\u001b[0;34m.\u001b[0m\u001b[0m_restore_modules_and_callbacks\u001b[0m\u001b[0;34m(\u001b[0m\u001b[0mckpt_path\u001b[0m\u001b[0;34m)\u001b[0m\u001b[0;34m\u001b[0m\u001b[0;34m\u001b[0m\u001b[0m\n\u001b[0m\u001b[1;32m    956\u001b[0m \u001b[0;34m\u001b[0m\u001b[0m\n\u001b[1;32m    957\u001b[0m         \u001b[0mlog\u001b[0m\u001b[0;34m.\u001b[0m\u001b[0mdebug\u001b[0m\u001b[0;34m(\u001b[0m\u001b[0;34mf\"{self.__class__.__name__}: configuring model\"\u001b[0m\u001b[0;34m)\u001b[0m\u001b[0;34m\u001b[0m\u001b[0;34m\u001b[0m\u001b[0m\n",
            "\u001b[0;32m/usr/local/lib/python3.10/dist-packages/pytorch_lightning/trainer/connectors/checkpoint_connector.py\u001b[0m in \u001b[0;36m_restore_modules_and_callbacks\u001b[0;34m(self, checkpoint_path)\u001b[0m\n\u001b[1;32m    394\u001b[0m         \u001b[0;31m# restore modules after setup\u001b[0m\u001b[0;34m\u001b[0m\u001b[0;34m\u001b[0m\u001b[0m\n\u001b[1;32m    395\u001b[0m         \u001b[0mself\u001b[0m\u001b[0;34m.\u001b[0m\u001b[0mresume_start\u001b[0m\u001b[0;34m(\u001b[0m\u001b[0mcheckpoint_path\u001b[0m\u001b[0;34m)\u001b[0m\u001b[0;34m\u001b[0m\u001b[0;34m\u001b[0m\u001b[0m\n\u001b[0;32m--> 396\u001b[0;31m         \u001b[0mself\u001b[0m\u001b[0;34m.\u001b[0m\u001b[0mrestore_model\u001b[0m\u001b[0;34m(\u001b[0m\u001b[0;34m)\u001b[0m\u001b[0;34m\u001b[0m\u001b[0;34m\u001b[0m\u001b[0m\n\u001b[0m\u001b[1;32m    397\u001b[0m         \u001b[0mself\u001b[0m\u001b[0;34m.\u001b[0m\u001b[0mrestore_datamodule\u001b[0m\u001b[0;34m(\u001b[0m\u001b[0;34m)\u001b[0m\u001b[0;34m\u001b[0m\u001b[0;34m\u001b[0m\u001b[0m\n\u001b[1;32m    398\u001b[0m         \u001b[0;32mif\u001b[0m \u001b[0mself\u001b[0m\u001b[0;34m.\u001b[0m\u001b[0mtrainer\u001b[0m\u001b[0;34m.\u001b[0m\u001b[0mstate\u001b[0m\u001b[0;34m.\u001b[0m\u001b[0mfn\u001b[0m \u001b[0;34m==\u001b[0m \u001b[0mTrainerFn\u001b[0m\u001b[0;34m.\u001b[0m\u001b[0mFITTING\u001b[0m\u001b[0;34m:\u001b[0m\u001b[0;34m\u001b[0m\u001b[0;34m\u001b[0m\u001b[0m\n",
            "\u001b[0;32m/usr/local/lib/python3.10/dist-packages/pytorch_lightning/trainer/connectors/checkpoint_connector.py\u001b[0m in \u001b[0;36mrestore_model\u001b[0;34m(self)\u001b[0m\n\u001b[1;32m    274\u001b[0m \u001b[0;34m\u001b[0m\u001b[0m\n\u001b[1;32m    275\u001b[0m         \u001b[0;31m# restore model state_dict\u001b[0m\u001b[0;34m\u001b[0m\u001b[0;34m\u001b[0m\u001b[0m\n\u001b[0;32m--> 276\u001b[0;31m         \u001b[0mtrainer\u001b[0m\u001b[0;34m.\u001b[0m\u001b[0mstrategy\u001b[0m\u001b[0;34m.\u001b[0m\u001b[0mload_model_state_dict\u001b[0m\u001b[0;34m(\u001b[0m\u001b[0mself\u001b[0m\u001b[0;34m.\u001b[0m\u001b[0m_loaded_checkpoint\u001b[0m\u001b[0;34m)\u001b[0m\u001b[0;34m\u001b[0m\u001b[0;34m\u001b[0m\u001b[0m\n\u001b[0m\u001b[1;32m    277\u001b[0m \u001b[0;34m\u001b[0m\u001b[0m\n\u001b[1;32m    278\u001b[0m     \u001b[0;32mdef\u001b[0m \u001b[0mrestore_training_state\u001b[0m\u001b[0;34m(\u001b[0m\u001b[0mself\u001b[0m\u001b[0;34m)\u001b[0m \u001b[0;34m->\u001b[0m \u001b[0;32mNone\u001b[0m\u001b[0;34m:\u001b[0m\u001b[0;34m\u001b[0m\u001b[0;34m\u001b[0m\u001b[0m\n",
            "\u001b[0;32m/usr/local/lib/python3.10/dist-packages/pytorch_lightning/strategies/strategy.py\u001b[0m in \u001b[0;36mload_model_state_dict\u001b[0;34m(self, checkpoint)\u001b[0m\n\u001b[1;32m    361\u001b[0m     \u001b[0;32mdef\u001b[0m \u001b[0mload_model_state_dict\u001b[0m\u001b[0;34m(\u001b[0m\u001b[0mself\u001b[0m\u001b[0;34m,\u001b[0m \u001b[0mcheckpoint\u001b[0m\u001b[0;34m:\u001b[0m \u001b[0mMapping\u001b[0m\u001b[0;34m[\u001b[0m\u001b[0mstr\u001b[0m\u001b[0;34m,\u001b[0m \u001b[0mAny\u001b[0m\u001b[0;34m]\u001b[0m\u001b[0;34m)\u001b[0m \u001b[0;34m->\u001b[0m \u001b[0;32mNone\u001b[0m\u001b[0;34m:\u001b[0m\u001b[0;34m\u001b[0m\u001b[0;34m\u001b[0m\u001b[0m\n\u001b[1;32m    362\u001b[0m         \u001b[0;32massert\u001b[0m \u001b[0mself\u001b[0m\u001b[0;34m.\u001b[0m\u001b[0mlightning_module\u001b[0m \u001b[0;32mis\u001b[0m \u001b[0;32mnot\u001b[0m \u001b[0;32mNone\u001b[0m\u001b[0;34m\u001b[0m\u001b[0;34m\u001b[0m\u001b[0m\n\u001b[0;32m--> 363\u001b[0;31m         \u001b[0mself\u001b[0m\u001b[0;34m.\u001b[0m\u001b[0mlightning_module\u001b[0m\u001b[0;34m.\u001b[0m\u001b[0mload_state_dict\u001b[0m\u001b[0;34m(\u001b[0m\u001b[0mcheckpoint\u001b[0m\u001b[0;34m[\u001b[0m\u001b[0;34m\"state_dict\"\u001b[0m\u001b[0;34m]\u001b[0m\u001b[0;34m)\u001b[0m\u001b[0;34m\u001b[0m\u001b[0;34m\u001b[0m\u001b[0m\n\u001b[0m\u001b[1;32m    364\u001b[0m \u001b[0;34m\u001b[0m\u001b[0m\n\u001b[1;32m    365\u001b[0m     \u001b[0;32mdef\u001b[0m \u001b[0mload_optimizer_state_dict\u001b[0m\u001b[0;34m(\u001b[0m\u001b[0mself\u001b[0m\u001b[0;34m,\u001b[0m \u001b[0mcheckpoint\u001b[0m\u001b[0;34m:\u001b[0m \u001b[0mMapping\u001b[0m\u001b[0;34m[\u001b[0m\u001b[0mstr\u001b[0m\u001b[0;34m,\u001b[0m \u001b[0mAny\u001b[0m\u001b[0;34m]\u001b[0m\u001b[0;34m)\u001b[0m \u001b[0;34m->\u001b[0m \u001b[0;32mNone\u001b[0m\u001b[0;34m:\u001b[0m\u001b[0;34m\u001b[0m\u001b[0;34m\u001b[0m\u001b[0m\n",
            "\u001b[0;32m/usr/local/lib/python3.10/dist-packages/torch/nn/modules/module.py\u001b[0m in \u001b[0;36mload_state_dict\u001b[0;34m(self, state_dict, strict, assign)\u001b[0m\n\u001b[1;32m   2150\u001b[0m \u001b[0;34m\u001b[0m\u001b[0m\n\u001b[1;32m   2151\u001b[0m         \u001b[0;32mif\u001b[0m \u001b[0mlen\u001b[0m\u001b[0;34m(\u001b[0m\u001b[0merror_msgs\u001b[0m\u001b[0;34m)\u001b[0m \u001b[0;34m>\u001b[0m \u001b[0;36m0\u001b[0m\u001b[0;34m:\u001b[0m\u001b[0;34m\u001b[0m\u001b[0;34m\u001b[0m\u001b[0m\n\u001b[0;32m-> 2152\u001b[0;31m             raise RuntimeError('Error(s) in loading state_dict for {}:\\n\\t{}'.format(\n\u001b[0m\u001b[1;32m   2153\u001b[0m                                self.__class__.__name__, \"\\n\\t\".join(error_msgs)))\n\u001b[1;32m   2154\u001b[0m         \u001b[0;32mreturn\u001b[0m \u001b[0m_IncompatibleKeys\u001b[0m\u001b[0;34m(\u001b[0m\u001b[0mmissing_keys\u001b[0m\u001b[0;34m,\u001b[0m \u001b[0munexpected_keys\u001b[0m\u001b[0;34m)\u001b[0m\u001b[0;34m\u001b[0m\u001b[0;34m\u001b[0m\u001b[0m\n",
            "\u001b[0;31mRuntimeError\u001b[0m: Error(s) in loading state_dict for VideoClassificationLightningModule:\n\tUnexpected key(s) in state_dict: \"model.blocks.3.multipathway_blocks.0.res_blocks.6.branch2.conv_a.weight\", \"model.blocks.3.multipathway_blocks.0.res_blocks.6.branch2.norm_a.weight\", \"model.blocks.3.multipathway_blocks.0.res_blocks.6.branch2.norm_a.bias\", \"model.blocks.3.multipathway_blocks.0.res_blocks.6.branch2.norm_a.running_mean\", \"model.blocks.3.multipathway_blocks.0.res_blocks.6.branch2.norm_a.running_var\", \"model.blocks.3.multipathway_blocks.0.res_blocks.6.branch2.norm_a.num_batches_tracked\", \"model.blocks.3.multipathway_blocks.0.res_blocks.6.branch2.conv_b.weight\", \"model.blocks.3.multipathway_blocks.0.res_blocks.6.branch2.norm_b.weight\", \"model.blocks.3.multipathway_blocks.0.res_blocks.6.branch2.norm_b.bias\", \"model.blocks.3.multipathway_blocks.0.res_blocks.6.branch2.norm_b.running_mean\", \"model.blocks.3.multipathway_blocks.0.res_blocks.6.branch2.norm_b.running_var\", \"model.blocks.3.multipathway_blocks.0.res_blocks.6.branch2.norm_b.num_batches_tracked\", \"model.blocks.3.multipathway_blocks.0.res_blocks.6.branch2.conv_c.weight\", \"model.blocks.3.multipathway_blocks.0.res_blocks.6.branch2.norm_c.weight\", \"model.blocks.3.multipathway_blocks.0.res_blocks.6.branch2.norm_c.bias\", \"model.blocks.3.multipathway_blocks.0.res_blocks.6.branch2.norm_c.running_mean\", \"model.blocks.3.multipathway_blocks.0.res_blocks.6.branch2.norm_c.running_var\", \"model.blocks.3.multipathway_blocks.0.res_blocks.6.branch2.norm_c.num_batches_tracked\", \"model.blocks.3.multipathway_blocks.0.res_block...\n\tsize mismatch for model.blocks.0.multipathway_fusion.conv_fast_to_slow.weight: copying a param with shape torch.Size([16, 8, 5, 1, 1]) from checkpoint, the shape in current model is torch.Size([16, 8, 7, 1, 1]).\n\tsize mismatch for model.blocks.1.multipathway_fusion.conv_fast_to_slow.weight: copying a param with shape torch.Size([64, 32, 5, 1, 1]) from checkpoint, the shape in current model is torch.Size([64, 32, 7, 1, 1]).\n\tsize mismatch for model.blocks.2.multipathway_fusion.conv_fast_to_slow.weight: copying a param with shape torch.Size([128, 64, 5, 1, 1]) from checkpoint, the shape in current model is torch.Size([128, 64, 7, 1, 1]).\n\tsize mismatch for model.blocks.3.multipathway_fusion.conv_fast_to_slow.weight: copying a param with shape torch.Size([256, 128, 5, 1, 1]) from checkpoint, the shape in current model is torch.Size([256, 128, 7, 1, 1])."
          ]
        }
      ],
      "source": [
        "trainer.fit(classification_module, data_module, ckpt_path='/content/drive/MyDrive/Research/Muscle Video/Checkpoints/Split/Pretrained/slowfast_r101/lightning_logs/version_5/checkpoints/epoch=28-step=3754.ckpt')"
      ]
    },
    {
      "cell_type": "markdown",
      "metadata": {
        "id": "8csUFcsFoKft"
      },
      "source": [
        "# Testing\n"
      ]
    },
    {
      "cell_type": "code",
      "execution_count": null,
      "metadata": {
        "id": "_MzWhWAq8qJk"
      },
      "outputs": [],
      "source": [
        "best_checkpoint_path = '/content/drive/MyDrive/Research/Muscle Video/Checkpoints/Split/Pretrained/slowfast_r50/lightning_logs/version_4/checkpoints/epoch=4-step=640.ckpt'"
      ]
    },
    {
      "cell_type": "code",
      "execution_count": null,
      "metadata": {
        "id": "r_QYVE-AUbhK",
        "colab": {
          "base_uri": "https://localhost:8080/",
          "height": 1000,
          "referenced_widgets": [
            "2f1cd609d4514cb5ab030a29f8132c1b",
            "7df5670482394cbd92410b1fcf9fd1f8",
            "f88ea33e6c5849a3a9392650375ec83c",
            "647d2c249b3e4deda3ba2f3a0dcc8e7b",
            "88765b6572414f958e7337541f7aa0e1",
            "43ea3577af0f44db870dff2f1220d51b",
            "59c4213ed14e448fa9ceb5043b554659",
            "a1ae87568d234535a7372ed76d436b5c",
            "9137bc3cf5a1412da9637f395d5cb076",
            "d2cb445200fc4224b87a7ca908f3e2fe",
            "faf9971d5c924fe9a555c049919724bb"
          ]
        },
        "outputId": "347db6fa-0a4d-49e6-ec3a-00789b5ba490"
      },
      "outputs": [
        {
          "output_type": "stream",
          "name": "stderr",
          "text": [
            "INFO:pytorch_lightning.utilities.rank_zero:Restoring states from the checkpoint path at /content/drive/MyDrive/Research/Muscle Video/Checkpoints/Split/Pretrained/slowfast_r101/lightning_logs/version_3/checkpoints/epoch=49-step=6442.ckpt\n",
            "INFO:pytorch_lightning.accelerators.cuda:LOCAL_RANK: 0 - CUDA_VISIBLE_DEVICES: [0]\n",
            "INFO:pytorch_lightning.utilities.rank_zero:Loaded model weights from the checkpoint at /content/drive/MyDrive/Research/Muscle Video/Checkpoints/Split/Pretrained/slowfast_r101/lightning_logs/version_3/checkpoints/epoch=49-step=6442.ckpt\n"
          ]
        },
        {
          "output_type": "display_data",
          "data": {
            "text/plain": [
              "Testing: |          | 0/? [00:00<?, ?it/s]"
            ],
            "application/vnd.jupyter.widget-view+json": {
              "version_major": 2,
              "version_minor": 0,
              "model_id": "2f1cd609d4514cb5ab030a29f8132c1b"
            }
          },
          "metadata": {}
        },
        {
          "output_type": "stream",
          "name": "stdout",
          "text": [
            "test_loss: 0.09196822345256805 test_accuracy_top_1: 1.0 test_accuracy_top_5: 1.0 auc: 1.0 precision: 1.0 recall: 1.0 f1: 1.0\n",
            "test_loss: 0.11874991655349731 test_accuracy_top_1: 1.0 test_accuracy_top_5: 1.0 auc: 1.0 precision: 1.0 recall: 1.0 f1: 1.0\n",
            "test_loss: 0.06732739508152008 test_accuracy_top_1: 1.0 test_accuracy_top_5: 1.0 auc: 1.0 precision: 1.0 recall: 1.0 f1: 1.0\n",
            "test_loss: 0.04840409755706787 test_accuracy_top_1: 1.0 test_accuracy_top_5: 1.0 auc: 1.0 precision: 1.0 recall: 1.0 f1: 1.0\n",
            "test_loss: 0.08243775367736816 test_accuracy_top_1: 1.0 test_accuracy_top_5: 1.0 auc: 1.0 precision: 1.0 recall: 1.0 f1: 1.0\n",
            "test_loss: 0.2779752016067505 test_accuracy_top_1: 0.875 test_accuracy_top_5: 1.0 auc: 0.9979166666666667 precision: 0.9375 recall: 0.9375 f1: 0.875\n",
            "test_loss: 0.012451879680156708 test_accuracy_top_1: 1.0 test_accuracy_top_5: 1.0 auc: 1.0 precision: 1.0 recall: 1.0 f1: 1.0\n",
            "test_loss: 0.01525782234966755 test_accuracy_top_1: 1.0 test_accuracy_top_5: 1.0 auc: 1.0 precision: 1.0 recall: 1.0 f1: 1.0\n",
            "test_loss: 0.16348227858543396 test_accuracy_top_1: 0.875 test_accuracy_top_5: 1.0 auc: 0.9989583333333334 precision: 0.9375 recall: 0.9375 f1: 0.875\n",
            "test_loss: 0.07907923310995102 test_accuracy_top_1: 1.0 test_accuracy_top_5: 1.0 auc: 1.0 precision: 1.0 recall: 1.0 f1: 1.0\n",
            "test_loss: 0.139902725815773 test_accuracy_top_1: 1.0 test_accuracy_top_5: 1.0 auc: 1.0 precision: 1.0 recall: 1.0 f1: 1.0\n",
            "test_loss: 0.11731301248073578 test_accuracy_top_1: 1.0 test_accuracy_top_5: 1.0 auc: 1.0 precision: 1.0 recall: 1.0 f1: 1.0\n",
            "test_loss: 0.7641542553901672 test_accuracy_top_1: 0.75 test_accuracy_top_5: 1.0 auc: 0.9864583333333333 precision: 0.9583333333333333 recall: 0.9583333333333333 f1: 0.9375\n",
            "test_loss: 0.011265124194324017 test_accuracy_top_1: 1.0 test_accuracy_top_5: 1.0 auc: 1.0 precision: 1.0 recall: 1.0 f1: 1.0\n",
            "test_loss: 0.020573263987898827 test_accuracy_top_1: 1.0 test_accuracy_top_5: 1.0 auc: 1.0 precision: 1.0 recall: 1.0 f1: 1.0\n",
            "test_loss: 0.09919366240501404 test_accuracy_top_1: 1.0 test_accuracy_top_5: 1.0 auc: 1.0 precision: 1.0 recall: 1.0 f1: 1.0\n",
            "test_loss: 0.061297979205846786 test_accuracy_top_1: 1.0 test_accuracy_top_5: 1.0 auc: 1.0 precision: 1.0 recall: 1.0 f1: 1.0\n",
            "test_loss: 0.1435963213443756 test_accuracy_top_1: 1.0 test_accuracy_top_5: 1.0 auc: 1.0 precision: 1.0 recall: 1.0 f1: 1.0\n",
            "test_loss: 0.01294437050819397 test_accuracy_top_1: 1.0 test_accuracy_top_5: 1.0 auc: 1.0 precision: 1.0 recall: 1.0 f1: 1.0\n",
            "test_loss: 0.13149459660053253 test_accuracy_top_1: 1.0 test_accuracy_top_5: 1.0 auc: 1.0 precision: 1.0 recall: 1.0 f1: 1.0\n",
            "test_loss: 0.09232860803604126 test_accuracy_top_1: 1.0 test_accuracy_top_5: 1.0 auc: 1.0 precision: 1.0 recall: 1.0 f1: 1.0\n",
            "test_loss: 0.23790965974330902 test_accuracy_top_1: 0.875 test_accuracy_top_5: 1.0 auc: 0.996875 precision: 0.9791666666666666 recall: 0.96875 f1: 0.9666666666666666\n",
            "test_loss: 0.06474314630031586 test_accuracy_top_1: 1.0 test_accuracy_top_5: 1.0 auc: 1.0 precision: 1.0 recall: 1.0 f1: 1.0\n",
            "test_loss: 0.8122511506080627 test_accuracy_top_1: 0.875 test_accuracy_top_5: 0.875 auc: 0.9812500000000001 precision: 0.9375 recall: 0.9375 f1: 0.875\n",
            "test_loss: 0.07836497575044632 test_accuracy_top_1: 1.0 test_accuracy_top_5: 1.0 auc: 1.0 precision: 1.0 recall: 1.0 f1: 1.0\n",
            "test_loss: 0.10815166682004929 test_accuracy_top_1: 1.0 test_accuracy_top_5: 1.0 auc: 1.0 precision: 1.0 recall: 1.0 f1: 1.0\n",
            "test_loss: 0.09372906386852264 test_accuracy_top_1: 1.0 test_accuracy_top_5: 1.0 auc: 1.0 precision: 1.0 recall: 1.0 f1: 1.0\n",
            "test_loss: 0.04282364994287491 test_accuracy_top_1: 1.0 test_accuracy_top_5: 1.0 auc: 1.0 precision: 1.0 recall: 1.0 f1: 1.0\n",
            "test_loss: 0.2982925772666931 test_accuracy_top_1: 0.875 test_accuracy_top_5: 1.0 auc: 0.9968750000000001 precision: 0.96875 recall: 0.9791666666666666 f1: 0.9666666666666666\n",
            "test_loss: 0.01742173545062542 test_accuracy_top_1: 1.0 test_accuracy_top_5: 1.0 auc: 1.0 precision: 1.0 recall: 1.0 f1: 1.0\n",
            "test_loss: 0.10797880589962006 test_accuracy_top_1: 1.0 test_accuracy_top_5: 1.0 auc: 1.0 precision: 1.0 recall: 1.0 f1: 1.0\n",
            "test_loss: 0.02047337219119072 test_accuracy_top_1: 1.0 test_accuracy_top_5: 1.0 auc: 1.0 precision: 1.0 recall: 1.0 f1: 1.0\n",
            "test_loss: 0.059886664152145386 test_accuracy_top_1: 1.0 test_accuracy_top_5: 1.0 auc: 1.0 precision: 1.0 recall: 1.0 f1: 1.0\n",
            "test_loss: 0.21076226234436035 test_accuracy_top_1: 0.875 test_accuracy_top_5: 1.0 auc: 0.9989583333333334 precision: 0.9375 recall: 0.9375 f1: 0.875\n",
            "test_loss: 0.06116599962115288 test_accuracy_top_1: 1.0 test_accuracy_top_5: 1.0 auc: 1.0 precision: 1.0 recall: 1.0 f1: 1.0\n",
            "test_loss: 0.052368588745594025 test_accuracy_top_1: 1.0 test_accuracy_top_5: 1.0 auc: 1.0 precision: 1.0 recall: 1.0 f1: 1.0\n",
            "test_loss: 0.018046235665678978 test_accuracy_top_1: 1.0 test_accuracy_top_5: 1.0 auc: 1.0 precision: 1.0 recall: 1.0 f1: 1.0\n",
            "test_loss: 0.09907460957765579 test_accuracy_top_1: 1.0 test_accuracy_top_5: 1.0 auc: 1.0 precision: 1.0 recall: 1.0 f1: 1.0\n",
            "test_loss: 0.13122405111789703 test_accuracy_top_1: 1.0 test_accuracy_top_5: 1.0 auc: 1.0 precision: 1.0 recall: 1.0 f1: 1.0\n",
            "test_loss: 0.004603380803018808 test_accuracy_top_1: 1.0 test_accuracy_top_5: 1.0 auc: 1.0 precision: 1.0 recall: 1.0 f1: 1.0\n",
            "test_loss: 0.00031479846802540123 test_accuracy_top_1: 1.0 test_accuracy_top_5: 1.0 auc: 1.0 precision: 1.0 recall: 1.0 f1: 1.0\n",
            "test_loss: 0.0028018122538924217 test_accuracy_top_1: 1.0 test_accuracy_top_5: 1.0 auc: 1.0 precision: 1.0 recall: 1.0 f1: 1.0\n",
            "test_loss: 2.5748875486897305e-05 test_accuracy_top_1: 1.0 test_accuracy_top_5: 1.0 auc: 1.0 precision: 1.0 recall: 1.0 f1: 1.0\n",
            "test_loss: 0.004658559802919626 test_accuracy_top_1: 1.0 test_accuracy_top_5: 1.0 auc: 1.0 precision: 1.0 recall: 1.0 f1: 1.0\n",
            "test_loss: 0.0008516260422766209 test_accuracy_top_1: 1.0 test_accuracy_top_5: 1.0 auc: 1.0 precision: 1.0 recall: 1.0 f1: 1.0\n",
            "test_loss: 0.0025118011981248856 test_accuracy_top_1: 1.0 test_accuracy_top_5: 1.0 auc: 1.0 precision: 1.0 recall: 1.0 f1: 1.0\n",
            "test_loss: 0.02150888368487358 test_accuracy_top_1: 1.0 test_accuracy_top_5: 1.0 auc: 1.0 precision: 1.0 recall: 1.0 f1: 1.0\n",
            "test_loss: 7.760223525110632e-05 test_accuracy_top_1: 1.0 test_accuracy_top_5: 1.0 auc: 1.0 precision: 1.0 recall: 1.0 f1: 1.0\n"
          ]
        },
        {
          "output_type": "display_data",
          "data": {
            "text/plain": [
              "┏━━━━━━━━━━━━━━━━━━━━━━━━━━━┳━━━━━━━━━━━━━━━━━━━━━━━━━━━┓\n",
              "┃\u001b[1m \u001b[0m\u001b[1m       Test metric       \u001b[0m\u001b[1m \u001b[0m┃\u001b[1m \u001b[0m\u001b[1m      DataLoader 0       \u001b[0m\u001b[1m \u001b[0m┃\n",
              "┡━━━━━━━━━━━━━━━━━━━━━━━━━━━╇━━━━━━━━━━━━━━━━━━━━━━━━━━━┩\n",
              "│\u001b[36m \u001b[0m\u001b[36m           auc           \u001b[0m\u001b[36m \u001b[0m│\u001b[35m \u001b[0m\u001b[35m   0.9991102814674377    \u001b[0m\u001b[35m \u001b[0m│\n",
              "│\u001b[36m \u001b[0m\u001b[36m           f1            \u001b[0m\u001b[36m \u001b[0m│\u001b[35m \u001b[0m\u001b[35m   0.9868924021720886    \u001b[0m\u001b[35m \u001b[0m│\n",
              "│\u001b[36m \u001b[0m\u001b[36m        precision        \u001b[0m\u001b[36m \u001b[0m│\u001b[35m \u001b[0m\u001b[35m   0.9928385615348816    \u001b[0m\u001b[35m \u001b[0m│\n",
              "│\u001b[36m \u001b[0m\u001b[36m         recall          \u001b[0m\u001b[36m \u001b[0m│\u001b[35m \u001b[0m\u001b[35m   0.9928385615348816    \u001b[0m\u001b[35m \u001b[0m│\n",
              "│\u001b[36m \u001b[0m\u001b[36m   test_accuracy_top_1   \u001b[0m\u001b[36m \u001b[0m│\u001b[35m \u001b[0m\u001b[35m   0.9791666865348816    \u001b[0m\u001b[35m \u001b[0m│\n",
              "│\u001b[36m \u001b[0m\u001b[36m   test_accuracy_top_5   \u001b[0m\u001b[36m \u001b[0m│\u001b[35m \u001b[0m\u001b[35m   0.9973958134651184    \u001b[0m\u001b[35m \u001b[0m│\n",
              "│\u001b[36m \u001b[0m\u001b[36m        test_loss        \u001b[0m\u001b[36m \u001b[0m│\u001b[35m \u001b[0m\u001b[35m   0.10631709545850754   \u001b[0m\u001b[35m \u001b[0m│\n",
              "└───────────────────────────┴───────────────────────────┘\n"
            ],
            "text/html": [
              "<pre style=\"white-space:pre;overflow-x:auto;line-height:normal;font-family:Menlo,'DejaVu Sans Mono',consolas,'Courier New',monospace\">┏━━━━━━━━━━━━━━━━━━━━━━━━━━━┳━━━━━━━━━━━━━━━━━━━━━━━━━━━┓\n",
              "┃<span style=\"font-weight: bold\">        Test metric        </span>┃<span style=\"font-weight: bold\">       DataLoader 0        </span>┃\n",
              "┡━━━━━━━━━━━━━━━━━━━━━━━━━━━╇━━━━━━━━━━━━━━━━━━━━━━━━━━━┩\n",
              "│<span style=\"color: #008080; text-decoration-color: #008080\">            auc            </span>│<span style=\"color: #800080; text-decoration-color: #800080\">    0.9991102814674377     </span>│\n",
              "│<span style=\"color: #008080; text-decoration-color: #008080\">            f1             </span>│<span style=\"color: #800080; text-decoration-color: #800080\">    0.9868924021720886     </span>│\n",
              "│<span style=\"color: #008080; text-decoration-color: #008080\">         precision         </span>│<span style=\"color: #800080; text-decoration-color: #800080\">    0.9928385615348816     </span>│\n",
              "│<span style=\"color: #008080; text-decoration-color: #008080\">          recall           </span>│<span style=\"color: #800080; text-decoration-color: #800080\">    0.9928385615348816     </span>│\n",
              "│<span style=\"color: #008080; text-decoration-color: #008080\">    test_accuracy_top_1    </span>│<span style=\"color: #800080; text-decoration-color: #800080\">    0.9791666865348816     </span>│\n",
              "│<span style=\"color: #008080; text-decoration-color: #008080\">    test_accuracy_top_5    </span>│<span style=\"color: #800080; text-decoration-color: #800080\">    0.9973958134651184     </span>│\n",
              "│<span style=\"color: #008080; text-decoration-color: #008080\">         test_loss         </span>│<span style=\"color: #800080; text-decoration-color: #800080\">    0.10631709545850754    </span>│\n",
              "└───────────────────────────┴───────────────────────────┘\n",
              "</pre>\n"
            ]
          },
          "metadata": {}
        },
        {
          "output_type": "execute_result",
          "data": {
            "text/plain": [
              "[{'test_loss': 0.10631709545850754,\n",
              "  'test_accuracy_top_1': 0.9791666865348816,\n",
              "  'test_accuracy_top_5': 0.9973958134651184,\n",
              "  'auc': 0.9991102814674377,\n",
              "  'precision': 0.9928385615348816,\n",
              "  'recall': 0.9928385615348816,\n",
              "  'f1': 0.9868924021720886}]"
            ]
          },
          "metadata": {},
          "execution_count": 26
        }
      ],
      "source": [
        "trainer.test(model=classification_module, datamodule=data_module, ckpt_path=best_checkpoint_path, verbose=True)"
      ]
    },
    {
      "cell_type": "markdown",
      "source": [
        "# TSNE"
      ],
      "metadata": {
        "id": "BtFuX8SuCGr-"
      }
    },
    {
      "cell_type": "code",
      "source": [
        "TSNE_model = VideoClassificationLightningModule.load_from_checkpoint(best_checkpoint_path)\n",
        "TSNE_model.to('cpu')\n",
        "TSNE_model.model.blocks.pop(6)\n",
        "TSNE_model.eval()\n",
        "print(\"done\")"
      ],
      "metadata": {
        "colab": {
          "base_uri": "https://localhost:8080/"
        },
        "id": "ULEPmSyTCILk",
        "outputId": "28cc5c55-dfc2-4986-b5e1-ec664cae2ec8"
      },
      "execution_count": null,
      "outputs": [
        {
          "output_type": "stream",
          "name": "stderr",
          "text": [
            "Using cache found in /root/.cache/torch/hub/facebookresearch_pytorchvideo_main\n"
          ]
        },
        {
          "output_type": "stream",
          "name": "stdout",
          "text": [
            "done\n"
          ]
        }
      ]
    },
    {
      "cell_type": "code",
      "source": [
        "from sklearn.manifold import TSNE\n",
        "import random\n",
        "import matplotlib.pyplot as plt"
      ],
      "metadata": {
        "id": "RbmJ1rHPCLHt"
      },
      "execution_count": null,
      "outputs": []
    },
    {
      "cell_type": "code",
      "source": [
        "seed = 10\n",
        "random.seed(seed)\n",
        "torch.manual_seed(seed)\n",
        "np.random.seed(seed)"
      ],
      "metadata": {
        "id": "7myJZnrNCMJ_"
      },
      "execution_count": null,
      "outputs": []
    },
    {
      "cell_type": "code",
      "source": [
        "labels = []\n",
        "features = None"
      ],
      "metadata": {
        "id": "W_oirFUNCOJ6"
      },
      "execution_count": null,
      "outputs": []
    },
    {
      "cell_type": "code",
      "source": [
        "thingy = data_module.test_dataloader()\n",
        "for batch in thingy:\n",
        "  x = batch[\"video\"]\n",
        "  labels += batch[\"label\"]\n",
        "\n",
        "  with torch.no_grad():\n",
        "    output = TSNE_model(x)\n",
        "    output = torch.flatten(output, 1)\n",
        "\n",
        "  current_features = output.cpu().numpy()\n",
        "\n",
        "  if features is not None:\n",
        "    features = np.concatenate((features, current_features))\n",
        "  else:\n",
        "    features = current_features"
      ],
      "metadata": {
        "id": "zLsYVEWECPrb"
      },
      "execution_count": null,
      "outputs": []
    },
    {
      "cell_type": "code",
      "source": [
        "tsne = TSNE(n_components=2).fit_transform(features)"
      ],
      "metadata": {
        "id": "RnJeizXECSW7"
      },
      "execution_count": null,
      "outputs": []
    },
    {
      "cell_type": "code",
      "source": [
        "# scale and move the coordinates so they fit [0; 1] range\n",
        "def scale_to_01_range(x):\n",
        "    # compute the distribution range\n",
        "    value_range = (np.max(x) - np.min(x))\n",
        "\n",
        "    # move the distribution so that it starts from zero\n",
        "    # by extracting the minimal value from all its values\n",
        "    starts_from_zero = x - np.min(x)\n",
        "\n",
        "    # make the distribution fit [0; 1] by dividing by its range\n",
        "    return starts_from_zero / value_range\n",
        "\n",
        "# extract x and y coordinates representing the positions of the images on T-SNE plot\n",
        "tx = tsne[:, 0]\n",
        "ty = tsne[:, 1]\n",
        "\n",
        "tx = scale_to_01_range(tx)\n",
        "ty = scale_to_01_range(ty)"
      ],
      "metadata": {
        "id": "5PXEvxJlCUJz"
      },
      "execution_count": null,
      "outputs": []
    },
    {
      "cell_type": "code",
      "source": [
        "colors_per_class = {\n",
        "    0: [254, 202, 87],\n",
        "    1: [255, 107, 107],\n",
        "    2: [10, 189, 227],\n",
        "    3: [255, 159, 243],\n",
        "    4: [16, 172, 132],\n",
        "    5: [128, 80, 128],\n",
        "    6: [87, 101, 116],\n",
        "    7: [52, 31, 151],\n",
        "    8: [0, 0, 0],\n",
        "    9: [100, 100, 255],\n",
        "    10: [128, 109, 84],\n",
        "    11: [15, 245, 218],\n",
        "    12: [242, 10, 21],\n",
        "    13: [242, 10, 149],\n",
        "    14: [40, 242, 0],\n",
        "    15: [255, 153, 10]\n",
        "}"
      ],
      "metadata": {
        "id": "QVF3CvuOCVZH"
      },
      "execution_count": null,
      "outputs": []
    },
    {
      "cell_type": "code",
      "source": [
        "# initialize a matplotlib plot\n",
        "fig = plt.figure()\n",
        "ax = fig.add_subplot(111)\n",
        "\n",
        "# for every class, we'll add a scatter plot separately\n",
        "for label in colors_per_class:\n",
        "    # find the samples of the current class in the data\n",
        "    indices = [i for i, l in enumerate(labels) if l == label]\n",
        "\n",
        "    # extract the coordinates of the points of this class only\n",
        "    current_tx = np.take(tx, indices)\n",
        "    current_ty = np.take(ty, indices)\n",
        "\n",
        "    # convert the class color to matplotlib format\n",
        "    color = np.array(colors_per_class[label], dtype=np.float) / 255\n",
        "\n",
        "    # add a scatter plot with the corresponding color and label\n",
        "    ax.scatter(current_tx, current_ty, c=color, label=label, s=15)\n",
        "\n",
        "# build a legend using the labels we set previously\n",
        "ax.legend(loc='best')\n",
        "\n",
        "# finally, show the plot\n",
        "plt.show()"
      ],
      "metadata": {
        "colab": {
          "base_uri": "https://localhost:8080/",
          "height": 537
        },
        "id": "7rIVvzH-CWkq",
        "outputId": "e03cd092-21dc-4173-d3a1-acbda46ac17f"
      },
      "execution_count": null,
      "outputs": [
        {
          "output_type": "stream",
          "name": "stderr",
          "text": [
            "<ipython-input-52-885392fecd81>:15: DeprecationWarning: `np.float` is a deprecated alias for the builtin `float`. To silence this warning, use `float` by itself. Doing this will not modify any behavior and is safe. If you specifically wanted the numpy scalar type, use `np.float64` here.\n",
            "Deprecated in NumPy 1.20; for more details and guidance: https://numpy.org/devdocs/release/1.20.0-notes.html#deprecations\n",
            "  color = np.array(colors_per_class[label], dtype=np.float) / 255\n",
            "<ipython-input-52-885392fecd81>:18: UserWarning: *c* argument looks like a single numeric RGB or RGBA sequence, which should be avoided as value-mapping will have precedence in case its length matches with *x* & *y*.  Please use the *color* keyword-argument or provide a 2D array with a single row if you intend to specify the same RGB or RGBA value for all points.\n",
            "  ax.scatter(current_tx, current_ty, c=color, label=label, s=15)\n"
          ]
        },
        {
          "output_type": "display_data",
          "data": {
            "text/plain": [
              "<Figure size 640x480 with 1 Axes>"
            ],
            "image/png": "[encoded data removed]"
          },
          "metadata": {}
        }
      ]
    }
  ],
  "metadata": {
    "colab": {
      "collapsed_sections": [
        "zF1yCYSsRjY5",
        "vUCYRaUcwEN2",
        "POxqkd5aRrmt",
        "8hUKUCHxR5g6",
        "z5dqGI2sSaZz",
        "8csUFcsFoKft",
        "BtFuX8SuCGr-"
      ],
      "provenance": [],
      "machine_shape": "hm",
      "gpuType": "V100"
    },
    "kernelspec": {
      "display_name": "Python 3",
      "name": "python3"
    },
    "language_info": {
      "name": "python"
    },
    "widgets": {
      "application/vnd.jupyter.widget-state+json": {
        "2f1cd609d4514cb5ab030a29f8132c1b": {
          "model_module": "@jupyter-widgets/controls",
          "model_name": "HBoxModel",
          "model_module_version": "1.5.0",
          "state": {
            "_dom_classes": [],
            "_model_module": "@jupyter-widgets/controls",
            "_model_module_version": "1.5.0",
            "_model_name": "HBoxModel",
            "_view_count": null,
            "_view_module": "@jupyter-widgets/controls",
            "_view_module_version": "1.5.0",
            "_view_name": "HBoxView",
            "box_style": "",
            "children": [
              "IPY_MODEL_7df5670482394cbd92410b1fcf9fd1f8",
              "IPY_MODEL_f88ea33e6c5849a3a9392650375ec83c",
              "IPY_MODEL_647d2c249b3e4deda3ba2f3a0dcc8e7b"
            ],
            "layout": "IPY_MODEL_88765b6572414f958e7337541f7aa0e1"
          }
        },
        "7df5670482394cbd92410b1fcf9fd1f8": {
          "model_module": "@jupyter-widgets/controls",
          "model_name": "HTMLModel",
          "model_module_version": "1.5.0",
          "state": {
            "_dom_classes": [],
            "_model_module": "@jupyter-widgets/controls",
            "_model_module_version": "1.5.0",
            "_model_name": "HTMLModel",
            "_view_count": null,
            "_view_module": "@jupyter-widgets/controls",
            "_view_module_version": "1.5.0",
            "_view_name": "HTMLView",
            "description": "",
            "description_tooltip": null,
            "layout": "IPY_MODEL_43ea3577af0f44db870dff2f1220d51b",
            "placeholder": "​",
            "style": "IPY_MODEL_59c4213ed14e448fa9ceb5043b554659",
            "value": "Testing DataLoader 0: "
          }
        },
        "f88ea33e6c5849a3a9392650375ec83c": {
          "model_module": "@jupyter-widgets/controls",
          "model_name": "FloatProgressModel",
          "model_module_version": "1.5.0",
          "state": {
            "_dom_classes": [],
            "_model_module": "@jupyter-widgets/controls",
            "_model_module_version": "1.5.0",
            "_model_name": "FloatProgressModel",
            "_view_count": null,
            "_view_module": "@jupyter-widgets/controls",
            "_view_module_version": "1.5.0",
            "_view_name": "ProgressView",
            "bar_style": "success",
            "description": "",
            "description_tooltip": null,
            "layout": "IPY_MODEL_a1ae87568d234535a7372ed76d436b5c",
            "max": 1,
            "min": 0,
            "orientation": "horizontal",
            "style": "IPY_MODEL_9137bc3cf5a1412da9637f395d5cb076",
            "value": 1
          }
        },
        "647d2c249b3e4deda3ba2f3a0dcc8e7b": {
          "model_module": "@jupyter-widgets/controls",
          "model_name": "HTMLModel",
          "model_module_version": "1.5.0",
          "state": {
            "_dom_classes": [],
            "_model_module": "@jupyter-widgets/controls",
            "_model_module_version": "1.5.0",
            "_model_name": "HTMLModel",
            "_view_count": null,
            "_view_module": "@jupyter-widgets/controls",
            "_view_module_version": "1.5.0",
            "_view_name": "HTMLView",
            "description": "",
            "description_tooltip": null,
            "layout": "IPY_MODEL_d2cb445200fc4224b87a7ca908f3e2fe",
            "placeholder": "​",
            "style": "IPY_MODEL_faf9971d5c924fe9a555c049919724bb",
            "value": " 40/? [02:45&lt;00:00,  0.24it/s]"
          }
        },
        "88765b6572414f958e7337541f7aa0e1": {
          "model_module": "@jupyter-widgets/base",
          "model_name": "LayoutModel",
          "model_module_version": "1.2.0",
          "state": {
            "_model_module": "@jupyter-widgets/base",
            "_model_module_version": "1.2.0",
            "_model_name": "LayoutModel",
            "_view_count": null,
            "_view_module": "@jupyter-widgets/base",
            "_view_module_version": "1.2.0",
            "_view_name": "LayoutView",
            "align_content": null,
            "align_items": null,
            "align_self": null,
            "border": null,
            "bottom": null,
            "display": "inline-flex",
            "flex": null,
            "flex_flow": "row wrap",
            "grid_area": null,
            "grid_auto_columns": null,
            "grid_auto_flow": null,
            "grid_auto_rows": null,
            "grid_column": null,
            "grid_gap": null,
            "grid_row": null,
            "grid_template_areas": null,
            "grid_template_columns": null,
            "grid_template_rows": null,
            "height": null,
            "justify_content": null,
            "justify_items": null,
            "left": null,
            "margin": null,
            "max_height": null,
            "max_width": null,
            "min_height": null,
            "min_width": null,
            "object_fit": null,
            "object_position": null,
            "order": null,
            "overflow": null,
            "overflow_x": null,
            "overflow_y": null,
            "padding": null,
            "right": null,
            "top": null,
            "visibility": null,
            "width": "100%"
          }
        },
        "43ea3577af0f44db870dff2f1220d51b": {
          "model_module": "@jupyter-widgets/base",
          "model_name": "LayoutModel",
          "model_module_version": "1.2.0",
          "state": {
            "_model_module": "@jupyter-widgets/base",
            "_model_module_version": "1.2.0",
            "_model_name": "LayoutModel",
            "_view_count": null,
            "_view_module": "@jupyter-widgets/base",
            "_view_module_version": "1.2.0",
            "_view_name": "LayoutView",
            "align_content": null,
            "align_items": null,
            "align_self": null,
            "border": null,
            "bottom": null,
            "display": null,
            "flex": null,
            "flex_flow": null,
            "grid_area": null,
            "grid_auto_columns": null,
            "grid_auto_flow": null,
            "grid_auto_rows": null,
            "grid_column": null,
            "grid_gap": null,
            "grid_row": null,
            "grid_template_areas": null,
            "grid_template_columns": null,
            "grid_template_rows": null,
            "height": null,
            "justify_content": null,
            "justify_items": null,
            "left": null,
            "margin": null,
            "max_height": null,
            "max_width": null,
            "min_height": null,
            "min_width": null,
            "object_fit": null,
            "object_position": null,
            "order": null,
            "overflow": null,
            "overflow_x": null,
            "overflow_y": null,
            "padding": null,
            "right": null,
            "top": null,
            "visibility": null,
            "width": null
          }
        },
        "59c4213ed14e448fa9ceb5043b554659": {
          "model_module": "@jupyter-widgets/controls",
          "model_name": "DescriptionStyleModel",
          "model_module_version": "1.5.0",
          "state": {
            "_model_module": "@jupyter-widgets/controls",
            "_model_module_version": "1.5.0",
            "_model_name": "DescriptionStyleModel",
            "_view_count": null,
            "_view_module": "@jupyter-widgets/base",
            "_view_module_version": "1.2.0",
            "_view_name": "StyleView",
            "description_width": ""
          }
        },
        "a1ae87568d234535a7372ed76d436b5c": {
          "model_module": "@jupyter-widgets/base",
          "model_name": "LayoutModel",
          "model_module_version": "1.2.0",
          "state": {
            "_model_module": "@jupyter-widgets/base",
            "_model_module_version": "1.2.0",
            "_model_name": "LayoutModel",
            "_view_count": null,
            "_view_module": "@jupyter-widgets/base",
            "_view_module_version": "1.2.0",
            "_view_name": "LayoutView",
            "align_content": null,
            "align_items": null,
            "align_self": null,
            "border": null,
            "bottom": null,
            "display": null,
            "flex": "2",
            "flex_flow": null,
            "grid_area": null,
            "grid_auto_columns": null,
            "grid_auto_flow": null,
            "grid_auto_rows": null,
            "grid_column": null,
            "grid_gap": null,
            "grid_row": null,
            "grid_template_areas": null,
            "grid_template_columns": null,
            "grid_template_rows": null,
            "height": null,
            "justify_content": null,
            "justify_items": null,
            "left": null,
            "margin": null,
            "max_height": null,
            "max_width": null,
            "min_height": null,
            "min_width": null,
            "object_fit": null,
            "object_position": null,
            "order": null,
            "overflow": null,
            "overflow_x": null,
            "overflow_y": null,
            "padding": null,
            "right": null,
            "top": null,
            "visibility": null,
            "width": null
          }
        },
        "9137bc3cf5a1412da9637f395d5cb076": {
          "model_module": "@jupyter-widgets/controls",
          "model_name": "ProgressStyleModel",
          "model_module_version": "1.5.0",
          "state": {
            "_model_module": "@jupyter-widgets/controls",
            "_model_module_version": "1.5.0",
            "_model_name": "ProgressStyleModel",
            "_view_count": null,
            "_view_module": "@jupyter-widgets/base",
            "_view_module_version": "1.2.0",
            "_view_name": "StyleView",
            "bar_color": null,
            "description_width": ""
          }
        },
        "d2cb445200fc4224b87a7ca908f3e2fe": {
          "model_module": "@jupyter-widgets/base",
          "model_name": "LayoutModel",
          "model_module_version": "1.2.0",
          "state": {
            "_model_module": "@jupyter-widgets/base",
            "_model_module_version": "1.2.0",
            "_model_name": "LayoutModel",
            "_view_count": null,
            "_view_module": "@jupyter-widgets/base",
            "_view_module_version": "1.2.0",
            "_view_name": "LayoutView",
            "align_content": null,
            "align_items": null,
            "align_self": null,
            "border": null,
            "bottom": null,
            "display": null,
            "flex": null,
            "flex_flow": null,
            "grid_area": null,
            "grid_auto_columns": null,
            "grid_auto_flow": null,
            "grid_auto_rows": null,
            "grid_column": null,
            "grid_gap": null,
            "grid_row": null,
            "grid_template_areas": null,
            "grid_template_columns": null,
            "grid_template_rows": null,
            "height": null,
            "justify_content": null,
            "justify_items": null,
            "left": null,
            "margin": null,
            "max_height": null,
            "max_width": null,
            "min_height": null,
            "min_width": null,
            "object_fit": null,
            "object_position": null,
            "order": null,
            "overflow": null,
            "overflow_x": null,
            "overflow_y": null,
            "padding": null,
            "right": null,
            "top": null,
            "visibility": null,
            "width": null
          }
        },
        "faf9971d5c924fe9a555c049919724bb": {
          "model_module": "@jupyter-widgets/controls",
          "model_name": "DescriptionStyleModel",
          "model_module_version": "1.5.0",
          "state": {
            "_model_module": "@jupyter-widgets/controls",
            "_model_module_version": "1.5.0",
            "_model_name": "DescriptionStyleModel",
            "_view_count": null,
            "_view_module": "@jupyter-widgets/base",
            "_view_module_version": "1.2.0",
            "_view_name": "StyleView",
            "description_width": ""
          }
        }
      }
    },
    "accelerator": "GPU"
  },
  "nbformat": 4,
  "nbformat_minor": 0
}