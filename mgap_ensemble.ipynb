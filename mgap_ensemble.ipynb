{
  "cells": [
    {
      "cell_type": "markdown",
      "metadata": {
        "id": "OpEPGNddtccp"
      },
      "source": [
        "**Introduction**\n",
        "\n",
        "This is a Google Colab Notebook which trains a PySlowFast+X3D ensemble model (using pytorchvideo) on a dataset of videos. The dataset's directory should have 3 sub-directories, one for \"train\", \"val\", and \"test\". In each of these directories should be more directories, named with the dataset's classes. Then, within each of these directories should be videos, whose label corresponds to the directory they are placed in (e.g. dataset->train->archery->archery_1.mph).\n",
        "\n",
        "The \"Set-up\" section is used for downloading necessary packages and intiliazing variables. Take a look at the variables (such as file paths), and change them accordingly.\n",
        "\n",
        "The \"Class Creation for Dataloaders\" section creates the classes/objects necessary for creating and using dataloaders later in the process. Within this section is a commented code block which would change the transform function to one of a resnet. Uncommenting this code block, and changing the model to \"make_resnet\" in \"Model Creation\" would use a resnet50 instead.\n",
        "\n",
        "The \"Model Creation\" section creates the object that is used as the Lightning Module for the model.\n",
        "\n",
        "The \"Training\" section trains the model using the Trainer from Pytorch Lightning.\n",
        "\n",
        "The \"Testing\" section tests the model using Trainer.test and a script that manually tests every file in the testing dataset.\n",
        "\n",
        "The \"TSNE\" section creates a TSNE."
      ]
    },
    {
      "cell_type": "markdown",
      "metadata": {
        "id": "zF1yCYSsRjY5"
      },
      "source": [
        "# Set-up\n"
      ]
    },
    {
      "cell_type": "code",
      "execution_count": null,
      "metadata": {
        "colab": {
          "base_uri": "https://localhost:8080/"
        },
        "id": "cP8OZwTSRk0W",
        "outputId": "775999bf-b45d-4f0e-dc4a-7053abbd4d50"
      },
      "outputs": [
        {
          "output_type": "stream",
          "name": "stdout",
          "text": [
            "Drive already mounted at /content/drive; to attempt to forcibly remount, call drive.mount(\"/content/drive\", force_remount=True).\n"
          ]
        }
      ],
      "source": [
        "from google.colab import drive\n",
        "drive.mount('/content/drive')"
      ]
    },
    {
      "cell_type": "code",
      "execution_count": null,
      "metadata": {
        "id": "rsUoGFOVQlw2",
        "colab": {
          "base_uri": "https://localhost:8080/"
        },
        "outputId": "eec5fb1d-723d-4705-9d80-1ce7ef10a260"
      },
      "outputs": [
        {
          "output_type": "stream",
          "name": "stdout",
          "text": [
            "The tensorboard extension is already loaded. To reload it, use:\n",
            "  %reload_ext tensorboard\n"
          ]
        }
      ],
      "source": [
        "%load_ext tensorboard"
      ]
    },
    {
      "cell_type": "code",
      "execution_count": null,
      "metadata": {
        "colab": {
          "base_uri": "https://localhost:8080/"
        },
        "id": "Q0KrecHPgICZ",
        "outputId": "5322ef9f-b387-477a-c3b8-70e51236a470"
      },
      "outputs": [
        {
          "output_type": "stream",
          "name": "stdout",
          "text": [
            "Requirement already satisfied: pytorchvideo in /usr/local/lib/python3.10/dist-packages (0.1.5)\n",
            "Requirement already satisfied: fvcore in /usr/local/lib/python3.10/dist-packages (from pytorchvideo) (0.1.5.post20221221)\n",
            "Requirement already satisfied: av in /usr/local/lib/python3.10/dist-packages (from pytorchvideo) (11.0.0)\n",
            "Requirement already satisfied: parameterized in /usr/local/lib/python3.10/dist-packages (from pytorchvideo) (0.9.0)\n",
            "Requirement already satisfied: iopath in /usr/local/lib/python3.10/dist-packages (from pytorchvideo) (0.1.10)\n",
            "Requirement already satisfied: networkx in /usr/local/lib/python3.10/dist-packages (from pytorchvideo) (3.2.1)\n",
            "Requirement already satisfied: numpy in /usr/local/lib/python3.10/dist-packages (from fvcore->pytorchvideo) (1.23.5)\n",
            "Requirement already satisfied: yacs>=0.1.6 in /usr/local/lib/python3.10/dist-packages (from fvcore->pytorchvideo) (0.1.8)\n",
            "Requirement already satisfied: pyyaml>=5.1 in /usr/local/lib/python3.10/dist-packages (from fvcore->pytorchvideo) (6.0.1)\n",
            "Requirement already satisfied: tqdm in /usr/local/lib/python3.10/dist-packages (from fvcore->pytorchvideo) (4.66.1)\n",
            "Requirement already satisfied: termcolor>=1.1 in /usr/local/lib/python3.10/dist-packages (from fvcore->pytorchvideo) (2.4.0)\n",
            "Requirement already satisfied: Pillow in /usr/local/lib/python3.10/dist-packages (from fvcore->pytorchvideo) (9.4.0)\n",
            "Requirement already satisfied: tabulate in /usr/local/lib/python3.10/dist-packages (from fvcore->pytorchvideo) (0.9.0)\n",
            "Requirement already satisfied: typing-extensions in /usr/local/lib/python3.10/dist-packages (from iopath->pytorchvideo) (4.5.0)\n",
            "Requirement already satisfied: portalocker in /usr/local/lib/python3.10/dist-packages (from iopath->pytorchvideo) (2.8.2)\n",
            "Requirement already satisfied: pytorch_lightning in /usr/local/lib/python3.10/dist-packages (2.1.4)\n",
            "Requirement already satisfied: numpy>=1.17.2 in /usr/local/lib/python3.10/dist-packages (from pytorch_lightning) (1.23.5)\n",
            "Requirement already satisfied: torch>=1.12.0 in /usr/local/lib/python3.10/dist-packages (from pytorch_lightning) (2.1.0+cu121)\n",
            "Requirement already satisfied: tqdm>=4.57.0 in /usr/local/lib/python3.10/dist-packages (from pytorch_lightning) (4.66.1)\n",
            "Requirement already satisfied: PyYAML>=5.4 in /usr/local/lib/python3.10/dist-packages (from pytorch_lightning) (6.0.1)\n",
            "Requirement already satisfied: fsspec[http]>=2022.5.0 in /usr/local/lib/python3.10/dist-packages (from pytorch_lightning) (2023.6.0)\n",
            "Requirement already satisfied: torchmetrics>=0.7.0 in /usr/local/lib/python3.10/dist-packages (from pytorch_lightning) (1.3.0.post0)\n",
            "Requirement already satisfied: packaging>=20.0 in /usr/local/lib/python3.10/dist-packages (from pytorch_lightning) (23.2)\n",
            "Requirement already satisfied: typing-extensions>=4.0.0 in /usr/local/lib/python3.10/dist-packages (from pytorch_lightning) (4.5.0)\n",
            "Requirement already satisfied: lightning-utilities>=0.8.0 in /usr/local/lib/python3.10/dist-packages (from pytorch_lightning) (0.10.1)\n",
            "Requirement already satisfied: requests in /usr/local/lib/python3.10/dist-packages (from fsspec[http]>=2022.5.0->pytorch_lightning) (2.31.0)\n",
            "Requirement already satisfied: aiohttp!=4.0.0a0,!=4.0.0a1 in /usr/local/lib/python3.10/dist-packages (from fsspec[http]>=2022.5.0->pytorch_lightning) (3.9.3)\n",
            "Requirement already satisfied: setuptools in /usr/local/lib/python3.10/dist-packages (from lightning-utilities>=0.8.0->pytorch_lightning) (67.7.2)\n",
            "Requirement already satisfied: filelock in /usr/local/lib/python3.10/dist-packages (from torch>=1.12.0->pytorch_lightning) (3.13.1)\n",
            "Requirement already satisfied: sympy in /usr/local/lib/python3.10/dist-packages (from torch>=1.12.0->pytorch_lightning) (1.12)\n",
            "Requirement already satisfied: networkx in /usr/local/lib/python3.10/dist-packages (from torch>=1.12.0->pytorch_lightning) (3.2.1)\n",
            "Requirement already satisfied: jinja2 in /usr/local/lib/python3.10/dist-packages (from torch>=1.12.0->pytorch_lightning) (3.1.3)\n",
            "Requirement already satisfied: triton==2.1.0 in /usr/local/lib/python3.10/dist-packages (from torch>=1.12.0->pytorch_lightning) (2.1.0)\n",
            "Requirement already satisfied: aiosignal>=1.1.2 in /usr/local/lib/python3.10/dist-packages (from aiohttp!=4.0.0a0,!=4.0.0a1->fsspec[http]>=2022.5.0->pytorch_lightning) (1.3.1)\n",
            "Requirement already satisfied: attrs>=17.3.0 in /usr/local/lib/python3.10/dist-packages (from aiohttp!=4.0.0a0,!=4.0.0a1->fsspec[http]>=2022.5.0->pytorch_lightning) (23.2.0)\n",
            "Requirement already satisfied: frozenlist>=1.1.1 in /usr/local/lib/python3.10/dist-packages (from aiohttp!=4.0.0a0,!=4.0.0a1->fsspec[http]>=2022.5.0->pytorch_lightning) (1.4.1)\n",
            "Requirement already satisfied: multidict<7.0,>=4.5 in /usr/local/lib/python3.10/dist-packages (from aiohttp!=4.0.0a0,!=4.0.0a1->fsspec[http]>=2022.5.0->pytorch_lightning) (6.0.4)\n",
            "Requirement already satisfied: yarl<2.0,>=1.0 in /usr/local/lib/python3.10/dist-packages (from aiohttp!=4.0.0a0,!=4.0.0a1->fsspec[http]>=2022.5.0->pytorch_lightning) (1.9.4)\n",
            "Requirement already satisfied: async-timeout<5.0,>=4.0 in /usr/local/lib/python3.10/dist-packages (from aiohttp!=4.0.0a0,!=4.0.0a1->fsspec[http]>=2022.5.0->pytorch_lightning) (4.0.3)\n",
            "Requirement already satisfied: MarkupSafe>=2.0 in /usr/local/lib/python3.10/dist-packages (from jinja2->torch>=1.12.0->pytorch_lightning) (2.1.4)\n",
            "Requirement already satisfied: charset-normalizer<4,>=2 in /usr/local/lib/python3.10/dist-packages (from requests->fsspec[http]>=2022.5.0->pytorch_lightning) (3.3.2)\n",
            "Requirement already satisfied: idna<4,>=2.5 in /usr/local/lib/python3.10/dist-packages (from requests->fsspec[http]>=2022.5.0->pytorch_lightning) (3.6)\n",
            "Requirement already satisfied: urllib3<3,>=1.21.1 in /usr/local/lib/python3.10/dist-packages (from requests->fsspec[http]>=2022.5.0->pytorch_lightning) (2.0.7)\n",
            "Requirement already satisfied: certifi>=2017.4.17 in /usr/local/lib/python3.10/dist-packages (from requests->fsspec[http]>=2022.5.0->pytorch_lightning) (2023.11.17)\n",
            "Requirement already satisfied: mpmath>=0.19 in /usr/local/lib/python3.10/dist-packages (from sympy->torch>=1.12.0->pytorch_lightning) (1.3.0)\n"
          ]
        }
      ],
      "source": [
        "!pip install pytorchvideo\n",
        "!pip install pytorch_lightning"
      ]
    },
    {
      "cell_type": "code",
      "execution_count": null,
      "metadata": {
        "id": "2ykMDjE9PI-R"
      },
      "outputs": [],
      "source": [
        "import os\n",
        "import pytorch_lightning\n",
        "import pytorchvideo.data\n",
        "import torch.utils.data\n",
        "import torchvision\n",
        "import pytorchvideo\n",
        "import pytorchvideo.transforms\n",
        "from torch.nn.functional import softmax\n",
        "from typing import Dict\n",
        "import json\n",
        "import urllib\n",
        "from torchvision.transforms import Compose, Lambda\n",
        "from torchvision.transforms._transforms_video import (\n",
        "    CenterCropVideo,\n",
        "    NormalizeVideo,\n",
        ")\n",
        "from pytorchvideo.data.encoded_video import EncodedVideo\n",
        "from pytorchvideo.transforms import (\n",
        "    ApplyTransformToKey,\n",
        "    ShortSideScale,\n",
        "    UniformTemporalSubsample,\n",
        "    UniformCropVideo\n",
        ")\n",
        "import sklearn\n",
        "#from sklearn.metrics import accuracy_score"
      ]
    },
    {
      "cell_type": "code",
      "execution_count": null,
      "metadata": {
        "id": "NxNxaoChPXVV"
      },
      "outputs": [],
      "source": [
        "input_dir = '/content/drive/MyDrive/Research/Muscle Video/Datasets/split_workout_videos_v1'\n",
        "model1_name = \"slowfast_r50\"\n",
        "model2_name = \"x3d_m\"\n",
        "checkpoint_path = \"/content/drive/MyDrive/Research/Muscle Video/Checkpoints/Multilabel/slowfast+x3d\"\n",
        "\n",
        "model1_best_path = '/content/drive/MyDrive/Research/Muscle Video/Checkpoints/Multilabel/slowfast/pretrained/lightning_logs/version_30/checkpoints/epoch=50-step=6528.ckpt'\n",
        "model2_best_path = '/content/drive/MyDrive/Research/Muscle Video/Checkpoints/Multilabel/x3d_m/pretrained/lightning_logs/version_1/checkpoints/epoch=14-step=1920.ckpt'\n",
        "num_classes=16\n",
        "num_labels=11\n",
        "batch_size = 8\n",
        "num_workers = 4\n",
        "side_size = 256\n",
        "mean = [0.45, 0.45, 0.45]\n",
        "std = [0.225, 0.225, 0.225]\n",
        "crop_size = 256\n",
        "num_frames = 32\n",
        "sampling_rate = 2\n",
        "frames_per_second = 30\n",
        "slowfast_alpha = 4\n",
        "clip_duration = (num_frames * sampling_rate)/frames_per_second\n",
        "device=('cuda' if torch.cuda.is_available() else 'cpu')\n",
        "pretrained=True\n",
        "learning_rate=0.0001\n",
        "dropout_rate = 0.6\n",
        "gamma = 2\n",
        "\n",
        "model_transform_params  = {\n",
        "    \"x3d_xs\": {\n",
        "        \"side_size\": 182,\n",
        "        \"crop_size\": 182,\n",
        "        \"num_frames\": 4,\n",
        "        \"sampling_rate\": 12,\n",
        "    },\n",
        "    \"x3d_s\": {\n",
        "        \"side_size\": 182,\n",
        "        \"crop_size\": 182,\n",
        "        \"num_frames\": 13,\n",
        "        \"sampling_rate\": 6,\n",
        "    },\n",
        "    \"x3d_m\": {\n",
        "        \"side_size\": 256,\n",
        "        \"crop_size\": 256,\n",
        "        \"num_frames\": 16,\n",
        "        \"sampling_rate\": 5,\n",
        "    }\n",
        "}\n",
        "transform_params = model_transform_params[model2_name]"
      ]
    },
    {
      "cell_type": "code",
      "execution_count": null,
      "metadata": {
        "colab": {
          "base_uri": "https://localhost:8080/"
        },
        "id": "1r7rgq6C8XWS",
        "outputId": "1e93717b-4e82-4015-b16d-b15cc3a47ec9"
      },
      "outputs": [
        {
          "output_type": "execute_result",
          "data": {
            "text/plain": [
              "8"
            ]
          },
          "metadata": {},
          "execution_count": 61
        }
      ],
      "source": [
        "import multiprocessing\n",
        "\n",
        "cores = multiprocessing.cpu_count() # Count the number of cores in a computer\n",
        "cores"
      ]
    },
    {
      "cell_type": "code",
      "execution_count": null,
      "metadata": {
        "id": "AWfh_LFES6Ew"
      },
      "outputs": [],
      "source": [
        "pred_to_class = {\n",
        "    0: \"triceps\",\n",
        "    1: \"lats\",\n",
        "    2: \"biceps\",\n",
        "    3: \"quads\",\n",
        "    4: \"glutes\",\n",
        "    5: \"shoulders\",\n",
        "    6: \"abs\",\n",
        "    7: \"obliques\",\n",
        "    8: \"chest\",\n",
        "    9: \"lower back\",\n",
        "    10: \"hamstrings\",\n",
        "}\n",
        "\n",
        "id_to_exercise = {\n",
        "    0: \"bench press\",\n",
        "    1: \"bicep curl\",\n",
        "    2: \"chest fly machine\",\n",
        "    3: \"deadlift\",\n",
        "    4: \"hip thrust\",\n",
        "    5: \"lat pulling\",\n",
        "    6: \"lateral raise\",\n",
        "    7: \"leg extension\",\n",
        "    8: \"leg raises\",\n",
        "    9: \"push-up\",\n",
        "    10: \"russian twist\",\n",
        "    11: \"shoulder press\",\n",
        "    12: \"squat\",\n",
        "    13: \"t bar row\",\n",
        "    14: \"tricep Pushdown\",\n",
        "    15: \"tricep dips\",\n",
        "}\n",
        "\n",
        "class_to_label = {\n",
        "    0: [8, 5, 0],\n",
        "    1: [2],\n",
        "    2: [8],\n",
        "    3: [4, 9, 10],\n",
        "    4: [4],\n",
        "    5: [1, 2],\n",
        "    6: [5],\n",
        "    7: [3],\n",
        "    8: [6],\n",
        "    9: [8, 5, 0],\n",
        "    10: [6, 7],\n",
        "    11: [5],\n",
        "    12: [3, 4, 10],\n",
        "    13: [1, 2],\n",
        "    14: [0],\n",
        "    15: [0],\n",
        "}\n",
        "\n",
        "id_to_label = {\n",
        "    0: [1.0, 0.0, 0.0, 0.0, 0.0, 1.0, 0.0, 0.0, 1.0, 0.0, 0.0],\n",
        "    1: [0.0, 0.0, 1.0, 0.0, 0.0, 0.0, 0.0, 0.0, 0.0, 0.0, 0.0],\n",
        "    2: [0.0, 0.0, 0.0, 0.0, 0.0, 0.0, 0.0, 0.0, 1.0, 0.0, 0.0],\n",
        "    3: [0.0, 0.0, 0.0, 0.0, 1.0, 0.0, 0.0, 0.0, 0.0, 1.0, 1.0],\n",
        "    4: [0.0, 0.0, 0.0, 0.0, 1.0, 0.0, 0.0, 0.0, 0.0, 0.0, 0.0],\n",
        "    5: [0.0, 1.0, 1.0, 0.0, 0.0, 0.0, 0.0, 0.0, 0.0, 0.0, 0.0],\n",
        "    6: [0.0, 0.0, 0.0, 0.0, 0.0, 1.0, 0.0, 0.0, 0.0, 0.0, 0.0],\n",
        "    7: [0.0, 0.0, 0.0, 1.0, 0.0, 0.0, 0.0, 0.0, 0.0, 0.0, 0.0],\n",
        "    8: [0.0, 0.0, 0.0, 0.0, 0.0, 0.0, 1.0, 0.0, 0.0, 0.0, 0.0],\n",
        "    9: [1.0, 0.0, 0.0, 0.0, 0.0, 1.0, 0.0, 0.0, 1.0, 0.0, 0.0],\n",
        "    10: [0.0, 0.0, 0.0, 0.0, 0.0, 0.0, 1.0, 1.0, 0.0, 0.0, 0.0],\n",
        "    11: [0.0, 0.0, 0.0, 0.0, 0.0, 1.0, 0.0, 0.0, 0.0, 0.0, 0.0],\n",
        "    12: [0.0, 0.0, 0.0, 1.0, 1.0, 0.0, 0.0, 0.0, 0.0, 0.0, 1.0],\n",
        "    13: [0.0, 1.0, 1.0, 0.0, 0.0, 0.0, 0.0, 0.0, 0.0, 0.0, 0.0],\n",
        "    14: [1.0, 0.0, 0.0, 0.0, 0.0, 0.0, 0.0, 0.0, 0.0, 0.0, 0.0],\n",
        "    15: [1.0, 0.0, 0.0, 0.0, 0.0, 0.0, 0.0, 0.0, 0.0, 0.0, 0.0],\n",
        "}"
      ]
    },
    {
      "cell_type": "markdown",
      "metadata": {
        "id": "POxqkd5aRrmt"
      },
      "source": [
        "# Class Creation for Dataloaders"
      ]
    },
    {
      "cell_type": "code",
      "execution_count": null,
      "metadata": {
        "id": "B0W233scPfx1",
        "colab": {
          "base_uri": "https://localhost:8080/"
        },
        "outputId": "155970dc-f48f-4ef3-d44c-1a83e0495ad3"
      },
      "outputs": [
        {
          "output_type": "execute_result",
          "data": {
            "text/plain": [
              "'\\nfrom pytorchvideo.models.slowfast import create_slowfast\\n\\ndef make_slowfast():\\n    return create_slowfast(\\n        input_channels=(3, 3),\\n        model_depth=18,\\n        model_num_class=num_classes,\\n        norm=nn.BatchNorm3d,\\n        dropout_rate=dropout_rate,\\n    )\\n'"
            ],
            "application/vnd.google.colaboratory.intrinsic+json": {
              "type": "string"
            }
          },
          "metadata": {},
          "execution_count": 69
        }
      ],
      "source": [
        "class PackPathway(torch.nn.Module):\n",
        "    \"\"\"\n",
        "    Transform for converting video frames as a list of tensors.\n",
        "    \"\"\"\n",
        "    def __init__(self):\n",
        "        super().__init__()\n",
        "\n",
        "    def forward(self, frames: torch.Tensor):\n",
        "        fast_pathway = frames\n",
        "        # Perform temporal sampling from the fast pathway.\n",
        "        slow_pathway = torch.index_select(\n",
        "            frames,\n",
        "            1,\n",
        "            torch.linspace(\n",
        "                0, frames.shape[1] - 1, frames.shape[1] // slowfast_alpha\n",
        "            ).long(),\n",
        "        )\n",
        "        frame_list = [slow_pathway, fast_pathway]\n",
        "        return frame_list\n",
        "\n",
        "slowfast_transform =  ApplyTransformToKey(\n",
        "    key=\"video\",\n",
        "    transform=Compose(\n",
        "        [\n",
        "            UniformTemporalSubsample(num_frames),\n",
        "            Lambda(lambda x: x/255.0),\n",
        "            NormalizeVideo(mean, std),\n",
        "            ShortSideScale(\n",
        "                size=side_size\n",
        "            ),\n",
        "            CenterCropVideo(crop_size),\n",
        "            PackPathway()\n",
        "        ]\n",
        "    ),\n",
        ")\n",
        "\n",
        "x3d_transform = ApplyTransformToKey(\n",
        "    key=\"video\",\n",
        "    transform=Compose(\n",
        "        [\n",
        "            UniformTemporalSubsample(transform_params[\"num_frames\"]),\n",
        "        ]\n",
        "    ),\n",
        ")\n",
        "\n",
        "\n",
        "def post_act(input):\n",
        "  return softmax(input, dim=1)\n",
        "\n",
        "'''\n",
        "from pytorchvideo.models.slowfast import create_slowfast\n",
        "\n",
        "def make_slowfast():\n",
        "    return create_slowfast(\n",
        "        input_channels=(3, 3),\n",
        "        model_depth=18,\n",
        "        model_num_class=num_classes,\n",
        "        norm=nn.BatchNorm3d,\n",
        "        dropout_rate=dropout_rate,\n",
        "    )\n",
        "'''"
      ]
    },
    {
      "cell_type": "code",
      "execution_count": null,
      "metadata": {
        "id": "de65-hoGR0ES"
      },
      "outputs": [],
      "source": [
        "from pytorch_lightning.utilities.combined_loader import CombinedLoader\n",
        "\n",
        "class VideosDataModule(pytorch_lightning.LightningDataModule):\n",
        "\n",
        "    # Dataset configuration\n",
        "    _DATA_PATH = input_dir\n",
        "    _CLIP_DURATION = clip_duration  # Duration of sampled clip for each video\n",
        "    _BATCH_SIZE = batch_size\n",
        "    _NUM_WORKERS = num_workers  # Number of parallel processes fetching data\n",
        "\n",
        "    def train_dataloader(self):\n",
        "        #Create the train partition from the list of video labels and video paths\n",
        "        train_dataset = pytorchvideo.data.labeled_video_dataset(\n",
        "            data_path=os.path.join(self._DATA_PATH, 'train'),\n",
        "            clip_sampler=pytorchvideo.data.make_clip_sampler(\"random\", self._CLIP_DURATION),\n",
        "            decode_audio=False,\n",
        "            transform=slowfast_transform\n",
        "        )\n",
        "\n",
        "        return torch.utils.data.DataLoader(\n",
        "            train_dataset,\n",
        "            batch_size=self._BATCH_SIZE,\n",
        "            num_workers=self._NUM_WORKERS\n",
        "        )\n",
        "\n",
        "    def val_dataloader(self):\n",
        "        #Create the validation partition from the list of video labels and video paths\n",
        "        val_dataset = pytorchvideo.data.labeled_video_dataset(\n",
        "            data_path=os.path.join(self._DATA_PATH, 'val'),\n",
        "            clip_sampler=pytorchvideo.data.make_clip_sampler(\"random\", self._CLIP_DURATION),\n",
        "            decode_audio=False,\n",
        "            transform=slowfast_transform\n",
        "        )\n",
        "\n",
        "        return torch.utils.data.DataLoader(\n",
        "            val_dataset,\n",
        "            batch_size=self._BATCH_SIZE,\n",
        "            num_workers=self._NUM_WORKERS,\n",
        "        )\n",
        "\n",
        "    def test_dataloader(self):\n",
        "        test_dataset = pytorchvideo.data.labeled_video_dataset(\n",
        "            data_path=os.path.join(self._DATA_PATH, 'test'),\n",
        "            clip_sampler=pytorchvideo.data.make_clip_sampler(\"random\", self._CLIP_DURATION),\n",
        "            decode_audio=False,\n",
        "            transform=slowfast_transform\n",
        "        )\n",
        "\n",
        "        test_dataloader = torch.utils.data.DataLoader(\n",
        "            test_dataset,\n",
        "            batch_size=self._BATCH_SIZE,\n",
        "            num_workers=self._NUM_WORKERS,\n",
        "        )\n",
        "\n",
        "        return test_dataloader"
      ]
    },
    {
      "cell_type": "markdown",
      "metadata": {
        "id": "8hUKUCHxR5g6"
      },
      "source": [
        "# Model Creation\n"
      ]
    },
    {
      "cell_type": "code",
      "source": [
        "import torch\n",
        "import torch.nn as nn\n",
        "import torch.nn.functional as F\n",
        "import numpy as np\n",
        "from torchmetrics.classification import MulticlassAccuracy\n",
        "from torch.nn import Linear\n",
        "from sklearn.metrics import roc_auc_score\n",
        "from sklearn.metrics import precision_recall_fscore_support\n",
        "import numpy as np\n",
        "\n",
        "mca1 = MulticlassAccuracy(num_classes=num_classes, average='micro', top_k=1)\n",
        "mca5 = MulticlassAccuracy(num_classes=num_classes, average='micro', top_k=5)\n",
        "\n",
        "class x3d_VideoClassificationLightningModule(pytorch_lightning.LightningModule):\n",
        "\n",
        "    def __init__(self):\n",
        "        super().__init__()\n",
        "\n",
        "        self.model = torch.hub.load('facebookresearch/pytorchvideo', model2_name, pretrained=True)\n",
        "        self.model.to(device)\n",
        "        self.model.blocks[5].proj = Linear(in_features=2048, out_features=num_labels, bias=True)\n",
        "        self.model.train()\n",
        "\n",
        "    def forward(self, x):\n",
        "        return self.model(x)\n",
        "\n",
        "    def training_step(self, batch, batch_idx):\n",
        "        # The model expects a video tensor of shape (B, C, T, H, W), which is the\n",
        "        # format provided by the dataset\n",
        "        y_hat = self.model(batch[\"video\"])\n",
        "\n",
        "        # Compute cross entropy loss, loss.backwards will be called behind the scenes\n",
        "        # by PyTorchLightning after being returned from this method.\n",
        "\n",
        "        loss = F.cross_entropy(y_hat, batch[\"label\"])\n",
        "\n",
        "        # Log the train loss to Tensorboard\n",
        "        self.log(\"train_loss\", loss.item(), batch_size=batch_size)\n",
        "\n",
        "        acc1 = mca1(y_hat.cpu(), batch[\"label\"].cpu())\n",
        "        acc5 = mca5(y_hat.cpu(), batch[\"label\"].cpu())\n",
        "        self.log(\"train_accuracy_top_1\", acc1.item(), batch_size=batch_size)\n",
        "        self.log(\"train_accuracy_top_5\", acc5.item(), batch_size=batch_size)\n",
        "\n",
        "        print(\"train_loss:\", loss.item(), \"train_accuracy_top_1:\", acc1.item(), \"train_accuracy_top_5:\", acc5.item())\n",
        "\n",
        "        return loss\n",
        "\n",
        "    def validation_step(self, batch, batch_idx):\n",
        "        y_hat = self.model(batch[\"video\"])\n",
        "        loss = F.cross_entropy(y_hat, batch[\"label\"])\n",
        "\n",
        "        self.log(\"val_loss\", loss.item(), batch_size=batch_size)\n",
        "\n",
        "        acc1 = mca1(y_hat.cpu(), batch[\"label\"].cpu())\n",
        "        acc5 = mca5(y_hat.cpu(), batch[\"label\"].cpu())\n",
        "        self.log(\"val_accuracy_top_1\", acc1.item(), batch_size=batch_size)\n",
        "        self.log(\"val_accuracy_top_5\", acc5.item(), batch_size=batch_size)\n",
        "\n",
        "        print(\"val_loss:\", loss.item(), \"val_accuracy_top_1:\", acc1.item(), \"val_accuracy_top_5:\", acc5.item())\n",
        "\n",
        "        return loss\n",
        "\n",
        "    def configure_optimizers(self):\n",
        "        \"\"\"\n",
        "        Setup the Adam optimizer. Note, that this function also can return a lr scheduler, which is\n",
        "        usually useful for training video models.\n",
        "        \"\"\"\n",
        "        return torch.optim.Adam(self.parameters(), lr=learning_rate)\n",
        "\n",
        "    def test_step(self, batch, batch_idx):\n",
        "        y_hat = self.model(batch[\"video\"])\n",
        "        loss = F.cross_entropy(y_hat, batch[\"label\"])\n",
        "\n",
        "        # logs metrics for each testing_step,\n",
        "        # and the average across the epoch, to the progress bar and logger\n",
        "        self.log(\"test_loss\", loss.item(), batch_size=batch_size)\n",
        "\n",
        "        acc1 = mca1(y_hat.cpu(), batch[\"label\"].cpu())\n",
        "        acc5 = mca5(y_hat.cpu(), batch[\"label\"].cpu())\n",
        "        self.log(\"test_accuracy_top_1\", acc1.item(), batch_size=batch_size)\n",
        "        self.log(\"test_accuracy_top_5\", acc5.item(), batch_size=batch_size)\n",
        "\n",
        "        softed = post_act(y_hat)\n",
        "        auc = roc_auc_score(y_true=batch[\"label\"].cpu(), y_score=softed.cpu(), multi_class='ovr', average='micro', labels=np.arange(num_classes))\n",
        "        self.log(\"auc\", auc, batch_size=batch_size)\n",
        "\n",
        "        pred_classes = []\n",
        "        for x in softed:\n",
        "          class_index = x.topk(k=1).indices\n",
        "          class_index = class_index[0]\n",
        "          pred_classes.append(class_index)\n",
        "        pred_classes = torch.Tensor(pred_classes)\n",
        "\n",
        "        rpf1 = precision_recall_fscore_support(y_true=batch[\"label\"].cpu(), y_pred=pred_classes.cpu(), beta=1, labels=np.arange(num_classes), average='macro', zero_division=1)\n",
        "        precision = rpf1[0]\n",
        "        recall = rpf1[1]\n",
        "        f1 = rpf1[2]\n",
        "        self.log(\"precision\", precision, batch_size=batch_size)\n",
        "        self.log(\"recall\", recall, batch_size=batch_size)\n",
        "        self.log(\"f1\", f1, batch_size=batch_size)\n",
        "\n",
        "        print(\"test_loss:\", loss.item(), \"test_accuracy_top_1:\", acc1.item(), \"test_accuracy_top_5:\", acc5.item(), \"auc:\", auc, \"precision:\", precision, \"recall:\", recall, \"f1:\", f1)\n",
        "\n",
        "        return loss"
      ],
      "metadata": {
        "id": "1zU9_XTSdW1r"
      },
      "execution_count": null,
      "outputs": []
    },
    {
      "cell_type": "code",
      "execution_count": null,
      "metadata": {
        "id": "VW0o6pPoR-w4"
      },
      "outputs": [],
      "source": [
        "import torch\n",
        "import torch.nn as nn\n",
        "import torch.nn.functional as F\n",
        "import numpy as np\n",
        "from torchmetrics.classification import MulticlassAccuracy\n",
        "from sklearn.metrics import roc_auc_score\n",
        "from sklearn.metrics import precision_recall_fscore_support\n",
        "import numpy as np\n",
        "\n",
        "mca1 = MulticlassAccuracy(num_classes=num_classes, average='micro', top_k=1)\n",
        "mca5 = MulticlassAccuracy(num_classes=num_classes, average='micro', top_k=5)\n",
        "\n",
        "class slowfast_VideoClassificationLightningModule(pytorch_lightning.LightningModule):\n",
        "\n",
        "    def __init__(self):\n",
        "        super().__init__()\n",
        "\n",
        "        self.model = torch.hub.load(\"facebookresearch/pytorchvideo\", model=model1_name, pretrained=True)\n",
        "        self.model.to(device)\n",
        "        self.model.blocks[6].proj = nn.Linear(in_features=2304, out_features=num_labels, bias=True)\n",
        "        self.model.train()\n",
        "\n",
        "    def forward(self, x):\n",
        "        return self.model(x)\n",
        "\n",
        "    def training_step(self, batch, batch_idx):\n",
        "        # The model expects a video tensor of shape (B, C, T, H, W), which is the\n",
        "        # format provided by the dataset\n",
        "        y_hat = self.model(batch[\"video\"])\n",
        "\n",
        "        # Compute cross entropy loss, loss.backwards will be called behind the scenes\n",
        "        # by PyTorchLightning after being returned from this method.\n",
        "\n",
        "        loss = F.cross_entropy(y_hat, batch[\"label\"])\n",
        "\n",
        "        # Log the train loss to Tensorboard\n",
        "        self.log(\"train_loss\", loss.item(), batch_size=batch_size)\n",
        "\n",
        "        acc1 = mca1(y_hat.cpu(), batch[\"label\"].cpu())\n",
        "        acc5 = mca5(y_hat.cpu(), batch[\"label\"].cpu())\n",
        "        self.log(\"train_accuracy_top_1\", acc1.item(), batch_size=batch_size)\n",
        "        self.log(\"train_accuracy_top_5\", acc5.item(), batch_size=batch_size)\n",
        "\n",
        "        #last_layer = self.model.blocks[6].proj\n",
        "        #embeddings = []\n",
        "\n",
        "        print(\"train_loss:\", loss.item(), \"train_accuracy_top_1:\", acc1.item(), \"train_accuracy_top_5:\", acc5.item())\n",
        "\n",
        "        return loss\n",
        "\n",
        "    def validation_step(self, batch, batch_idx):\n",
        "        y_hat = self.model(batch[\"video\"])\n",
        "        loss = F.cross_entropy(y_hat, batch[\"label\"])\n",
        "\n",
        "        self.log(\"val_loss\", loss.item(), batch_size=batch_size)\n",
        "\n",
        "        acc1 = mca1(y_hat.cpu(), batch[\"label\"].cpu())\n",
        "        acc5 = mca5(y_hat.cpu(), batch[\"label\"].cpu())\n",
        "        self.log(\"val_accuracy_top_1\", acc1.item(), batch_size=batch_size)\n",
        "        self.log(\"val_accuracy_top_5\", acc5.item(), batch_size=batch_size)\n",
        "\n",
        "        print(\"val_loss:\", loss.item(), \"val_accuracy_top_1:\", acc1.item(), \"val_accuracy_top_5:\", acc5.item())\n",
        "\n",
        "        return loss\n",
        "\n",
        "    def configure_optimizers(self):\n",
        "        \"\"\"\n",
        "        Setup the Adam optimizer. Note, that this function also can return a lr scheduler, which is\n",
        "        usually useful for training video models.\n",
        "        \"\"\"\n",
        "        return torch.optim.Adam(self.parameters(), lr=learning_rate)\n",
        "\n",
        "    def test_step(self, batch, batch_idx):\n",
        "        y_hat = self.model(batch[\"video\"])\n",
        "        loss = F.cross_entropy(y_hat, batch[\"label\"])\n",
        "\n",
        "        # logs metrics for each testing_step,\n",
        "        # and the average across the epoch, to the progress bar and logger\n",
        "        self.log(\"test_loss\", loss.item(), batch_size=batch_size)\n",
        "\n",
        "        acc1 = mca1(y_hat.cpu(), batch[\"label\"].cpu())\n",
        "        acc5 = mca5(y_hat.cpu(), batch[\"label\"].cpu())\n",
        "        self.log(\"test_accuracy_top_1\", acc1.item(), batch_size=batch_size)\n",
        "        self.log(\"test_accuracy_top_5\", acc5.item(), batch_size=batch_size)\n",
        "\n",
        "        softed = post_act(y_hat)\n",
        "        auc = roc_auc_score(y_true=batch[\"label\"].cpu(), y_score=softed.cpu(), multi_class='ovr', average='micro', labels=np.arange(num_classes))\n",
        "        self.log(\"auc\", auc, batch_size=batch_size)\n",
        "\n",
        "        pred_classes = []\n",
        "        for x in softed:\n",
        "          class_index = x.topk(k=1).indices\n",
        "          class_index = class_index[0]\n",
        "          pred_classes.append(class_index)\n",
        "        pred_classes = torch.Tensor(pred_classes)\n",
        "\n",
        "        rpf1 = precision_recall_fscore_support(y_true=batch[\"label\"].cpu(), y_pred=pred_classes.cpu(), beta=1, labels=np.arange(num_classes), average='macro', zero_division=1)\n",
        "        precision = rpf1[0]\n",
        "        recall = rpf1[1]\n",
        "        f1 = rpf1[2]\n",
        "        self.log(\"precision\", precision, batch_size=batch_size)\n",
        "        self.log(\"recall\", recall, batch_size=batch_size)\n",
        "        self.log(\"f1\", f1, batch_size=batch_size)\n",
        "\n",
        "        print(\"test_loss:\", loss.item(), \"test_accuracy_top_1:\", acc1.item(), \"test_accuracy_top_5:\", acc5.item(), \"auc:\", auc, \"precision:\", precision, \"recall:\", recall, \"f1:\", f1)\n",
        "\n",
        "        return loss"
      ]
    },
    {
      "cell_type": "code",
      "source": [
        "import torch\n",
        "import torch.nn as nn\n",
        "import torch.nn.functional as F\n",
        "import numpy as np\n",
        "from torchmetrics.classification import MultilabelAccuracy, MultilabelAUROC, MultilabelRecall, MultilabelPrecision, MultilabelF1Score\n",
        "\n",
        "mcaM2 = MultilabelAccuracy(num_labels=num_labels, average='micro')\n",
        "mcaS = MultilabelAccuracy(num_labels=num_labels, average='none')\n",
        "roc_auc = MultilabelAUROC(num_labels=num_labels, average=\"micro\")\n",
        "pre = MultilabelPrecision(num_labels=num_labels, average='macro', threshold=0.5)\n",
        "rec = MultilabelRecall(num_labels=num_labels, average='macro', threshold=0.5)\n",
        "f1score = MultilabelF1Score(num_labels=num_labels, average='macro', threshold=0.5)\n",
        "\n",
        "class VideoClassificationLightningModule(pytorch_lightning.LightningModule):\n",
        "\n",
        "    def __init__(self):\n",
        "        super().__init__()\n",
        "\n",
        "        self.model1 = slowfast_VideoClassificationLightningModule.load_from_checkpoint(model1_best_path)\n",
        "        self.model1.to(device)\n",
        "        self.model1.eval()\n",
        "\n",
        "        self.model2 = x3d_VideoClassificationLightningModule.load_from_checkpoint(model2_best_path)\n",
        "        self.model2.model.blocks[5].activation = None\n",
        "        self.model2.to(device)\n",
        "        self.model2.eval()\n",
        "        #print(self.model2)\n",
        "\n",
        "    def forward(self, x):\n",
        "        return self.model(x)\n",
        "\n",
        "    def training_step(self, batch, batch_idx):\n",
        "        # The model expects a video tensor of shape (B, C, T, H, W), which is the\n",
        "        # format provided by the dataset\n",
        "        y_hat = self.model(batch[\"video\"])\n",
        "\n",
        "        # Compute cross entropy loss, loss.backwards will be called behind the scenes\n",
        "        # by PyTorchLightning after being returned from this method.\n",
        "\n",
        "        loss = F.cross_entropy(y_hat, batch[\"label\"])\n",
        "\n",
        "        # Log the train loss to Tensorboard\n",
        "        self.log(\"train_loss\", loss.item(), batch_size=batch_size)\n",
        "\n",
        "        acc1 = mca1(y_hat.cpu(), batch[\"label\"].cpu())\n",
        "        acc5 = mca5(y_hat.cpu(), batch[\"label\"].cpu())\n",
        "        self.log(\"train_accuracy_top_1\", acc1.item(), batch_size=batch_size)\n",
        "        self.log(\"train_accuracy_top_5\", acc5.item(), batch_size=batch_size)\n",
        "\n",
        "        #last_layer = self.model.blocks[6].proj\n",
        "        #embeddings = []\n",
        "\n",
        "        print(\"train_loss:\", loss.item(), \"train_accuracy_top_1:\", acc1.item(), \"train_accuracy_top_5:\", acc5.item())\n",
        "\n",
        "        return loss\n",
        "\n",
        "    def validation_step(self, batch, batch_idx):\n",
        "        y_hat = self.model(batch[\"video\"])\n",
        "        loss = F.cross_entropy(y_hat, batch[\"label\"])\n",
        "\n",
        "        self.log(\"val_loss\", loss.item(), batch_size=batch_size)\n",
        "\n",
        "        acc1 = mca1(y_hat.cpu(), batch[\"label\"].cpu())\n",
        "        acc5 = mca5(y_hat.cpu(), batch[\"label\"].cpu())\n",
        "        self.log(\"val_accuracy_top_1\", acc1.item(), batch_size=batch_size)\n",
        "        self.log(\"val_accuracy_top_5\", acc5.item(), batch_size=batch_size)\n",
        "\n",
        "        print(\"val_loss:\", loss.item(), \"val_accuracy_top_1:\", acc1.item(), \"val_accuracy_top_5:\", acc5.item())\n",
        "\n",
        "        return loss\n",
        "\n",
        "    def configure_optimizers(self):\n",
        "        \"\"\"\n",
        "        Setup the Adam optimizer. Note, that this function also can return a lr scheduler, which is\n",
        "        usually useful for training video models.\n",
        "        \"\"\"\n",
        "        return torch.optim.Adam(self.parameters(), lr=learning_rate)\n",
        "\n",
        "    def test_step(self, batch, batch_idx):\n",
        "\n",
        "        slowfast_data = batch[\"video\"]\n",
        "        x3d_data = batch[\"video\"][1]\n",
        "\n",
        "        y_hat1 = self.model1(slowfast_data)\n",
        "        y_hat2 = self.model2(x3d_data)\n",
        "\n",
        "        y_hat = []\n",
        "        for x in range(0, y_hat1.shape[0]):\n",
        "          temp = []\n",
        "          for y in range(0, 11):\n",
        "            val = 0.75*y_hat1[x][y] + 0.25*y_hat2[x][y]\n",
        "            temp.append(val)\n",
        "          y_hat.append(temp)\n",
        "\n",
        "        y_hat = torch.Tensor(y_hat)\n",
        "\n",
        "        new_label = torch.tensor([id_to_label[i.item()] for i in batch[\"label\"]])\n",
        "\n",
        "        loss = F.cross_entropy(y_hat.cpu(), new_label.cpu())\n",
        "        #loss = torch.Tensor(0)\n",
        "\n",
        "        # logs metrics for each testing_step,\n",
        "        # and the average across the epoch, to the progress bar and logger\n",
        "        self.log(\"test_loss\", loss.item(), batch_size=batch_size)\n",
        "\n",
        "        accM2 = mcaM2(y_hat.cpu(), new_label.cpu())\n",
        "        self.log(\"test_accuracy_micro\", accM2.item(), batch_size=batch_size)\n",
        "\n",
        "        new_label = new_label.type(torch.IntTensor)\n",
        "\n",
        "        auc = roc_auc(y_hat.cpu(), new_label.cpu())\n",
        "        self.log(\"auc\", auc.item(), batch_size=batch_size)\n",
        "\n",
        "        precision = pre(y_hat.cpu(), new_label.cpu())\n",
        "        recall = rec(y_hat.cpu(), new_label.cpu())\n",
        "        f1 = f1score(y_hat.cpu(), new_label.cpu())\n",
        "\n",
        "        self.log(\"precision\", precision.item(), batch_size=batch_size)\n",
        "        self.log(\"recall\", recall.item(), batch_size=batch_size)\n",
        "        self.log(\"f1\", f1.item(), batch_size=batch_size)\n",
        "\n",
        "        print(\"test_loss:\", loss.item(), \"test_accuracy_micro:\", accM2.item(), \"auc:\", auc.item(), \"precision:\", precision.item(), \"recall\", recall.item(), \"f1\", f1.item())\n",
        "\n",
        "        return loss"
      ],
      "metadata": {
        "id": "uB9TZKyoeGMn"
      },
      "execution_count": null,
      "outputs": []
    },
    {
      "cell_type": "markdown",
      "metadata": {
        "id": "z5dqGI2sSaZz"
      },
      "source": [
        "# Training"
      ]
    },
    {
      "cell_type": "code",
      "execution_count": null,
      "metadata": {
        "id": "Ggfgr6aSww4a"
      },
      "outputs": [],
      "source": [
        "from pytorch_lightning.callbacks import EarlyStopping\n",
        "\n",
        "early_stopping_callbacks = EarlyStopping(monitor=\"val_loss\", min_delta=0, patience=10, verbose=True, mode=\"min\")"
      ]
    },
    {
      "cell_type": "code",
      "execution_count": null,
      "metadata": {
        "colab": {
          "base_uri": "https://localhost:8080/"
        },
        "id": "2yBLmhEQTLbG",
        "outputId": "99a68529-2cab-4682-859a-2f537cd08ef9"
      },
      "outputs": [
        {
          "output_type": "stream",
          "name": "stderr",
          "text": [
            "Using cache found in /root/.cache/torch/hub/facebookresearch_pytorchvideo_main\n",
            "Using cache found in /root/.cache/torch/hub/facebookresearch_pytorchvideo_main\n",
            "INFO:pytorch_lightning.utilities.rank_zero:GPU available: True (cuda), used: True\n",
            "INFO:pytorch_lightning.utilities.rank_zero:TPU available: False, using: 0 TPU cores\n",
            "INFO:pytorch_lightning.utilities.rank_zero:IPU available: False, using: 0 IPUs\n",
            "INFO:pytorch_lightning.utilities.rank_zero:HPU available: False, using: 0 HPUs\n"
          ]
        }
      ],
      "source": [
        "classification_module = VideoClassificationLightningModule()\n",
        "data_module = VideosDataModule()\n",
        "trainer = pytorch_lightning.Trainer(\n",
        "    default_root_dir=checkpoint_path,\n",
        "    max_epochs=30,\n",
        "    accelerator=\"auto\",\n",
        "    devices=\"auto\",\n",
        "    strategy='auto',\n",
        "    enable_checkpointing=True,\n",
        "    logger=True,\n",
        ")"
      ]
    },
    {
      "cell_type": "code",
      "execution_count": null,
      "metadata": {
        "id": "CEXoz1KX7_C7"
      },
      "outputs": [],
      "source": [
        "torch.set_float32_matmul_precision('medium')"
      ]
    },
    {
      "cell_type": "code",
      "execution_count": null,
      "metadata": {
        "id": "ldyTiRKsvSyu",
        "colab": {
          "base_uri": "https://localhost:8080/",
          "height": 566
        },
        "outputId": "a23e9735-3345-41a0-a720-bc02e5092b47"
      },
      "outputs": [
        {
          "output_type": "stream",
          "name": "stderr",
          "text": [
            "INFO:pytorch_lightning.utilities.rank_zero:Restoring states from the checkpoint path at /content/drive/MyDrive/Research/Muscle Video/Checkpoints/Split/Pretrained/slowfast_r101/lightning_logs/version_5/checkpoints/epoch=28-step=3754.ckpt\n"
          ]
        },
        {
          "output_type": "error",
          "ename": "RuntimeError",
          "evalue": "ignored",
          "traceback": [
            "\u001b[0;31m---------------------------------------------------------------------------\u001b[0m",
            "\u001b[0;31mRuntimeError\u001b[0m                              Traceback (most recent call last)",
            "\u001b[0;32m<ipython-input-24-443819fa368d>\u001b[0m in \u001b[0;36m<cell line: 1>\u001b[0;34m()\u001b[0m\n\u001b[0;32m----> 1\u001b[0;31m \u001b[0mtrainer\u001b[0m\u001b[0;34m.\u001b[0m\u001b[0mfit\u001b[0m\u001b[0;34m(\u001b[0m\u001b[0mclassification_module\u001b[0m\u001b[0;34m,\u001b[0m \u001b[0mdata_module\u001b[0m\u001b[0;34m,\u001b[0m \u001b[0mckpt_path\u001b[0m\u001b[0;34m=\u001b[0m\u001b[0;34m'/content/drive/MyDrive/Research/Muscle Video/Checkpoints/Split/Pretrained/slowfast_r101/lightning_logs/version_5/checkpoints/epoch=28-step=3754.ckpt'\u001b[0m\u001b[0;34m)\u001b[0m\u001b[0;34m\u001b[0m\u001b[0;34m\u001b[0m\u001b[0m\n\u001b[0m",
            "\u001b[0;32m/usr/local/lib/python3.10/dist-packages/pytorch_lightning/trainer/trainer.py\u001b[0m in \u001b[0;36mfit\u001b[0;34m(self, model, train_dataloaders, val_dataloaders, datamodule, ckpt_path)\u001b[0m\n\u001b[1;32m    542\u001b[0m         \u001b[0mself\u001b[0m\u001b[0;34m.\u001b[0m\u001b[0mstate\u001b[0m\u001b[0;34m.\u001b[0m\u001b[0mstatus\u001b[0m \u001b[0;34m=\u001b[0m \u001b[0mTrainerStatus\u001b[0m\u001b[0;34m.\u001b[0m\u001b[0mRUNNING\u001b[0m\u001b[0;34m\u001b[0m\u001b[0;34m\u001b[0m\u001b[0m\n\u001b[1;32m    543\u001b[0m         \u001b[0mself\u001b[0m\u001b[0;34m.\u001b[0m\u001b[0mtraining\u001b[0m \u001b[0;34m=\u001b[0m \u001b[0;32mTrue\u001b[0m\u001b[0;34m\u001b[0m\u001b[0;34m\u001b[0m\u001b[0m\n\u001b[0;32m--> 544\u001b[0;31m         call._call_and_handle_interrupt(\n\u001b[0m\u001b[1;32m    545\u001b[0m             \u001b[0mself\u001b[0m\u001b[0;34m,\u001b[0m \u001b[0mself\u001b[0m\u001b[0;34m.\u001b[0m\u001b[0m_fit_impl\u001b[0m\u001b[0;34m,\u001b[0m \u001b[0mmodel\u001b[0m\u001b[0;34m,\u001b[0m \u001b[0mtrain_dataloaders\u001b[0m\u001b[0;34m,\u001b[0m \u001b[0mval_dataloaders\u001b[0m\u001b[0;34m,\u001b[0m \u001b[0mdatamodule\u001b[0m\u001b[0;34m,\u001b[0m \u001b[0mckpt_path\u001b[0m\u001b[0;34m\u001b[0m\u001b[0;34m\u001b[0m\u001b[0m\n\u001b[1;32m    546\u001b[0m         )\n",
            "\u001b[0;32m/usr/local/lib/python3.10/dist-packages/pytorch_lightning/trainer/call.py\u001b[0m in \u001b[0;36m_call_and_handle_interrupt\u001b[0;34m(trainer, trainer_fn, *args, **kwargs)\u001b[0m\n\u001b[1;32m     42\u001b[0m         \u001b[0;32mif\u001b[0m \u001b[0mtrainer\u001b[0m\u001b[0;34m.\u001b[0m\u001b[0mstrategy\u001b[0m\u001b[0;34m.\u001b[0m\u001b[0mlauncher\u001b[0m \u001b[0;32mis\u001b[0m \u001b[0;32mnot\u001b[0m \u001b[0;32mNone\u001b[0m\u001b[0;34m:\u001b[0m\u001b[0;34m\u001b[0m\u001b[0;34m\u001b[0m\u001b[0m\n\u001b[1;32m     43\u001b[0m             \u001b[0;32mreturn\u001b[0m \u001b[0mtrainer\u001b[0m\u001b[0;34m.\u001b[0m\u001b[0mstrategy\u001b[0m\u001b[0;34m.\u001b[0m\u001b[0mlauncher\u001b[0m\u001b[0;34m.\u001b[0m\u001b[0mlaunch\u001b[0m\u001b[0;34m(\u001b[0m\u001b[0mtrainer_fn\u001b[0m\u001b[0;34m,\u001b[0m \u001b[0;34m*\u001b[0m\u001b[0margs\u001b[0m\u001b[0;34m,\u001b[0m \u001b[0mtrainer\u001b[0m\u001b[0;34m=\u001b[0m\u001b[0mtrainer\u001b[0m\u001b[0;34m,\u001b[0m \u001b[0;34m**\u001b[0m\u001b[0mkwargs\u001b[0m\u001b[0;34m)\u001b[0m\u001b[0;34m\u001b[0m\u001b[0;34m\u001b[0m\u001b[0m\n\u001b[0;32m---> 44\u001b[0;31m         \u001b[0;32mreturn\u001b[0m \u001b[0mtrainer_fn\u001b[0m\u001b[0;34m(\u001b[0m\u001b[0;34m*\u001b[0m\u001b[0margs\u001b[0m\u001b[0;34m,\u001b[0m \u001b[0;34m**\u001b[0m\u001b[0mkwargs\u001b[0m\u001b[0;34m)\u001b[0m\u001b[0;34m\u001b[0m\u001b[0;34m\u001b[0m\u001b[0m\n\u001b[0m\u001b[1;32m     45\u001b[0m \u001b[0;34m\u001b[0m\u001b[0m\n\u001b[1;32m     46\u001b[0m     \u001b[0;32mexcept\u001b[0m \u001b[0m_TunerExitException\u001b[0m\u001b[0;34m:\u001b[0m\u001b[0;34m\u001b[0m\u001b[0;34m\u001b[0m\u001b[0m\n",
            "\u001b[0;32m/usr/local/lib/python3.10/dist-packages/pytorch_lightning/trainer/trainer.py\u001b[0m in \u001b[0;36m_fit_impl\u001b[0;34m(self, model, train_dataloaders, val_dataloaders, datamodule, ckpt_path)\u001b[0m\n\u001b[1;32m    578\u001b[0m             \u001b[0mmodel_connected\u001b[0m\u001b[0;34m=\u001b[0m\u001b[0mself\u001b[0m\u001b[0;34m.\u001b[0m\u001b[0mlightning_module\u001b[0m \u001b[0;32mis\u001b[0m \u001b[0;32mnot\u001b[0m \u001b[0;32mNone\u001b[0m\u001b[0;34m,\u001b[0m\u001b[0;34m\u001b[0m\u001b[0;34m\u001b[0m\u001b[0m\n\u001b[1;32m    579\u001b[0m         )\n\u001b[0;32m--> 580\u001b[0;31m         \u001b[0mself\u001b[0m\u001b[0;34m.\u001b[0m\u001b[0m_run\u001b[0m\u001b[0;34m(\u001b[0m\u001b[0mmodel\u001b[0m\u001b[0;34m,\u001b[0m \u001b[0mckpt_path\u001b[0m\u001b[0;34m=\u001b[0m\u001b[0mckpt_path\u001b[0m\u001b[0;34m)\u001b[0m\u001b[0;34m\u001b[0m\u001b[0;34m\u001b[0m\u001b[0m\n\u001b[0m\u001b[1;32m    581\u001b[0m \u001b[0;34m\u001b[0m\u001b[0m\n\u001b[1;32m    582\u001b[0m         \u001b[0;32massert\u001b[0m \u001b[0mself\u001b[0m\u001b[0;34m.\u001b[0m\u001b[0mstate\u001b[0m\u001b[0;34m.\u001b[0m\u001b[0mstopped\u001b[0m\u001b[0;34m\u001b[0m\u001b[0;34m\u001b[0m\u001b[0m\n",
            "\u001b[0;32m/usr/local/lib/python3.10/dist-packages/pytorch_lightning/trainer/trainer.py\u001b[0m in \u001b[0;36m_run\u001b[0;34m(self, model, ckpt_path)\u001b[0m\n\u001b[1;32m    953\u001b[0m         \u001b[0;32mif\u001b[0m \u001b[0;32mnot\u001b[0m \u001b[0mself\u001b[0m\u001b[0;34m.\u001b[0m\u001b[0mstrategy\u001b[0m\u001b[0;34m.\u001b[0m\u001b[0mrestore_checkpoint_after_setup\u001b[0m\u001b[0;34m:\u001b[0m\u001b[0;34m\u001b[0m\u001b[0;34m\u001b[0m\u001b[0m\n\u001b[1;32m    954\u001b[0m             \u001b[0mlog\u001b[0m\u001b[0;34m.\u001b[0m\u001b[0mdebug\u001b[0m\u001b[0;34m(\u001b[0m\u001b[0;34mf\"{self.__class__.__name__}: restoring module and callbacks from checkpoint path: {ckpt_path}\"\u001b[0m\u001b[0;34m)\u001b[0m\u001b[0;34m\u001b[0m\u001b[0;34m\u001b[0m\u001b[0m\n\u001b[0;32m--> 955\u001b[0;31m             \u001b[0mself\u001b[0m\u001b[0;34m.\u001b[0m\u001b[0m_checkpoint_connector\u001b[0m\u001b[0;34m.\u001b[0m\u001b[0m_restore_modules_and_callbacks\u001b[0m\u001b[0;34m(\u001b[0m\u001b[0mckpt_path\u001b[0m\u001b[0;34m)\u001b[0m\u001b[0;34m\u001b[0m\u001b[0;34m\u001b[0m\u001b[0m\n\u001b[0m\u001b[1;32m    956\u001b[0m \u001b[0;34m\u001b[0m\u001b[0m\n\u001b[1;32m    957\u001b[0m         \u001b[0mlog\u001b[0m\u001b[0;34m.\u001b[0m\u001b[0mdebug\u001b[0m\u001b[0;34m(\u001b[0m\u001b[0;34mf\"{self.__class__.__name__}: configuring model\"\u001b[0m\u001b[0;34m)\u001b[0m\u001b[0;34m\u001b[0m\u001b[0;34m\u001b[0m\u001b[0m\n",
            "\u001b[0;32m/usr/local/lib/python3.10/dist-packages/pytorch_lightning/trainer/connectors/checkpoint_connector.py\u001b[0m in \u001b[0;36m_restore_modules_and_callbacks\u001b[0;34m(self, checkpoint_path)\u001b[0m\n\u001b[1;32m    394\u001b[0m         \u001b[0;31m# restore modules after setup\u001b[0m\u001b[0;34m\u001b[0m\u001b[0;34m\u001b[0m\u001b[0m\n\u001b[1;32m    395\u001b[0m         \u001b[0mself\u001b[0m\u001b[0;34m.\u001b[0m\u001b[0mresume_start\u001b[0m\u001b[0;34m(\u001b[0m\u001b[0mcheckpoint_path\u001b[0m\u001b[0;34m)\u001b[0m\u001b[0;34m\u001b[0m\u001b[0;34m\u001b[0m\u001b[0m\n\u001b[0;32m--> 396\u001b[0;31m         \u001b[0mself\u001b[0m\u001b[0;34m.\u001b[0m\u001b[0mrestore_model\u001b[0m\u001b[0;34m(\u001b[0m\u001b[0;34m)\u001b[0m\u001b[0;34m\u001b[0m\u001b[0;34m\u001b[0m\u001b[0m\n\u001b[0m\u001b[1;32m    397\u001b[0m         \u001b[0mself\u001b[0m\u001b[0;34m.\u001b[0m\u001b[0mrestore_datamodule\u001b[0m\u001b[0;34m(\u001b[0m\u001b[0;34m)\u001b[0m\u001b[0;34m\u001b[0m\u001b[0;34m\u001b[0m\u001b[0m\n\u001b[1;32m    398\u001b[0m         \u001b[0;32mif\u001b[0m \u001b[0mself\u001b[0m\u001b[0;34m.\u001b[0m\u001b[0mtrainer\u001b[0m\u001b[0;34m.\u001b[0m\u001b[0mstate\u001b[0m\u001b[0;34m.\u001b[0m\u001b[0mfn\u001b[0m \u001b[0;34m==\u001b[0m \u001b[0mTrainerFn\u001b[0m\u001b[0;34m.\u001b[0m\u001b[0mFITTING\u001b[0m\u001b[0;34m:\u001b[0m\u001b[0;34m\u001b[0m\u001b[0;34m\u001b[0m\u001b[0m\n",
            "\u001b[0;32m/usr/local/lib/python3.10/dist-packages/pytorch_lightning/trainer/connectors/checkpoint_connector.py\u001b[0m in \u001b[0;36mrestore_model\u001b[0;34m(self)\u001b[0m\n\u001b[1;32m    274\u001b[0m \u001b[0;34m\u001b[0m\u001b[0m\n\u001b[1;32m    275\u001b[0m         \u001b[0;31m# restore model state_dict\u001b[0m\u001b[0;34m\u001b[0m\u001b[0;34m\u001b[0m\u001b[0m\n\u001b[0;32m--> 276\u001b[0;31m         \u001b[0mtrainer\u001b[0m\u001b[0;34m.\u001b[0m\u001b[0mstrategy\u001b[0m\u001b[0;34m.\u001b[0m\u001b[0mload_model_state_dict\u001b[0m\u001b[0;34m(\u001b[0m\u001b[0mself\u001b[0m\u001b[0;34m.\u001b[0m\u001b[0m_loaded_checkpoint\u001b[0m\u001b[0;34m)\u001b[0m\u001b[0;34m\u001b[0m\u001b[0;34m\u001b[0m\u001b[0m\n\u001b[0m\u001b[1;32m    277\u001b[0m \u001b[0;34m\u001b[0m\u001b[0m\n\u001b[1;32m    278\u001b[0m     \u001b[0;32mdef\u001b[0m \u001b[0mrestore_training_state\u001b[0m\u001b[0;34m(\u001b[0m\u001b[0mself\u001b[0m\u001b[0;34m)\u001b[0m \u001b[0;34m->\u001b[0m \u001b[0;32mNone\u001b[0m\u001b[0;34m:\u001b[0m\u001b[0;34m\u001b[0m\u001b[0;34m\u001b[0m\u001b[0m\n",
            "\u001b[0;32m/usr/local/lib/python3.10/dist-packages/pytorch_lightning/strategies/strategy.py\u001b[0m in \u001b[0;36mload_model_state_dict\u001b[0;34m(self, checkpoint)\u001b[0m\n\u001b[1;32m    361\u001b[0m     \u001b[0;32mdef\u001b[0m \u001b[0mload_model_state_dict\u001b[0m\u001b[0;34m(\u001b[0m\u001b[0mself\u001b[0m\u001b[0;34m,\u001b[0m \u001b[0mcheckpoint\u001b[0m\u001b[0;34m:\u001b[0m \u001b[0mMapping\u001b[0m\u001b[0;34m[\u001b[0m\u001b[0mstr\u001b[0m\u001b[0;34m,\u001b[0m \u001b[0mAny\u001b[0m\u001b[0;34m]\u001b[0m\u001b[0;34m)\u001b[0m \u001b[0;34m->\u001b[0m \u001b[0;32mNone\u001b[0m\u001b[0;34m:\u001b[0m\u001b[0;34m\u001b[0m\u001b[0;34m\u001b[0m\u001b[0m\n\u001b[1;32m    362\u001b[0m         \u001b[0;32massert\u001b[0m \u001b[0mself\u001b[0m\u001b[0;34m.\u001b[0m\u001b[0mlightning_module\u001b[0m \u001b[0;32mis\u001b[0m \u001b[0;32mnot\u001b[0m \u001b[0;32mNone\u001b[0m\u001b[0;34m\u001b[0m\u001b[0;34m\u001b[0m\u001b[0m\n\u001b[0;32m--> 363\u001b[0;31m         \u001b[0mself\u001b[0m\u001b[0;34m.\u001b[0m\u001b[0mlightning_module\u001b[0m\u001b[0;34m.\u001b[0m\u001b[0mload_state_dict\u001b[0m\u001b[0;34m(\u001b[0m\u001b[0mcheckpoint\u001b[0m\u001b[0;34m[\u001b[0m\u001b[0;34m\"state_dict\"\u001b[0m\u001b[0;34m]\u001b[0m\u001b[0;34m)\u001b[0m\u001b[0;34m\u001b[0m\u001b[0;34m\u001b[0m\u001b[0m\n\u001b[0m\u001b[1;32m    364\u001b[0m \u001b[0;34m\u001b[0m\u001b[0m\n\u001b[1;32m    365\u001b[0m     \u001b[0;32mdef\u001b[0m \u001b[0mload_optimizer_state_dict\u001b[0m\u001b[0;34m(\u001b[0m\u001b[0mself\u001b[0m\u001b[0;34m,\u001b[0m \u001b[0mcheckpoint\u001b[0m\u001b[0;34m:\u001b[0m \u001b[0mMapping\u001b[0m\u001b[0;34m[\u001b[0m\u001b[0mstr\u001b[0m\u001b[0;34m,\u001b[0m \u001b[0mAny\u001b[0m\u001b[0;34m]\u001b[0m\u001b[0;34m)\u001b[0m \u001b[0;34m->\u001b[0m \u001b[0;32mNone\u001b[0m\u001b[0;34m:\u001b[0m\u001b[0;34m\u001b[0m\u001b[0;34m\u001b[0m\u001b[0m\n",
            "\u001b[0;32m/usr/local/lib/python3.10/dist-packages/torch/nn/modules/module.py\u001b[0m in \u001b[0;36mload_state_dict\u001b[0;34m(self, state_dict, strict, assign)\u001b[0m\n\u001b[1;32m   2150\u001b[0m \u001b[0;34m\u001b[0m\u001b[0m\n\u001b[1;32m   2151\u001b[0m         \u001b[0;32mif\u001b[0m \u001b[0mlen\u001b[0m\u001b[0;34m(\u001b[0m\u001b[0merror_msgs\u001b[0m\u001b[0;34m)\u001b[0m \u001b[0;34m>\u001b[0m \u001b[0;36m0\u001b[0m\u001b[0;34m:\u001b[0m\u001b[0;34m\u001b[0m\u001b[0;34m\u001b[0m\u001b[0m\n\u001b[0;32m-> 2152\u001b[0;31m             raise RuntimeError('Error(s) in loading state_dict for {}:\\n\\t{}'.format(\n\u001b[0m\u001b[1;32m   2153\u001b[0m                                self.__class__.__name__, \"\\n\\t\".join(error_msgs)))\n\u001b[1;32m   2154\u001b[0m         \u001b[0;32mreturn\u001b[0m \u001b[0m_IncompatibleKeys\u001b[0m\u001b[0;34m(\u001b[0m\u001b[0mmissing_keys\u001b[0m\u001b[0;34m,\u001b[0m \u001b[0munexpected_keys\u001b[0m\u001b[0;34m)\u001b[0m\u001b[0;34m\u001b[0m\u001b[0;34m\u001b[0m\u001b[0m\n",
            "\u001b[0;31mRuntimeError\u001b[0m: Error(s) in loading state_dict for VideoClassificationLightningModule:\n\tUnexpected key(s) in state_dict: \"model.blocks.3.multipathway_blocks.0.res_blocks.6.branch2.conv_a.weight\", \"model.blocks.3.multipathway_blocks.0.res_blocks.6.branch2.norm_a.weight\", \"model.blocks.3.multipathway_blocks.0.res_blocks.6.branch2.norm_a.bias\", \"model.blocks.3.multipathway_blocks.0.res_blocks.6.branch2.norm_a.running_mean\", \"model.blocks.3.multipathway_blocks.0.res_blocks.6.branch2.norm_a.running_var\", \"model.blocks.3.multipathway_blocks.0.res_blocks.6.branch2.norm_a.num_batches_tracked\", \"model.blocks.3.multipathway_blocks.0.res_blocks.6.branch2.conv_b.weight\", \"model.blocks.3.multipathway_blocks.0.res_blocks.6.branch2.norm_b.weight\", \"model.blocks.3.multipathway_blocks.0.res_blocks.6.branch2.norm_b.bias\", \"model.blocks.3.multipathway_blocks.0.res_blocks.6.branch2.norm_b.running_mean\", \"model.blocks.3.multipathway_blocks.0.res_blocks.6.branch2.norm_b.running_var\", \"model.blocks.3.multipathway_blocks.0.res_blocks.6.branch2.norm_b.num_batches_tracked\", \"model.blocks.3.multipathway_blocks.0.res_blocks.6.branch2.conv_c.weight\", \"model.blocks.3.multipathway_blocks.0.res_blocks.6.branch2.norm_c.weight\", \"model.blocks.3.multipathway_blocks.0.res_blocks.6.branch2.norm_c.bias\", \"model.blocks.3.multipathway_blocks.0.res_blocks.6.branch2.norm_c.running_mean\", \"model.blocks.3.multipathway_blocks.0.res_blocks.6.branch2.norm_c.running_var\", \"model.blocks.3.multipathway_blocks.0.res_blocks.6.branch2.norm_c.num_batches_tracked\", \"model.blocks.3.multipathway_blocks.0.res_block...\n\tsize mismatch for model.blocks.0.multipathway_fusion.conv_fast_to_slow.weight: copying a param with shape torch.Size([16, 8, 5, 1, 1]) from checkpoint, the shape in current model is torch.Size([16, 8, 7, 1, 1]).\n\tsize mismatch for model.blocks.1.multipathway_fusion.conv_fast_to_slow.weight: copying a param with shape torch.Size([64, 32, 5, 1, 1]) from checkpoint, the shape in current model is torch.Size([64, 32, 7, 1, 1]).\n\tsize mismatch for model.blocks.2.multipathway_fusion.conv_fast_to_slow.weight: copying a param with shape torch.Size([128, 64, 5, 1, 1]) from checkpoint, the shape in current model is torch.Size([128, 64, 7, 1, 1]).\n\tsize mismatch for model.blocks.3.multipathway_fusion.conv_fast_to_slow.weight: copying a param with shape torch.Size([256, 128, 5, 1, 1]) from checkpoint, the shape in current model is torch.Size([256, 128, 7, 1, 1])."
          ]
        }
      ],
      "source": [
        "trainer.fit(classification_module, data_module, ckpt_path='/content/drive/MyDrive/Research/Muscle Video/Checkpoints/Split/Pretrained/slowfast_r101/lightning_logs/version_5/checkpoints/epoch=28-step=3754.ckpt')"
      ]
    },
    {
      "cell_type": "markdown",
      "metadata": {
        "id": "8csUFcsFoKft"
      },
      "source": [
        "# Testing\n"
      ]
    },
    {
      "cell_type": "code",
      "execution_count": null,
      "metadata": {
        "id": "r_QYVE-AUbhK",
        "colab": {
          "base_uri": "https://localhost:8080/",
          "height": 1000,
          "referenced_widgets": [
            "949d0729d39e43339a48a76694ffa5af",
            "d91b6b12719841798691b9250cb6ada6",
            "25fa8907e7054eeeae731e1b286cdf33",
            "d87fcb10c278452a93477b204a9a8500",
            "0ce6fc7817bc4c0bbb6eb95f05ee491a",
            "e1f596b1762b44e1b04180ac436f6c7d",
            "b8ae0cb78c0c429eb980ea43f1fe8c66",
            "a9bdf6c309784095b47f05b4426a567d",
            "826334b905434bea89f58603c2ebf141",
            "9d36c9a7f57c48c7981ab2e7e0f24440",
            "abeb113a18ea485f88fd070cabbbc1e7"
          ]
        },
        "outputId": "168b235c-810f-47a6-fbd4-c13313aad0c4"
      },
      "outputs": [
        {
          "output_type": "stream",
          "name": "stderr",
          "text": [
            "INFO:pytorch_lightning.accelerators.cuda:LOCAL_RANK: 0 - CUDA_VISIBLE_DEVICES: [0]\n"
          ]
        },
        {
          "output_type": "display_data",
          "data": {
            "text/plain": [
              "Testing: |          | 0/? [00:00<?, ?it/s]"
            ],
            "application/vnd.jupyter.widget-view+json": {
              "version_major": 2,
              "version_minor": 0,
              "model_id": "949d0729d39e43339a48a76694ffa5af"
            }
          },
          "metadata": {}
        },
        {
          "output_type": "stream",
          "name": "stdout",
          "text": [
            "test_loss: 1.962888479232788 test_accuracy_micro: 0.9545454382896423 auc: 0.9951738119125366 precision: 0.8030303716659546 recall 0.9090909957885742 f1 0.8333333730697632\n",
            "test_loss: 1.4779531955718994 test_accuracy_micro: 0.9659090638160706 auc: 0.9942084550857544 precision: 0.5833333134651184 recall 0.5909091234207153 f1 0.5748917460441589\n",
            "test_loss: 2.45849347114563 test_accuracy_micro: 0.9659090638160706 auc: 0.9861111640930176 precision: 0.7272727489471436 recall 0.6212121248245239 f1 0.6606060266494751\n",
            "test_loss: 1.699234127998352 test_accuracy_micro: 0.9772727489471436 auc: 1.0 precision: 0.7272727489471436 recall 0.7272727489471436 f1 0.7272727489471436\n",
            "test_loss: 1.5587481260299683 test_accuracy_micro: 1.0 auc: 1.0 precision: 0.6363636255264282 recall 0.6363636255264282 f1 0.6363636255264282\n",
            "test_loss: 1.3723828792572021 test_accuracy_micro: 0.9772727489471436 auc: 1.0 precision: 0.41363635659217834 recall 0.4545454680919647 f1 0.43145743012428284\n",
            "test_loss: 1.7734178304672241 test_accuracy_micro: 0.9772727489471436 auc: 0.9973957538604736 precision: 0.6060606241226196 recall 0.6363636255264282 f1 0.6181818246841431\n",
            "test_loss: 2.883075714111328 test_accuracy_micro: 0.9886363744735718 auc: 0.9992647171020508 precision: 0.7878788709640503 recall 0.8181818723678589 f1 0.8000000715255737\n",
            "test_loss: 2.120114803314209 test_accuracy_micro: 1.0 auc: 0.9999999403953552 precision: 0.8181818723678589 recall 0.8181818723678589 f1 0.8181818723678589\n",
            "test_loss: 2.0947952270507812 test_accuracy_micro: 0.9772727489471436 auc: 0.9961389899253845 precision: 0.8636364936828613 recall 0.8787878751754761 f1 0.8606060743331909\n",
            "test_loss: 3.40411114692688 test_accuracy_micro: 0.9659090638160706 auc: 0.9926470518112183 precision: 0.7045454978942871 recall 0.7272727489471436 f1 0.7142857313156128\n",
            "test_loss: 2.1707842350006104 test_accuracy_micro: 0.9886363744735718 auc: 1.0 precision: 0.6818182468414307 recall 0.7272727489471436 f1 0.696969747543335\n",
            "test_loss: 7.586857318878174 test_accuracy_micro: 0.9545454382896423 auc: 0.9351640939712524 precision: 0.7272727489471436 recall 0.6060606241226196 f1 0.6484848260879517\n",
            "test_loss: 0.587663471698761 test_accuracy_micro: 1.0 auc: 1.0 precision: 0.6363636255264282 recall 0.6363636255264282 f1 0.6363636255264282\n",
            "test_loss: 0.9308433532714844 test_accuracy_micro: 0.9659090638160706 auc: 0.9987180233001709 precision: 0.5 recall 0.5454545617103577 f1 0.5151515007019043\n",
            "test_loss: 2.3084213733673096 test_accuracy_micro: 0.9772727489471436 auc: 1.0 precision: 0.8333334922790527 recall 0.9090909957885742 f1 0.8606061935424805\n",
            "test_loss: 2.452042818069458 test_accuracy_micro: 0.9318181872367859 auc: 0.9835616946220398 precision: 0.4545454680919647 recall 0.5454545617103577 f1 0.4848484992980957\n",
            "test_loss: 1.573378562927246 test_accuracy_micro: 0.9886363744735718 auc: 1.0 precision: 0.772727370262146 recall 0.8181818723678589 f1 0.7878788709640503\n",
            "test_loss: 1.9018607139587402 test_accuracy_micro: 0.9772727489471436 auc: 0.9981735348701477 precision: 0.7545454502105713 recall 0.8181818723678589 f1 0.777777910232544\n",
            "test_loss: 2.450099229812622 test_accuracy_micro: 1.0 auc: 1.0 precision: 0.8181818723678589 recall 0.8181818723678589 f1 0.8181818723678589\n",
            "test_loss: 2.5000810623168945 test_accuracy_micro: 0.9545454382896423 auc: 0.9933719635009766 precision: 0.8181818723678589 recall 0.8181819915771484 f1 0.7878788709640503\n",
            "test_loss: 0.07662913203239441 test_accuracy_micro: 0.9886363744735718 auc: 1.0 precision: 0.3636363744735718 recall 0.3636363744735718 f1 0.3636363744735718\n",
            "test_loss: 1.6959154605865479 test_accuracy_micro: 1.0 auc: 1.0 precision: 0.6363636255264282 recall 0.6363636255264282 f1 0.6363636255264282\n",
            "test_loss: 2.0750555992126465 test_accuracy_micro: 0.9772727489471436 auc: 1.0 precision: 0.575757622718811 recall 0.6363636255264282 f1 0.6000000238418579\n",
            "test_loss: 1.886061668395996 test_accuracy_micro: 0.9431818127632141 auc: 0.9845559597015381 precision: 0.6060606241226196 recall 0.6742424964904785 f1 0.6173160076141357\n",
            "test_loss: 1.7182241678237915 test_accuracy_micro: 0.9886363744735718 auc: 0.9991319179534912 precision: 0.7272727489471436 recall 0.7272727489471436 f1 0.7272727489471436\n",
            "test_loss: 1.4730055332183838 test_accuracy_micro: 0.9545454382896423 auc: 1.0 precision: 0.7272727489471436 recall 0.9090909957885742 f1 0.7878788709640503\n",
            "test_loss: 1.6501388549804688 test_accuracy_micro: 1.0 auc: 0.9999999403953552 precision: 0.8181818723678589 recall 0.8181818723678589 f1 0.8181818723678589\n",
            "test_loss: 1.950291633605957 test_accuracy_micro: 0.9659090638160706 auc: 0.9844748973846436 precision: 0.5909091234207153 recall 0.5606061220169067 f1 0.5727273225784302\n",
            "test_loss: 2.627530813217163 test_accuracy_micro: 1.0 auc: 1.0 precision: 0.8181818723678589 recall 0.8181818723678589 f1 0.8181818723678589\n",
            "test_loss: 2.5900213718414307 test_accuracy_micro: 0.9772727489471436 auc: 0.9969488978385925 precision: 0.6515151262283325 recall 0.7272727489471436 f1 0.6787879467010498\n",
            "test_loss: 2.6561458110809326 test_accuracy_micro: 1.0 auc: 1.0 precision: 0.7272727489471436 recall 0.7272727489471436 f1 0.7272727489471436\n",
            "test_loss: 3.0843307971954346 test_accuracy_micro: 0.9318181872367859 auc: 0.9801160097122192 precision: 0.6818182468414307 recall 0.772727370262146 f1 0.7121212482452393\n",
            "test_loss: 2.2647199630737305 test_accuracy_micro: 0.9772727489471436 auc: 0.9982638359069824 precision: 0.6363636255264282 recall 0.6363636255264282 f1 0.6363636255264282\n",
            "test_loss: 0.7663600444793701 test_accuracy_micro: 0.9886363744735718 auc: 1.0 precision: 0.6060606241226196 recall 0.6363636255264282 f1 0.6181818246841431\n",
            "test_loss: 1.2014092206954956 test_accuracy_micro: 0.9886363744735718 auc: 0.9969230890274048 precision: 0.7878788709640503 recall 0.8181818723678589 f1 0.8000000715255737\n",
            "test_loss: 1.3105568885803223 test_accuracy_micro: 0.9772727489471436 auc: 1.0 precision: 0.5681818723678589 recall 0.6363636255264282 f1 0.5930736064910889\n",
            "test_loss: 0.9871236681938171 test_accuracy_micro: 1.0 auc: 1.0 precision: 0.6363636255264282 recall 0.6363636255264282 f1 0.6363636255264282\n",
            "test_loss: 1.394368052482605 test_accuracy_micro: 0.9772727489471436 auc: 1.0 precision: 0.8333333730697632 recall 0.9090909957885742 f1 0.8606060743331909\n",
            "test_loss: 2.7566888332366943 test_accuracy_micro: 0.9545454382896423 auc: 0.9968253970146179 precision: 0.6818182468414307 recall 0.696969747543335 f1 0.6787879467010498\n",
            "test_loss: 4.351203918457031 test_accuracy_micro: 0.9090909361839294 auc: 0.9175823926925659 precision: 0.40909093618392944 recall 0.3636363744735718 f1 0.3636363744735718\n",
            "test_loss: 3.1411330699920654 test_accuracy_micro: 0.8787878751754761 auc: 0.8793103098869324 precision: 0.1818181872367859 recall 0.13636364042758942 f1 0.1515151560306549\n",
            "test_loss: 1.6553692817687988 test_accuracy_micro: 1.0 auc: 1.0 precision: 0.27272728085517883 recall 0.27272728085517883 f1 0.27272728085517883\n",
            "test_loss: 1.6804327964782715 test_accuracy_micro: 1.0 auc: 1.0 precision: 0.3636363744735718 recall 0.3636363744735718 f1 0.3636363744735718\n"
          ]
        },
        {
          "output_type": "display_data",
          "data": {
            "text/plain": [
              "┏━━━━━━━━━━━━━━━━━━━━━━━━━━━┳━━━━━━━━━━━━━━━━━━━━━━━━━━━┓\n",
              "┃\u001b[1m \u001b[0m\u001b[1m       Test metric       \u001b[0m\u001b[1m \u001b[0m┃\u001b[1m \u001b[0m\u001b[1m      DataLoader 0       \u001b[0m\u001b[1m \u001b[0m┃\n",
              "┡━━━━━━━━━━━━━━━━━━━━━━━━━━━╇━━━━━━━━━━━━━━━━━━━━━━━━━━━┩\n",
              "│\u001b[36m \u001b[0m\u001b[36m           auc           \u001b[0m\u001b[36m \u001b[0m│\u001b[35m \u001b[0m\u001b[35m   0.9910013675689697    \u001b[0m\u001b[35m \u001b[0m│\n",
              "│\u001b[36m \u001b[0m\u001b[36m           f1            \u001b[0m\u001b[36m \u001b[0m│\u001b[35m \u001b[0m\u001b[35m   0.6528170704841614    \u001b[0m\u001b[35m \u001b[0m│\n",
              "│\u001b[36m \u001b[0m\u001b[36m        precision        \u001b[0m\u001b[36m \u001b[0m│\u001b[35m \u001b[0m\u001b[35m   0.6493113040924072    \u001b[0m\u001b[35m \u001b[0m│\n",
              "│\u001b[36m \u001b[0m\u001b[36m         recall          \u001b[0m\u001b[36m \u001b[0m│\u001b[35m \u001b[0m\u001b[35m   0.6713154911994934    \u001b[0m\u001b[35m \u001b[0m│\n",
              "│\u001b[36m \u001b[0m\u001b[36m   test_accuracy_micro   \u001b[0m\u001b[36m \u001b[0m│\u001b[35m \u001b[0m\u001b[35m   0.9742595553398132    \u001b[0m\u001b[35m \u001b[0m│\n",
              "│\u001b[36m \u001b[0m\u001b[36m        test_loss        \u001b[0m\u001b[36m \u001b[0m│\u001b[35m \u001b[0m\u001b[35m   2.0968172550201416    \u001b[0m\u001b[35m \u001b[0m│\n",
              "└───────────────────────────┴───────────────────────────┘\n"
            ],
            "text/html": [
              "<pre style=\"white-space:pre;overflow-x:auto;line-height:normal;font-family:Menlo,'DejaVu Sans Mono',consolas,'Courier New',monospace\">┏━━━━━━━━━━━━━━━━━━━━━━━━━━━┳━━━━━━━━━━━━━━━━━━━━━━━━━━━┓\n",
              "┃<span style=\"font-weight: bold\">        Test metric        </span>┃<span style=\"font-weight: bold\">       DataLoader 0        </span>┃\n",
              "┡━━━━━━━━━━━━━━━━━━━━━━━━━━━╇━━━━━━━━━━━━━━━━━━━━━━━━━━━┩\n",
              "│<span style=\"color: #008080; text-decoration-color: #008080\">            auc            </span>│<span style=\"color: #800080; text-decoration-color: #800080\">    0.9910013675689697     </span>│\n",
              "│<span style=\"color: #008080; text-decoration-color: #008080\">            f1             </span>│<span style=\"color: #800080; text-decoration-color: #800080\">    0.6528170704841614     </span>│\n",
              "│<span style=\"color: #008080; text-decoration-color: #008080\">         precision         </span>│<span style=\"color: #800080; text-decoration-color: #800080\">    0.6493113040924072     </span>│\n",
              "│<span style=\"color: #008080; text-decoration-color: #008080\">          recall           </span>│<span style=\"color: #800080; text-decoration-color: #800080\">    0.6713154911994934     </span>│\n",
              "│<span style=\"color: #008080; text-decoration-color: #008080\">    test_accuracy_micro    </span>│<span style=\"color: #800080; text-decoration-color: #800080\">    0.9742595553398132     </span>│\n",
              "│<span style=\"color: #008080; text-decoration-color: #008080\">         test_loss         </span>│<span style=\"color: #800080; text-decoration-color: #800080\">    2.0968172550201416     </span>│\n",
              "└───────────────────────────┴───────────────────────────┘\n",
              "</pre>\n"
            ]
          },
          "metadata": {}
        },
        {
          "output_type": "execute_result",
          "data": {
            "text/plain": [
              "[{'test_loss': 2.0968172550201416,\n",
              "  'test_accuracy_micro': 0.9742595553398132,\n",
              "  'auc': 0.9910013675689697,\n",
              "  'precision': 0.6493113040924072,\n",
              "  'recall': 0.6713154911994934,\n",
              "  'f1': 0.6528170704841614}]"
            ]
          },
          "metadata": {},
          "execution_count": 89
        }
      ],
      "source": [
        "trainer.test(model=classification_module, datamodule=data_module, verbose=True)"
      ]
    },
    {
      "cell_type": "markdown",
      "source": [
        "# TSNE"
      ],
      "metadata": {
        "id": "BtFuX8SuCGr-"
      }
    },
    {
      "cell_type": "code",
      "source": [
        "TSNE_model = VideoClassificationLightningModule.load_from_checkpoint(best_checkpoint_path)\n",
        "TSNE_model.to('cpu')\n",
        "TSNE_model.model.blocks.pop(6)\n",
        "TSNE_model.eval()\n",
        "print(\"done\")"
      ],
      "metadata": {
        "colab": {
          "base_uri": "https://localhost:8080/"
        },
        "id": "ULEPmSyTCILk",
        "outputId": "47170f91-3af9-4acb-af3c-456b76bc26b3"
      },
      "execution_count": null,
      "outputs": [
        {
          "output_type": "stream",
          "name": "stderr",
          "text": [
            "Using cache found in /root/.cache/torch/hub/facebookresearch_pytorchvideo_main\n"
          ]
        },
        {
          "output_type": "stream",
          "name": "stdout",
          "text": [
            "done\n"
          ]
        }
      ]
    },
    {
      "cell_type": "code",
      "source": [
        "from sklearn.manifold import TSNE\n",
        "import random\n",
        "import matplotlib.pyplot as plt"
      ],
      "metadata": {
        "id": "RbmJ1rHPCLHt"
      },
      "execution_count": null,
      "outputs": []
    },
    {
      "cell_type": "code",
      "source": [
        "seed = 10\n",
        "random.seed(seed)\n",
        "torch.manual_seed(seed)\n",
        "np.random.seed(seed)"
      ],
      "metadata": {
        "id": "7myJZnrNCMJ_"
      },
      "execution_count": null,
      "outputs": []
    },
    {
      "cell_type": "code",
      "source": [
        "labels = []\n",
        "features = None"
      ],
      "metadata": {
        "id": "W_oirFUNCOJ6"
      },
      "execution_count": null,
      "outputs": []
    },
    {
      "cell_type": "code",
      "source": [
        "thingy = data_module.test_dataloader()\n",
        "for batch in thingy:\n",
        "  x = batch[\"video\"]\n",
        "  labels += batch[\"label\"]\n",
        "\n",
        "  with torch.no_grad():\n",
        "    output = TSNE_model(x)\n",
        "    output = torch.flatten(output, 1)\n",
        "\n",
        "  current_features = output.cpu().numpy()\n",
        "\n",
        "  if features is not None:\n",
        "    features = np.concatenate((features, current_features))\n",
        "  else:\n",
        "    features = current_features"
      ],
      "metadata": {
        "id": "zLsYVEWECPrb"
      },
      "execution_count": null,
      "outputs": []
    },
    {
      "cell_type": "code",
      "source": [
        "tsne = TSNE(n_components=2).fit_transform(features)"
      ],
      "metadata": {
        "id": "RnJeizXECSW7"
      },
      "execution_count": null,
      "outputs": []
    },
    {
      "cell_type": "code",
      "source": [
        "# scale and move the coordinates so they fit [0; 1] range\n",
        "def scale_to_01_range(x):\n",
        "    # compute the distribution range\n",
        "    value_range = (np.max(x) - np.min(x))\n",
        "\n",
        "    # move the distribution so that it starts from zero\n",
        "    # by extracting the minimal value from all its values\n",
        "    starts_from_zero = x - np.min(x)\n",
        "\n",
        "    # make the distribution fit [0; 1] by dividing by its range\n",
        "    return starts_from_zero / value_range\n",
        "\n",
        "# extract x and y coordinates representing the positions of the images on T-SNE plot\n",
        "tx = tsne[:, 0]\n",
        "ty = tsne[:, 1]\n",
        "\n",
        "tx = scale_to_01_range(tx)\n",
        "ty = scale_to_01_range(ty)"
      ],
      "metadata": {
        "id": "5PXEvxJlCUJz"
      },
      "execution_count": null,
      "outputs": []
    },
    {
      "cell_type": "code",
      "source": [
        "colors_per_class = {\n",
        "    0: [254, 202, 87],\n",
        "    1: [255, 107, 107],\n",
        "    2: [10, 189, 227],\n",
        "    3: [255, 159, 243],\n",
        "    4: [16, 172, 132],\n",
        "    5: [128, 80, 128],\n",
        "    6: [87, 101, 116],\n",
        "    7: [52, 31, 151],\n",
        "    8: [0, 0, 0],\n",
        "    9: [100, 100, 255],\n",
        "    10: [128, 109, 84],\n",
        "    11: [15, 245, 218],\n",
        "    12: [242, 10, 21],\n",
        "    13: [242, 10, 149],\n",
        "    14: [40, 242, 0],\n",
        "    15: [255, 153, 10]\n",
        "}"
      ],
      "metadata": {
        "id": "QVF3CvuOCVZH"
      },
      "execution_count": null,
      "outputs": []
    },
    {
      "cell_type": "code",
      "source": [
        "# initialize a matplotlib plot\n",
        "fig = plt.figure()\n",
        "ax = fig.add_subplot(111)\n",
        "\n",
        "# for every class, we'll add a scatter plot separately\n",
        "for label in colors_per_class:\n",
        "    # find the samples of the current class in the data\n",
        "    indices = [i for i, l in enumerate(labels) if l == label]\n",
        "\n",
        "    # extract the coordinates of the points of this class only\n",
        "    current_tx = np.take(tx, indices)\n",
        "    current_ty = np.take(ty, indices)\n",
        "\n",
        "    # convert the class color to matplotlib format\n",
        "    color = np.array(colors_per_class[label], dtype=np.float) / 255\n",
        "\n",
        "    # add a scatter plot with the corresponding color and label\n",
        "    ax.scatter(current_tx, current_ty, c=color, label=label, s=15)\n",
        "\n",
        "# build a legend using the labels we set previously\n",
        "ax.legend(loc='best')\n",
        "\n",
        "# finally, show the plot\n",
        "plt.show()"
      ],
      "metadata": {
        "colab": {
          "base_uri": "https://localhost:8080/",
          "height": 537
        },
        "id": "7rIVvzH-CWkq",
        "outputId": "a1edde73-53a9-489b-b8aa-d196f222e643"
      },
      "execution_count": null,
      "outputs": [
        {
          "output_type": "stream",
          "name": "stderr",
          "text": [
            "<ipython-input-45-885392fecd81>:15: DeprecationWarning: `np.float` is a deprecated alias for the builtin `float`. To silence this warning, use `float` by itself. Doing this will not modify any behavior and is safe. If you specifically wanted the numpy scalar type, use `np.float64` here.\n",
            "Deprecated in NumPy 1.20; for more details and guidance: https://numpy.org/devdocs/release/1.20.0-notes.html#deprecations\n",
            "  color = np.array(colors_per_class[label], dtype=np.float) / 255\n",
            "<ipython-input-45-885392fecd81>:18: UserWarning: *c* argument looks like a single numeric RGB or RGBA sequence, which should be avoided as value-mapping will have precedence in case its length matches with *x* & *y*.  Please use the *color* keyword-argument or provide a 2D array with a single row if you intend to specify the same RGB or RGBA value for all points.\n",
            "  ax.scatter(current_tx, current_ty, c=color, label=label, s=15)\n"
          ]
        },
        {
          "output_type": "display_data",
          "data": {
            "text/plain": [
              "<Figure size 640x480 with 1 Axes>"
            ],
            "image/png": "[encoded data removed]"
          },
          "metadata": {}
        }
      ]
    }
  ],
  "metadata": {
    "colab": {
      "collapsed_sections": [
        "zF1yCYSsRjY5",
        "POxqkd5aRrmt",
        "BtFuX8SuCGr-"
      ],
      "provenance": [],
      "machine_shape": "hm",
      "gpuType": "V100"
    },
    "kernelspec": {
      "display_name": "Python 3",
      "name": "python3"
    },
    "language_info": {
      "name": "python"
    },
    "accelerator": "GPU"
  },
  "nbformat": 4,
  "nbformat_minor": 0
}